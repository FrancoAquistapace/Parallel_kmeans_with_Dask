{
 "cells": [
  {
   "cell_type": "markdown",
   "id": "0eb78d89-8c1e-4565-a5a3-5035f5673d28",
   "metadata": {},
   "source": [
    "# Distributed Algorithms with Dask: K-Means||\n",
    "\n",
    "Group members:\n",
    "- Franco Aquistapace\n",
    "- Hooman Sabzi\n",
    "- Daize Li"
   ]
  },
  {
   "cell_type": "markdown",
   "id": "8a1a19ff-deb4-47bc-9130-e404ca6a9d04",
   "metadata": {},
   "source": [
    "## Imports and configuration"
   ]
  },
  {
   "cell_type": "code",
   "execution_count": 1,
   "id": "95f31192-09b6-4272-a4c2-730e9e580c79",
   "metadata": {},
   "outputs": [],
   "source": [
    "# Import Dask\n",
    "import dask"
   ]
  },
  {
   "cell_type": "code",
   "execution_count": 2,
   "id": "4b152de5-1b72-469f-b126-26266d599514",
   "metadata": {},
   "outputs": [
    {
     "data": {
      "text/plain": [
       "<dask.config.set at 0x7503201a9b40>"
      ]
     },
     "execution_count": 2,
     "metadata": {},
     "output_type": "execute_result"
    }
   ],
   "source": [
    "# Set up Dask configuration:\n",
    "# Retries for connections\n",
    "dask.config.set({'distributed.comm.retry.count': 5, \n",
    "                 'distributed.worker.use-file-locking': False, \n",
    "                 'distributed.worker.transfer.message-bytes-limit': '200MB',\n",
    "                 'distributed.scheduler.worker-ttl': None})"
   ]
  },
  {
   "cell_type": "code",
   "execution_count": 3,
   "id": "006cec75-b433-4dc0-8120-cc949ec0c336",
   "metadata": {},
   "outputs": [],
   "source": [
    "# Import libraries\n",
    "# Dask\n",
    "from dask.distributed import Client, SSHCluster, progress, LocalCluster\n",
    "import dask.array as da\n",
    "import dask.dataframe as dd\n",
    "# Others\n",
    "import numpy as np\n",
    "import pandas as pd\n",
    "import matplotlib.pyplot as plt\n",
    "import time\n",
    "from sklearn.datasets import fetch_rcv1, fetch_kddcup99"
   ]
  },
  {
   "cell_type": "code",
   "execution_count": 4,
   "id": "6e49e066-75bd-46c3-85f0-91dd152d2f01",
   "metadata": {},
   "outputs": [],
   "source": [
    "def open_cluster():\n",
    "    cluster = SSHCluster(\n",
    "        [\"10.67.22.240\", \"10.67.22.240\", \"10.67.22.17\", \"10.67.22.100\", \"10.67.22.126\"],\n",
    "        connect_options={\"known_hosts\": None},\n",
    "        worker_options={\"nthreads\": 1, \"memory_limit\": \"2GB\"},\n",
    "        scheduler_options={\"port\": 0, \"dashboard_address\": \":8787\"}\n",
    "    )\n",
    "    client = Client(cluster)\n",
    "    return cluster, client"
   ]
  },
  {
   "cell_type": "code",
   "execution_count": 5,
   "id": "0a42af0f-8fa7-4f0d-852a-b4c9bbe8a5e5",
   "metadata": {},
   "outputs": [],
   "source": [
    "def close_cluster(cluster, client):\n",
    "    cluster.close()\n",
    "    client.close()"
   ]
  },
  {
   "cell_type": "markdown",
   "id": "2ade722d-8e3e-4a01-b39a-6e23c70dfcf9",
   "metadata": {},
   "source": [
    "## Developing the K-means|| algorithm"
   ]
  },
  {
   "cell_type": "markdown",
   "id": "787f1e63-fc3a-40d6-aff5-200a747aae2c",
   "metadata": {},
   "source": [
    "### Auxiliary functions"
   ]
  },
  {
   "cell_type": "markdown",
   "id": "c2454867-d2c3-46dc-94a8-5f778a59934f",
   "metadata": {},
   "source": [
    "One important function here is the cost:\n",
    "\n",
    "$$\\phi_X(C) = \\sum_{x\\in X} d^2(x, C) = \\sum_{x\\in X} \\min_{i=1,..., k}||x-c_i||^2$$\n",
    "\n",
    "Notice that:\n",
    "\n",
    "$$||x-y||^2 = \\sum_j (x_j - y_j)^2 = \\sum_j x_j^2 - 2x_j y_j + y_j^2$$\n",
    "\n",
    "Then, for $x_n\\in\\{x_1, x_2, ..., x_{|X|}\\}$ and $c_m\\in{c_1, c_2, ..., c_{|C|}}$, we can define the squared distance matrix $D^2\\in\\mathbb{R}^{|X|\\times |C|}$ as:\n",
    "\n",
    "$$D^2_{nm} = ||x_n-c_m||^2 = \\sum_j x_{nj}^2 - 2x_{nj} c_{mj} + c_{mj}^2$$\n",
    "\n",
    "$$D^2_{nm} = \\sum_j x_{nj}x^T_{jn} - 2\\sum_j x_{nj} c^T_{jm} + \\sum_j c_{mj}c^T_{jm} = (XX^T)_{nn} - 2 (XC^T)_{nm} + (CC^T)_{mm}$$\n",
    "\n",
    "Furthermore, notice that if the data $X$ is fixed, then the matrix $(XX^T)$ is constant and does not depend on the choice of centroids $C$. Therefore, we may calculate the vector $(XX^T)_{nn}$ at the beggining of the process and store it so that we don't need to recalculate it every time we want to estimate the cost function."
   ]
  },
  {
   "cell_type": "code",
   "execution_count": 6,
   "id": "a9929f4c-b770-4a4a-8adb-8b8a154ab3fc",
   "metadata": {},
   "outputs": [],
   "source": [
    "def get_first_sample(data_path):\n",
    "    '''\n",
    "    Params:\n",
    "        data_path : str\n",
    "            Path to a given data file.\n",
    "    Output:\n",
    "        Returns the first row of the given data.\n",
    "    '''\n",
    "    # Read only first row using pandas\n",
    "    return pd.read_csv(data_path, nrows=1)\n",
    "\n",
    "\n",
    "def get_XXT_term(X):\n",
    "    '''\n",
    "    Params:\n",
    "        X : Dask array or dataframe\n",
    "            Array containing data points.\n",
    "    Output:\n",
    "        Returns the self multiplication term from the\n",
    "        squared distance matrix formula.\n",
    "    '''\n",
    "    # Turn into array\n",
    "    X_da = da.array(X)\n",
    "    # Get diagonal of X*X_T\n",
    "    XXT = da.einsum('ij,ij -> i', X_da, X_da)\n",
    "    return XXT\n",
    "\n",
    "\n",
    "def partial_squared_dist_matrix(C, X):\n",
    "    '''\n",
    "    Params:\n",
    "        C : Dask array or dataframe\n",
    "            Array containing centroid locations\n",
    "        X : Dask array or dataframe\n",
    "            Array containing data points.\n",
    "    Output:\n",
    "        Returns the partial squared distance matrix, \n",
    "        evaluated over the set of points X with respect \n",
    "        to the centroids C. The partial matrix is defined\n",
    "        as:\n",
    "         D'^2 = 2*XC^T + CC^T\n",
    "    '''\n",
    "    # Turn into arrays\n",
    "    X_da = da.array(X)\n",
    "    \n",
    "    # Calculate XC term\n",
    "    XC_term = da.einsum('nj, mj -> nm', X_da, C)\n",
    "\n",
    "    # Calculate CC term\n",
    "    CC_term = da.einsum('ij,ij -> i', C, C)\n",
    "    \n",
    "    return -2*XC_term + CC_term\n",
    "    \n",
    "\n",
    "def cost_function(C, X, XXT):\n",
    "    '''\n",
    "    Params:\n",
    "        C : Dask array or dataframe\n",
    "            Array containing centroid locations\n",
    "        X : Dask array or dataframe\n",
    "            Array containing data points.\n",
    "        XXT : Dask array or dataframe\n",
    "            Array with same number of rows as X, \n",
    "            containing the X*X^T term of the\n",
    "            squared distance matrix.\n",
    "    Output:\n",
    "        Returns the K-means cost function, evaluated\n",
    "        over the set of points X with respect to the\n",
    "        centroids C.\n",
    "    '''\n",
    "    # First, get partial squared distances\n",
    "    D2 = partial_squared_dist_matrix(C, X)\n",
    "\n",
    "    # Minimize over C axis and sum\n",
    "    D2_min_sum = da.sum(da.min(D2, axis=1))\n",
    "\n",
    "    # Add to XXT sum and return\n",
    "    return da.sum(XXT) + D2_min_sum\n",
    "\n",
    "\n",
    "def sample_new_centroids(C, X, XXT, phi, l):\n",
    "    '''\n",
    "    Params:\n",
    "        C : Dask array or dataframe\n",
    "            Array containing centroid locations\n",
    "        X : Dask array or dataframe\n",
    "            Array containing data points.\n",
    "        XXT : Dask array or dataframe\n",
    "            Array with same number of rows as X, \n",
    "            containing the X*X^T term of the\n",
    "            squared distance matrix.\n",
    "        phi : float\n",
    "            Current cost function for the data X\n",
    "            and the centroids C.\n",
    "        l : float or int\n",
    "            Oversampling factor, must be greater \n",
    "            than zero.\n",
    "    Output:\n",
    "        Returns new centroids from X, sampled with\n",
    "        probability:\n",
    "             p_x = l * D^2 / phi\n",
    "        where D^2 is the squared distance from x to\n",
    "        C and phi is the current cost function.\n",
    "    '''\n",
    "    # Get D^2\n",
    "    partial_D_sq = partial_squared_dist_matrix(C, X)\n",
    "    D_sq = da.add(XXT, da.min(partial_D_sq, axis=1))\n",
    "\n",
    "    # Get sampling probabilities\n",
    "    p_X = (l * D_sq / phi).compute_chunk_sizes()\n",
    "    \n",
    "    # Draw random numbers between 0 and 1\n",
    "    rand_nums = da.random.uniform(size=p_X.shape)\n",
    "\n",
    "    # Get new centroid indexes\n",
    "    C_prime_idx = rand_nums < p_X\n",
    "\n",
    "    # Gather new centroids from the data\n",
    "    if isinstance(X, dd.DataFrame):\n",
    "        C_prime = X.loc[C_prime_idx]\n",
    "    else:\n",
    "        C_prime = X[C_prime_idx]\n",
    "    return C_prime\n",
    "\n",
    "def get_cluster_classification(C, X, XXT):\n",
    "    '''\n",
    "    Params:\n",
    "        C : Dask array or dataframe\n",
    "            Array containing centroid locations\n",
    "        X : Dask array or dataframe\n",
    "            Array containing data points.\n",
    "    Output:\n",
    "        Returns the corresponding centroid in C\n",
    "        for each sample in X.\n",
    "    '''\n",
    "    # Get partial squared distances\n",
    "    partial_D_sq = partial_squared_dist_matrix(C, X)\n",
    "\n",
    "    # Select the correct centroid from arg min\n",
    "    C_ids = da.argmin(partial_D_sq, axis=1)\n",
    "    return C_ids\n",
    "\n",
    "def get_centroid_weights(labels):\n",
    "    '''\n",
    "    Params:\n",
    "        labels : array\n",
    "            Set of labels indicating the centroid of\n",
    "            each data point.\n",
    "    Output:\n",
    "        Returns the weight of each centroid, defined \n",
    "        as the number of samples in the data closer\n",
    "        to that centroid than to any other centroid.\n",
    "    '''\n",
    "    unique_labels, counts = da.unique(da.array(labels), return_counts=True)\n",
    "    return unique_labels, counts\n",
    "\n",
    "\n",
    "def compute_centroids(X, weights, labels, dims):\n",
    "    '''\n",
    "    Params:\n",
    "        X : array\n",
    "            Array containing data points.\n",
    "        weights : array\n",
    "            Weight for each data point.\n",
    "        labels : array\n",
    "            Set of labels indicating the cluster of\n",
    "            each data point.\n",
    "        dims : int\n",
    "            Number of dimensions of the given data.\n",
    "    Output:\n",
    "        Returns the centroids for the given data and\n",
    "        the given partition.\n",
    "    '''    \n",
    "    # Turn data into Dask array\n",
    "    X = da.array(X)\n",
    "    weights = da.array(weights)\n",
    "    \n",
    "    # Get unique labels\n",
    "    unique_l = da.unique(da.array(labels)).compute_chunk_sizes()\n",
    "\n",
    "    # Init new centroids\n",
    "    C = da.array(np.zeros(shape=(len(unique_l), dims)))\n",
    "\n",
    "    # Operate for each unique cluster\n",
    "    for i, idx in enumerate(unique_l):\n",
    "        # Get data\n",
    "        C_data = X[labels == idx, :].compute_chunk_sizes()\n",
    "        data_weights = weights[labels == idx].compute_chunk_sizes()\n",
    "\n",
    "        # Calculate weighted mean as new centroid\n",
    "        new_C = da.average(C_data, axis=0, weights=data_weights)\n",
    "\n",
    "        # Store new centroid\n",
    "        C[i,:] += new_C\n",
    "        \n",
    "    return C\n",
    "\n",
    "\n",
    "# Complete k-means pipeline\n",
    "def k_means_parallel(path, k, l, random_seed=None, label_column=None,\n",
    "                     datatype='dataframe', npartitions=1, chunk_size=1000,\n",
    "                     verbose=2, data=None):\n",
    "    '''\n",
    "    Params:\n",
    "        path : str\n",
    "            Path to the file containing the input data. If \"rcv1\", then\n",
    "            the RCV1 dataset is downloaded inside the function.\n",
    "        k : int\n",
    "            Number of clusters to use.\n",
    "        l : int or float\n",
    "            Oversampling factor for the K-means|| initialization method.\n",
    "        random_seed : int (optional)\n",
    "            Seed for the random number generators. Not used by default.\n",
    "        label_column : str (optional)\n",
    "            Name of the column containing the labels of the data. Not\n",
    "            used by default.\n",
    "        datatype : str (optional)\n",
    "            Either \"dataframe\" (default) or \"array\". Indicates how to\n",
    "            process the input data.\n",
    "        npartitions : int (optional)\n",
    "            Number of partitions to use if the data is processed as a\n",
    "            dataframe. Default is 1.\n",
    "        chunk_size : int (optional)\n",
    "            Chunk size to use if the data is processed as an array.\n",
    "            Default is 1000.\n",
    "        verbose : int (optional)\n",
    "            Amount of information to print. If 0, no information is \n",
    "            printed. If 1, only timing information is printed. If 2\n",
    "            (default), all information is printed.\n",
    "        data : array (optional)\n",
    "            Predefned data to run the algorithm on. If given, then path\n",
    "            is ignored. Not used by default.\n",
    "    Output:\n",
    "        Returns a dictionary with the following elements:\n",
    "            - centroids : array       -> Centroid positions\n",
    "            - cluster_labels : array  -> Cluster assignments\n",
    "            - timing : dict           -> Performance information\n",
    "    '''\n",
    "    # Begin overall timing\n",
    "    t1 = time.time()\n",
    "    \n",
    "    # Initialize random number generator from Dask and numpy seed\n",
    "    if random_seed != None:\n",
    "        rng = da.random.default_rng(random_seed)\n",
    "        np.random.seed(random_seed)\n",
    "\n",
    "    # Read input data (if not given)\n",
    "    t_data = time.time()\n",
    "    if type(data) == type(None):\n",
    "        pre_data = False\n",
    "        if verbose == 2:\n",
    "            print('Reading input data')\n",
    "    \n",
    "        if path not in ['rcv1']:\n",
    "            data = pd.read_csv(path)\n",
    "            data_shape = data.shape\n",
    "            \n",
    "        elif path == 'rcv1':\n",
    "            # Load RCV1 dataset\n",
    "            rcv1 = fetch_rcv1()\n",
    "            data = rcv1.data\n",
    "            data_shape = data.shape\n",
    "    else:\n",
    "        pre_data = True\n",
    "        data_shape = data.shape\n",
    "    dt_data = time.time() - t_data\n",
    "\n",
    "    # Separate labels from input\n",
    "    t_data_process = time.time()\n",
    "    if label_column != None:\n",
    "        # Input\n",
    "        X_width = data_shape[1]-1\n",
    "        X = data.drop(columns=[label_column])\n",
    "        X = dd.from_pandas(X, npartitions=npartitions)\n",
    "        X = X.persist()  # split\n",
    "        client.rebalance(X)  # spread around all of your workers\n",
    "        \n",
    "    else:\n",
    "        # Only input\n",
    "        X_width = data_shape[1]\n",
    "        X = data\n",
    "        X = dd.from_pandas(X, npartitions=npartitions)\n",
    "        X = X.persist()  # split\n",
    "        client.rebalance(X)  # spread around all of your workers\n",
    "        \n",
    "    dt_data_process = time.time() - t_data_process\n",
    "    if verbose > 0:\n",
    "        print(f'Data loaded and processed in {round(dt_data_process + dt_data, 1)} s')\n",
    "\n",
    "    # Run the K-means algorithm:\n",
    "    # Get first sample as initial centroid\n",
    "    t_first_centroid = time.time()\n",
    "    if path not in ['rcv1']:\n",
    "        if pre_data:\n",
    "            first_sample = np.array(X[0,:])\n",
    "        else:\n",
    "            first_sample = get_first_sample(path)\n",
    "    elif path == 'rcv1':\n",
    "        first_sample = data[0,:].toarray()\n",
    "        \n",
    "    if label_column != None:\n",
    "        first_sample = first_sample.drop(columns=[label_column])\n",
    "    C = da.array([np.array(first_sample).flatten()])\n",
    "\n",
    "    dt_first_centroid = time.time() - t_first_centroid\n",
    "    \n",
    "    # Calculate constant XXT term, \n",
    "    # also persist since we are going to reuse it \n",
    "    t_xxt = time.time()\n",
    "    XXT = get_XXT_term(X).persist()\n",
    "    dt_xxt = time.time() - t_xxt\n",
    "    \n",
    "    # Get initial cost function\n",
    "    t_phi_init = time.time()\n",
    "    phi_init = cost_function(C, X, XXT).compute()\n",
    "    dt_phi_init = time.time() - t_phi_init\n",
    "    \n",
    "    # Get number of iterations of the || algorithm\n",
    "    O_log_phi = round(np.log(phi_init))\n",
    "    \n",
    "    # Init current cost\n",
    "    phi = phi_init.copy()\n",
    "\n",
    "    # Proceed with main || loop\n",
    "    t_parallel_init = time.time()\n",
    "    if verbose == 2:\n",
    "        print('\\nRunning K-means|| initialization:')\n",
    "    for i in range(O_log_phi):\n",
    "        if verbose == 2:\n",
    "            print(f'Iteration {i+1} of {O_log_phi}')\n",
    "            \n",
    "        # Sample new centroids\n",
    "        C_prime = sample_new_centroids(C, X, XXT, phi, l)\n",
    "    \n",
    "        # Add to the current centroids\n",
    "        C = da.vstack([C, C_prime]).compute()\n",
    "    \n",
    "        # Calculate new cost and update current\n",
    "        phi = cost_function(C, X, XXT).compute()\n",
    "    \n",
    "    if verbose == 2:\n",
    "        # Print number of final centroids from ||\n",
    "        print('\\nNumber of initialized centroids:', C.shape[0])\n",
    "        \n",
    "        # Print initial vs. final cost\n",
    "        print('Cost before initialization:', phi_init)\n",
    "        print('Cost after initialization:', phi)\n",
    "\n",
    "    dt_parallel_init = time.time() - t_parallel_init\n",
    "    if verbose > 0:\n",
    "        print(f'K-means|| initialization finished in {round(dt_parallel_init, 1)} s')\n",
    "    \n",
    "    # Get the weight of each centroid\n",
    "    if verbose == 2:\n",
    "        print('\\nCalculating centroid weights')\n",
    "    t_weight_calc = time.time()\n",
    "    X_labels = get_cluster_classification(C, X, XXT).compute_chunk_sizes()\n",
    "    used_C, w_C = get_centroid_weights(X_labels)\n",
    "    used_C = used_C.compute()\n",
    "    w_C = w_C.compute()\n",
    "\n",
    "    dt_weight_calc = time.time() - t_weight_calc\n",
    "    if verbose > 0:\n",
    "        print(f'Centroid weight calculation finished in {round(dt_weight_calc, 1)} s')\n",
    "\n",
    "    # Proceed with Lloyd's algorithm on the centroids\n",
    "    t_lloyd = time.time()\n",
    "    if verbose == 2:\n",
    "        print('\\nClustering centroids')\n",
    "    \n",
    "    # Initialize k final centroids, as the k-th heaviest\n",
    "    # centroids from the previous step\n",
    "    C_f = C[np.isin(w_C, np.sort(w_C, )[len(w_C)-k:])]\n",
    "    \n",
    "    # Calculate XXT for centroids\n",
    "    CCT =  get_XXT_term(C).persist()\n",
    "    \n",
    "    # Perform iterative adjustments\n",
    "    lloyd_done = False\n",
    "    N_lloyd_steps = 0\n",
    "    while not lloyd_done:\n",
    "        # Save old labels (after first iteration)\n",
    "        if N_lloyd_steps > 0:\n",
    "            old_labels = C_labels.copy()\n",
    "        \n",
    "        # Calculate current clustering\n",
    "        C_labels = get_cluster_classification(C_f, C, CCT).persist()\n",
    "    \n",
    "        # Compute new centroids from mean within clusters\n",
    "        C_f = compute_centroids(C, w_C, C_labels, X_width).compute()\n",
    "        \n",
    "        # Check for termination condition (after first iteration)\n",
    "        if N_lloyd_steps > 0:\n",
    "            different_labels = da.sum(old_labels != C_labels).compute()\n",
    "            if different_labels == 0:\n",
    "                lloyd_done = True\n",
    "    \n",
    "        # Increase step counter\n",
    "        N_lloyd_steps += 1\n",
    "    dt_lloyd = time.time() - t_lloyd\n",
    "    \n",
    "    if verbose == 2:\n",
    "        print(f'Centroid clustering finished after {N_lloyd_steps} iterations and {round(dt_lloyd)} s')\n",
    "    elif verbose == 1:\n",
    "        print(f'\\nLloyd algorithm finished in {round(dt_lloyd)} s')\n",
    "    \n",
    "    # Compute final labels\n",
    "    if verbose == 2:\n",
    "        print('\\nCalculating final labels')\n",
    "    t_final_labels = time.time()\n",
    "    final_labels = get_cluster_classification(C_f, X, XXT).compute()\n",
    "    dt_final_labels = time.time() - t_final_labels\n",
    "    if verbose > 0:\n",
    "        print(f'Final labels calculated in {round(dt_final_labels)} s')\n",
    "\n",
    "    # Finish timing\n",
    "    dt_total = time.time() - t1\n",
    "    if verbose > 0:\n",
    "        print(f'\\nProcess finished in {round(dt_total, 1)} s')\n",
    "\n",
    "    # Build performance info\n",
    "    timing = {'total': dt_total,\n",
    "              'data_input': dt_data,\n",
    "              'data_processing': dt_data_process,\n",
    "              'first_centroid': dt_first_centroid,\n",
    "              'xxt': dt_xxt,\n",
    "              'phi_init': dt_phi_init, \n",
    "              'parallel_init': dt_parallel_init, \n",
    "              'weight_calc': dt_weight_calc, \n",
    "              'lloyd' : dt_lloyd, \n",
    "              'final_labels': dt_final_labels}\n",
    "    \n",
    "    # Gather output info into a dict and return\n",
    "    output_info = {'centroids': C_f,\n",
    "                   'cluster_labels': final_labels,\n",
    "                   'timing': timing}\n",
    "    return output_info"
   ]
  },
  {
   "cell_type": "markdown",
   "id": "2604430a-bdd6-4d7b-911b-7cd3b537ba84",
   "metadata": {},
   "source": [
    "## Qualitative test of the algorithm"
   ]
  },
  {
   "cell_type": "markdown",
   "id": "6fd0aa42-4c19-4888-8283-3bd9ad5bc8c8",
   "metadata": {},
   "source": [
    "We first test the algorithm qualitatively by applying it to a small synthetic dataset, generated by sampling from a mixture of three Gaussian distributions."
   ]
  },
  {
   "cell_type": "code",
   "execution_count": 7,
   "id": "8ba41693-bdbf-4cb7-95e3-e636ee03ae7d",
   "metadata": {},
   "outputs": [
    {
     "name": "stderr",
     "output_type": "stream",
     "text": [
      "2025-07-07 15:34:23,965 - distributed.deploy.ssh - INFO - 2025-07-07 15:34:23,965 - distributed.http.proxy - INFO - To route to workers diagnostics web server please install jupyter-server-proxy: python -m pip install jupyter-server-proxy\n",
      "2025-07-07 15:34:23,997 - distributed.deploy.ssh - INFO - 2025-07-07 15:34:23,995 - distributed.scheduler - INFO - State start\n",
      "2025-07-07 15:34:24,003 - distributed.deploy.ssh - INFO - 2025-07-07 15:34:24,003 - distributed.scheduler - INFO -   Scheduler at:  tcp://10.67.22.240:45749\n",
      "2025-07-07 15:34:25,485 - distributed.deploy.ssh - INFO - 2025-07-07 15:34:25,484 - distributed.nanny - INFO -         Start Nanny at: 'tcp://10.67.22.240:33851'\n",
      "2025-07-07 15:34:25,920 - distributed.deploy.ssh - INFO - 2025-07-07 15:34:25,919 - distributed.worker - INFO -       Start worker at:   tcp://10.67.22.240:35973\n",
      "2025-07-07 15:34:26,143 - distributed.deploy.ssh - INFO - 2025-07-07 15:34:26,141 - distributed.nanny - INFO -         Start Nanny at: 'tcp://10.67.22.126:32915'\n",
      "2025-07-07 15:34:26,174 - distributed.deploy.ssh - INFO - 2025-07-07 15:34:26,170 - distributed.nanny - INFO -         Start Nanny at: 'tcp://10.67.22.17:38627'\n",
      "2025-07-07 15:34:26,179 - distributed.deploy.ssh - INFO - 2025-07-07 15:34:26,182 - distributed.nanny - INFO -         Start Nanny at: 'tcp://10.67.22.100:40093'\n",
      "2025-07-07 15:34:26,523 - distributed.deploy.ssh - INFO - 2025-07-07 15:34:26,521 - distributed.worker - INFO -       Start worker at:   tcp://10.67.22.126:42485\n",
      "2025-07-07 15:34:26,546 - distributed.deploy.ssh - INFO - 2025-07-07 15:34:26,550 - distributed.worker - INFO -       Start worker at:   tcp://10.67.22.100:46749\n",
      "2025-07-07 15:34:26,559 - distributed.deploy.ssh - INFO - 2025-07-07 15:34:26,557 - distributed.worker - INFO -       Start worker at:    tcp://10.67.22.17:34469\n"
     ]
    }
   ],
   "source": [
    "# Initialize the client\n",
    "cluster, client = open_cluster()"
   ]
  },
  {
   "cell_type": "code",
   "execution_count": 8,
   "id": "e2fa982b-1aaa-4818-852d-7a3df71377c6",
   "metadata": {},
   "outputs": [
    {
     "name": "stdout",
     "output_type": "stream",
     "text": [
      "Reading input data\n",
      "Data loaded and processed in 0.4 s\n",
      "\n",
      "Running K-means|| initialization:\n",
      "Iteration 1 of 11\n",
      "Iteration 2 of 11\n",
      "Iteration 3 of 11\n",
      "Iteration 4 of 11\n",
      "Iteration 5 of 11\n",
      "Iteration 6 of 11\n",
      "Iteration 7 of 11\n",
      "Iteration 8 of 11\n",
      "Iteration 9 of 11\n",
      "Iteration 10 of 11\n",
      "Iteration 11 of 11\n",
      "\n",
      "Number of initialized centroids: 32\n",
      "Cost before initialization: 40052.0458284903\n",
      "Cost after initialization: 1047.5108424417012\n",
      "K-means|| initialization finished in 2.8 s\n",
      "\n",
      "Calculating centroid weights\n",
      "Centroid weight calculation finished in 0.2 s\n",
      "\n",
      "Clustering centroids\n",
      "Centroid clustering finished after 3 iterations and 1 s\n",
      "\n",
      "Calculating final labels\n",
      "Final labels calculated in 0 s\n",
      "\n",
      "Process finished in 5.9 s\n"
     ]
    }
   ],
   "source": [
    "# Testing on our curstom data:\n",
    "# Script parameters\n",
    "RANDOM_SEED = 42\n",
    "INPUT_DATA = './testing_data.csv'\n",
    "LABEL_COLUMN = 'label'\n",
    "NPARTITIONS = 1\n",
    "K = 3 # Number of clusters\n",
    "L = 3 # Oversampling factor\n",
    "VERBOSE = 2 # Amount of information to print out (0: Nothing, 1: Only timings, 2: All information)\n",
    "path_git = 'https://media.githubusercontent.com/media/FrancoAquistapace/Parallel_kmeans_with_Dask/refs/heads/main/testing_data.csv'\n",
    "\n",
    "# Run k-means\n",
    "test_res = k_means_parallel(path_git, K, L, random_seed=RANDOM_SEED, label_column=LABEL_COLUMN,\n",
    "                     datatype='dataframe', npartitions=NPARTITIONS, verbose=VERBOSE)"
   ]
  },
  {
   "cell_type": "code",
   "execution_count": 9,
   "id": "7e52016a-70b1-4bf9-9a5b-e2d272564757",
   "metadata": {},
   "outputs": [
    {
     "data": {
      "image/png": "[encoded data removed]",
      "text/plain": [
       "<Figure size 1000x600 with 1 Axes>"
      ]
     },
     "metadata": {},
     "output_type": "display_data"
    }
   ],
   "source": [
    "# Let's plot the data, and the positions of the centroids:\n",
    "# Figure params\n",
    "FONTSIZE = 13\n",
    "S = 2\n",
    "\n",
    "# Init figure\n",
    "fig, ax = plt.subplots(figsize=(5,3), nrows=1, ncols=1, dpi=200)\n",
    "\n",
    "# Plot clustered data\n",
    "cluster_labels = test_res['cluster_labels']\n",
    "test_data = pd.read_csv(path_git)\n",
    "for i in range(K):\n",
    "    k_data = test_data.loc[cluster_labels == i]\n",
    "    plt.scatter(k_data['x'], k_data['y'], s=S)\n",
    "\n",
    "# Plot centroids\n",
    "test_centroids = test_res['centroids']\n",
    "plt.scatter(test_centroids[:,0], test_centroids[:,1], c='k')\n",
    "\n",
    "# Labels\n",
    "plt.xlabel(r'$x$', fontsize=FONTSIZE)\n",
    "plt.ylabel(r'$y$', fontsize=FONTSIZE)\n",
    "plt.tick_params(labelsize=FONTSIZE-2)\n",
    "\n",
    "# Show\n",
    "plt.tight_layout()\n",
    "plt.show();"
   ]
  },
  {
   "cell_type": "markdown",
   "id": "bbe51d2d-b1dd-4d9f-a375-3d2165ad47eb",
   "metadata": {},
   "source": [
    "The algorithm appears to be working as intended."
   ]
  },
  {
   "cell_type": "code",
   "execution_count": 10,
   "id": "d84ce161-0cb7-4fd7-87d9-45e66e860924",
   "metadata": {},
   "outputs": [],
   "source": [
    "close_cluster(cluster, client)"
   ]
  },
  {
   "cell_type": "markdown",
   "id": "230bd0a8-5c8a-4024-a629-9c11d630ee49",
   "metadata": {},
   "source": [
    "## Benchmarking"
   ]
  },
  {
   "cell_type": "markdown",
   "id": "0b9addf1-248e-4d00-91f4-c172da38b083",
   "metadata": {},
   "source": [
    "### Finding optimal number of partitions"
   ]
  },
  {
   "cell_type": "code",
   "execution_count": 11,
   "id": "f4d76285-44ce-455b-902a-1d523737aa1f",
   "metadata": {},
   "outputs": [],
   "source": [
    "# Data parameters\n",
    "N_SAMPLES = int(1e5)\n",
    "N_FEATURES = 50\n",
    "CENTERS = 5\n",
    "RS = 42\n",
    "LABEL_COLUMN = 'label'\n",
    "L = 3 # Oversampling factor"
   ]
  },
  {
   "cell_type": "code",
   "execution_count": 12,
   "id": "66e5b2d3-9ddd-42cc-aacb-22e7d40a94d4",
   "metadata": {},
   "outputs": [],
   "source": [
    "path_git = 'https://media.githubusercontent.com/media/FrancoAquistapace/Parallel_kmeans_with_Dask/refs/heads/main/test_blobs_50dim_5c_1e5.csv'"
   ]
  },
  {
   "cell_type": "markdown",
   "id": "418ede99-1ea9-400a-a490-ff310cf4bcb2",
   "metadata": {
    "jp-MarkdownHeadingCollapsed": true
   },
   "source": [
    "#### 4 partitions"
   ]
  },
  {
   "cell_type": "code",
   "execution_count": 30,
   "id": "559d5ebe-fa72-4e31-8a4c-b3ecd9f2355f",
   "metadata": {
    "scrolled": true
   },
   "outputs": [
    {
     "name": "stderr",
     "output_type": "stream",
     "text": [
      "2025-07-06 15:26:31,743 - distributed.deploy.ssh - INFO - 2025-07-06 15:26:31,740 - distributed.http.proxy - INFO - To route to workers diagnostics web server please install jupyter-server-proxy: python -m pip install jupyter-server-proxy\n",
      "2025-07-06 15:26:31,772 - distributed.deploy.ssh - INFO - 2025-07-06 15:26:31,770 - distributed.scheduler - INFO - State start\n",
      "2025-07-06 15:26:31,776 - distributed.deploy.ssh - INFO - 2025-07-06 15:26:31,775 - distributed.scheduler - INFO -   Scheduler at:  tcp://10.67.22.240:43673\n",
      "2025-07-06 15:26:33,208 - distributed.deploy.ssh - INFO - 2025-07-06 15:26:33,208 - distributed.nanny - INFO -         Start Nanny at: 'tcp://10.67.22.240:36699'\n",
      "2025-07-06 15:26:33,558 - distributed.deploy.ssh - INFO - 2025-07-06 15:26:33,560 - distributed.nanny - INFO -         Start Nanny at: 'tcp://10.67.22.100:33951'\n",
      "2025-07-06 15:26:33,574 - distributed.deploy.ssh - INFO - 2025-07-06 15:26:33,573 - distributed.nanny - INFO -         Start Nanny at: 'tcp://10.67.22.17:41739'\n",
      "2025-07-06 15:26:33,578 - distributed.deploy.ssh - INFO - 2025-07-06 15:26:33,580 - distributed.nanny - INFO -         Start Nanny at: 'tcp://10.67.22.126:36613'\n",
      "2025-07-06 15:26:33,640 - distributed.deploy.ssh - INFO - 2025-07-06 15:26:33,639 - distributed.worker - INFO -       Start worker at:   tcp://10.67.22.240:41987\n",
      "2025-07-06 15:26:33,924 - distributed.deploy.ssh - INFO - 2025-07-06 15:26:33,926 - distributed.worker - INFO -       Start worker at:   tcp://10.67.22.100:37087\n",
      "2025-07-06 15:26:33,935 - distributed.deploy.ssh - INFO - 2025-07-06 15:26:33,938 - distributed.worker - INFO -       Start worker at:   tcp://10.67.22.126:46343\n",
      "2025-07-06 15:26:33,941 - distributed.deploy.ssh - INFO - 2025-07-06 15:26:33,939 - distributed.worker - INFO -       Start worker at:    tcp://10.67.22.17:42555\n",
      "/home/ubuntu/miniconda/envs/dask-env/lib/python3.10/site-packages/distributed/client.py:3370: UserWarning: Sending large graph of size 38.15 MiB.\n",
      "This may cause some slowdown.\n",
      "Consider loading the data with Dask directly\n",
      " or using futures or delayed objects to embed the data into the graph without repetition.\n",
      "See also https://docs.dask.org/en/stable/best-practices.html#load-data-with-dask for more information.\n",
      "  warnings.warn(\n",
      "2025-07-06 15:26:57,329 - distributed.deploy.ssh - INFO - 2025-07-06 15:26:57,327 - distributed.http.proxy - INFO - To route to workers diagnostics web server please install jupyter-server-proxy: python -m pip install jupyter-server-proxy\n",
      "2025-07-06 15:26:57,359 - distributed.deploy.ssh - INFO - 2025-07-06 15:26:57,357 - distributed.scheduler - INFO - State start\n",
      "2025-07-06 15:26:57,362 - distributed.deploy.ssh - INFO - 2025-07-06 15:26:57,362 - distributed.scheduler - INFO -   Scheduler at:  tcp://10.67.22.240:42549\n",
      "2025-07-06 15:26:58,751 - distributed.deploy.ssh - INFO - 2025-07-06 15:26:58,750 - distributed.nanny - INFO -         Start Nanny at: 'tcp://10.67.22.17:38151'\n",
      "2025-07-06 15:26:58,760 - distributed.deploy.ssh - INFO - 2025-07-06 15:26:58,762 - distributed.nanny - INFO -         Start Nanny at: 'tcp://10.67.22.100:41155'\n",
      "2025-07-06 15:26:58,767 - distributed.deploy.ssh - INFO - 2025-07-06 15:26:58,769 - distributed.nanny - INFO -         Start Nanny at: 'tcp://10.67.22.126:41537'\n",
      "2025-07-06 15:26:58,807 - distributed.deploy.ssh - INFO - 2025-07-06 15:26:58,806 - distributed.nanny - INFO -         Start Nanny at: 'tcp://10.67.22.240:45427'\n",
      "2025-07-06 15:26:59,113 - distributed.deploy.ssh - INFO - 2025-07-06 15:26:59,113 - distributed.worker - INFO -       Start worker at:    tcp://10.67.22.17:38687\n",
      "2025-07-06 15:26:59,123 - distributed.deploy.ssh - INFO - 2025-07-06 15:26:59,126 - distributed.worker - INFO -       Start worker at:   tcp://10.67.22.100:41531\n",
      "2025-07-06 15:26:59,131 - distributed.deploy.ssh - INFO - 2025-07-06 15:26:59,134 - distributed.worker - INFO -       Start worker at:   tcp://10.67.22.126:41657\n",
      "2025-07-06 15:26:59,216 - distributed.deploy.ssh - INFO - 2025-07-06 15:26:59,215 - distributed.worker - INFO -       Start worker at:   tcp://10.67.22.240:42099\n",
      "/home/ubuntu/miniconda/envs/dask-env/lib/python3.10/site-packages/distributed/client.py:3370: UserWarning: Sending large graph of size 38.15 MiB.\n",
      "This may cause some slowdown.\n",
      "Consider loading the data with Dask directly\n",
      " or using futures or delayed objects to embed the data into the graph without repetition.\n",
      "See also https://docs.dask.org/en/stable/best-practices.html#load-data-with-dask for more information.\n",
      "  warnings.warn(\n",
      "2025-07-06 15:27:22,123 - distributed.deploy.ssh - INFO - 2025-07-06 15:27:22,123 - distributed.http.proxy - INFO - To route to workers diagnostics web server please install jupyter-server-proxy: python -m pip install jupyter-server-proxy\n",
      "2025-07-06 15:27:22,152 - distributed.deploy.ssh - INFO - 2025-07-06 15:27:22,151 - distributed.scheduler - INFO - State start\n",
      "2025-07-06 15:27:22,157 - distributed.deploy.ssh - INFO - 2025-07-06 15:27:22,157 - distributed.scheduler - INFO -   Scheduler at:  tcp://10.67.22.240:42939\n",
      "2025-07-06 15:27:23,569 - distributed.deploy.ssh - INFO - 2025-07-06 15:27:23,567 - distributed.nanny - INFO -         Start Nanny at: 'tcp://10.67.22.17:40949'\n",
      "2025-07-06 15:27:23,573 - distributed.deploy.ssh - INFO - 2025-07-06 15:27:23,575 - distributed.nanny - INFO -         Start Nanny at: 'tcp://10.67.22.100:40899'\n",
      "2025-07-06 15:27:23,578 - distributed.deploy.ssh - INFO - 2025-07-06 15:27:23,580 - distributed.nanny - INFO -         Start Nanny at: 'tcp://10.67.22.126:44357'\n",
      "2025-07-06 15:27:23,603 - distributed.deploy.ssh - INFO - 2025-07-06 15:27:23,601 - distributed.nanny - INFO -         Start Nanny at: 'tcp://10.67.22.240:45957'\n",
      "2025-07-06 15:27:23,936 - distributed.deploy.ssh - INFO - 2025-07-06 15:27:23,935 - distributed.worker - INFO -       Start worker at:    tcp://10.67.22.17:39111\n",
      "2025-07-06 15:27:23,943 - distributed.deploy.ssh - INFO - 2025-07-06 15:27:23,938 - distributed.worker - INFO -       Start worker at:   tcp://10.67.22.100:37099\n",
      "2025-07-06 15:27:23,945 - distributed.deploy.ssh - INFO - 2025-07-06 15:27:23,945 - distributed.worker - INFO -       Start worker at:   tcp://10.67.22.126:44037\n",
      "2025-07-06 15:27:24,014 - distributed.deploy.ssh - INFO - 2025-07-06 15:27:24,014 - distributed.worker - INFO -       Start worker at:   tcp://10.67.22.240:35417\n",
      "/home/ubuntu/miniconda/envs/dask-env/lib/python3.10/site-packages/distributed/client.py:3370: UserWarning: Sending large graph of size 38.15 MiB.\n",
      "This may cause some slowdown.\n",
      "Consider loading the data with Dask directly\n",
      " or using futures or delayed objects to embed the data into the graph without repetition.\n",
      "See also https://docs.dask.org/en/stable/best-practices.html#load-data-with-dask for more information.\n",
      "  warnings.warn(\n",
      "2025-07-06 15:27:47,634 - distributed.deploy.ssh - INFO - 2025-07-06 15:27:47,632 - distributed.http.proxy - INFO - To route to workers diagnostics web server please install jupyter-server-proxy: python -m pip install jupyter-server-proxy\n",
      "2025-07-06 15:27:47,660 - distributed.deploy.ssh - INFO - 2025-07-06 15:27:47,660 - distributed.scheduler - INFO - State start\n",
      "2025-07-06 15:27:47,664 - distributed.deploy.ssh - INFO - 2025-07-06 15:27:47,664 - distributed.scheduler - INFO -   Scheduler at:  tcp://10.67.22.240:36747\n",
      "2025-07-06 15:27:49,091 - distributed.deploy.ssh - INFO - 2025-07-06 15:27:49,090 - distributed.nanny - INFO -         Start Nanny at: 'tcp://10.67.22.240:45879'\n",
      "2025-07-06 15:27:49,279 - distributed.deploy.ssh - INFO - 2025-07-06 15:27:49,281 - distributed.nanny - INFO -         Start Nanny at: 'tcp://10.67.22.100:41687'\n",
      "2025-07-06 15:27:49,288 - distributed.deploy.ssh - INFO - 2025-07-06 15:27:49,286 - distributed.nanny - INFO -         Start Nanny at: 'tcp://10.67.22.17:45775'\n",
      "2025-07-06 15:27:49,295 - distributed.deploy.ssh - INFO - 2025-07-06 15:27:49,297 - distributed.nanny - INFO -         Start Nanny at: 'tcp://10.67.22.126:34055'\n",
      "2025-07-06 15:27:49,499 - distributed.deploy.ssh - INFO - 2025-07-06 15:27:49,498 - distributed.worker - INFO -       Start worker at:   tcp://10.67.22.240:37711\n",
      "2025-07-06 15:27:49,647 - distributed.deploy.ssh - INFO - 2025-07-06 15:27:49,649 - distributed.worker - INFO -       Start worker at:   tcp://10.67.22.100:34135\n",
      "2025-07-06 15:27:49,653 - distributed.deploy.ssh - INFO - 2025-07-06 15:27:49,648 - distributed.worker - INFO -       Start worker at:    tcp://10.67.22.17:43075\n",
      "2025-07-06 15:27:49,658 - distributed.deploy.ssh - INFO - 2025-07-06 15:27:49,659 - distributed.worker - INFO -       Start worker at:   tcp://10.67.22.126:40453\n",
      "/home/ubuntu/miniconda/envs/dask-env/lib/python3.10/site-packages/distributed/client.py:3370: UserWarning: Sending large graph of size 38.15 MiB.\n",
      "This may cause some slowdown.\n",
      "Consider loading the data with Dask directly\n",
      " or using futures or delayed objects to embed the data into the graph without repetition.\n",
      "See also https://docs.dask.org/en/stable/best-practices.html#load-data-with-dask for more information.\n",
      "  warnings.warn(\n",
      "2025-07-06 15:28:11,043 - distributed.deploy.ssh - INFO - 2025-07-06 15:28:11,041 - distributed.http.proxy - INFO - To route to workers diagnostics web server please install jupyter-server-proxy: python -m pip install jupyter-server-proxy\n",
      "2025-07-06 15:28:11,071 - distributed.deploy.ssh - INFO - 2025-07-06 15:28:11,069 - distributed.scheduler - INFO - State start\n",
      "2025-07-06 15:28:11,074 - distributed.deploy.ssh - INFO - 2025-07-06 15:28:11,074 - distributed.scheduler - INFO -   Scheduler at:  tcp://10.67.22.240:39323\n",
      "2025-07-06 15:28:12,466 - distributed.deploy.ssh - INFO - 2025-07-06 15:28:12,463 - distributed.nanny - INFO -         Start Nanny at: 'tcp://10.67.22.17:38619'\n",
      "2025-07-06 15:28:12,469 - distributed.deploy.ssh - INFO - 2025-07-06 15:28:12,470 - distributed.nanny - INFO -         Start Nanny at: 'tcp://10.67.22.126:38493'\n",
      "2025-07-06 15:28:12,483 - distributed.deploy.ssh - INFO - 2025-07-06 15:28:12,485 - distributed.nanny - INFO -         Start Nanny at: 'tcp://10.67.22.100:34501'\n",
      "2025-07-06 15:28:12,505 - distributed.deploy.ssh - INFO - 2025-07-06 15:28:12,504 - distributed.nanny - INFO -         Start Nanny at: 'tcp://10.67.22.240:38725'\n",
      "2025-07-06 15:28:12,826 - distributed.deploy.ssh - INFO - 2025-07-06 15:28:12,828 - distributed.worker - INFO -       Start worker at:   tcp://10.67.22.126:41655\n",
      "2025-07-06 15:28:12,834 - distributed.deploy.ssh - INFO - 2025-07-06 15:28:12,827 - distributed.worker - INFO -       Start worker at:    tcp://10.67.22.17:40541\n",
      "2025-07-06 15:28:12,848 - distributed.deploy.ssh - INFO - 2025-07-06 15:28:12,848 - distributed.worker - INFO -       Start worker at:   tcp://10.67.22.100:36625\n",
      "2025-07-06 15:28:12,910 - distributed.deploy.ssh - INFO - 2025-07-06 15:28:12,909 - distributed.worker - INFO -       Start worker at:   tcp://10.67.22.240:41635\n",
      "/home/ubuntu/miniconda/envs/dask-env/lib/python3.10/site-packages/distributed/client.py:3370: UserWarning: Sending large graph of size 38.15 MiB.\n",
      "This may cause some slowdown.\n",
      "Consider loading the data with Dask directly\n",
      " or using futures or delayed objects to embed the data into the graph without repetition.\n",
      "See also https://docs.dask.org/en/stable/best-practices.html#load-data-with-dask for more information.\n",
      "  warnings.warn(\n"
     ]
    }
   ],
   "source": [
    "time_res = []\n",
    "for i in range(5):\n",
    "    # Open cluster\n",
    "    cluster, client = open_cluster()\n",
    "    time.sleep(2)\n",
    "\n",
    "    # Run algorithm\n",
    "    N_PARTITIONS = 4\n",
    "    res = k_means_parallel(path=path_git, k=CENTERS, l=L, label_column=LABEL_COLUMN,\n",
    "                           random_seed=RS, verbose=0, npartitions=N_PARTITIONS)\n",
    "    algorithm_time = res['timing']['total'] - res['timing']['data_input']\n",
    "    time_res.append(algorithm_time)\n",
    "    time.sleep(2)\n",
    "    \n",
    "    # Close cluster\n",
    "    close_cluster(cluster, client)\n",
    "    time.sleep(2)"
   ]
  },
  {
   "cell_type": "code",
   "execution_count": 33,
   "id": "15972ca7-cba4-4fa7-8c75-03b7ace74c35",
   "metadata": {},
   "outputs": [
    {
     "name": "stdout",
     "output_type": "stream",
     "text": [
      "Mean algorithm time with 4 partitions:\n",
      "12.88 ± 0.74 s\n"
     ]
    }
   ],
   "source": [
    "print('Mean algorithm time with 4 partitions:')\n",
    "print(f'{round(np.mean(time_res), 2)} ± {round(np.std(time_res), 2)} s')"
   ]
  },
  {
   "cell_type": "markdown",
   "id": "cfe67125-934f-4830-aa5f-5c74546b4134",
   "metadata": {
    "jp-MarkdownHeadingCollapsed": true
   },
   "source": [
    "#### 8 partitions"
   ]
  },
  {
   "cell_type": "code",
   "execution_count": 34,
   "id": "33422c09-e99f-45e4-87a5-e28d65425f33",
   "metadata": {
    "scrolled": true
   },
   "outputs": [
    {
     "name": "stderr",
     "output_type": "stream",
     "text": [
      "2025-07-06 15:30:19,489 - distributed.deploy.ssh - INFO - 2025-07-06 15:30:19,487 - distributed.http.proxy - INFO - To route to workers diagnostics web server please install jupyter-server-proxy: python -m pip install jupyter-server-proxy\n",
      "2025-07-06 15:30:19,516 - distributed.deploy.ssh - INFO - 2025-07-06 15:30:19,515 - distributed.scheduler - INFO - State start\n",
      "2025-07-06 15:30:19,520 - distributed.deploy.ssh - INFO - 2025-07-06 15:30:19,519 - distributed.scheduler - INFO -   Scheduler at:  tcp://10.67.22.240:43499\n",
      "2025-07-06 15:30:21,030 - distributed.deploy.ssh - INFO - 2025-07-06 15:30:21,028 - distributed.nanny - INFO -         Start Nanny at: 'tcp://10.67.22.240:44889'\n",
      "2025-07-06 15:30:21,380 - distributed.deploy.ssh - INFO - 2025-07-06 15:30:21,382 - distributed.nanny - INFO -         Start Nanny at: 'tcp://10.67.22.100:36771'\n",
      "2025-07-06 15:30:21,386 - distributed.deploy.ssh - INFO - 2025-07-06 15:30:21,387 - distributed.nanny - INFO -         Start Nanny at: 'tcp://10.67.22.126:35201'\n",
      "2025-07-06 15:30:21,393 - distributed.deploy.ssh - INFO - 2025-07-06 15:30:21,392 - distributed.nanny - INFO -         Start Nanny at: 'tcp://10.67.22.17:43243'\n",
      "2025-07-06 15:30:21,458 - distributed.deploy.ssh - INFO - 2025-07-06 15:30:21,457 - distributed.worker - INFO -       Start worker at:   tcp://10.67.22.240:46181\n",
      "2025-07-06 15:30:21,741 - distributed.deploy.ssh - INFO - 2025-07-06 15:30:21,742 - distributed.worker - INFO -       Start worker at:   tcp://10.67.22.100:36871\n",
      "2025-07-06 15:30:21,751 - distributed.deploy.ssh - INFO - 2025-07-06 15:30:21,752 - distributed.worker - INFO -       Start worker at:   tcp://10.67.22.126:35605\n",
      "2025-07-06 15:30:21,760 - distributed.deploy.ssh - INFO - 2025-07-06 15:30:21,760 - distributed.worker - INFO -       Start worker at:    tcp://10.67.22.17:34825\n",
      "/home/ubuntu/miniconda/envs/dask-env/lib/python3.10/site-packages/distributed/client.py:3370: UserWarning: Sending large graph of size 38.15 MiB.\n",
      "This may cause some slowdown.\n",
      "Consider loading the data with Dask directly\n",
      " or using futures or delayed objects to embed the data into the graph without repetition.\n",
      "See also https://docs.dask.org/en/stable/best-practices.html#load-data-with-dask for more information.\n",
      "  warnings.warn(\n",
      "2025-07-06 15:30:46,421 - distributed.deploy.ssh - INFO - 2025-07-06 15:30:46,420 - distributed.http.proxy - INFO - To route to workers diagnostics web server please install jupyter-server-proxy: python -m pip install jupyter-server-proxy\n",
      "2025-07-06 15:30:46,448 - distributed.deploy.ssh - INFO - 2025-07-06 15:30:46,448 - distributed.scheduler - INFO - State start\n",
      "2025-07-06 15:30:46,454 - distributed.deploy.ssh - INFO - 2025-07-06 15:30:46,453 - distributed.scheduler - INFO -   Scheduler at:  tcp://10.67.22.240:39711\n",
      "2025-07-06 15:30:47,847 - distributed.deploy.ssh - INFO - 2025-07-06 15:30:47,846 - distributed.nanny - INFO -         Start Nanny at: 'tcp://10.67.22.17:41813'\n",
      "2025-07-06 15:30:47,861 - distributed.deploy.ssh - INFO - 2025-07-06 15:30:47,863 - distributed.nanny - INFO -         Start Nanny at: 'tcp://10.67.22.100:40649'\n",
      "2025-07-06 15:30:47,884 - distributed.deploy.ssh - INFO - 2025-07-06 15:30:47,884 - distributed.nanny - INFO -         Start Nanny at: 'tcp://10.67.22.126:45505'\n",
      "2025-07-06 15:30:47,887 - distributed.deploy.ssh - INFO - 2025-07-06 15:30:47,885 - distributed.nanny - INFO -         Start Nanny at: 'tcp://10.67.22.240:44863'\n",
      "2025-07-06 15:30:48,214 - distributed.deploy.ssh - INFO - 2025-07-06 15:30:48,213 - distributed.worker - INFO -       Start worker at:    tcp://10.67.22.17:35883\n",
      "2025-07-06 15:30:48,228 - distributed.deploy.ssh - INFO - 2025-07-06 15:30:48,230 - distributed.worker - INFO -       Start worker at:   tcp://10.67.22.100:32989\n",
      "2025-07-06 15:30:48,258 - distributed.deploy.ssh - INFO - 2025-07-06 15:30:48,257 - distributed.worker - INFO -       Start worker at:   tcp://10.67.22.126:45741\n",
      "2025-07-06 15:30:48,292 - distributed.deploy.ssh - INFO - 2025-07-06 15:30:48,292 - distributed.worker - INFO -       Start worker at:   tcp://10.67.22.240:33529\n",
      "/home/ubuntu/miniconda/envs/dask-env/lib/python3.10/site-packages/distributed/client.py:3370: UserWarning: Sending large graph of size 38.15 MiB.\n",
      "This may cause some slowdown.\n",
      "Consider loading the data with Dask directly\n",
      " or using futures or delayed objects to embed the data into the graph without repetition.\n",
      "See also https://docs.dask.org/en/stable/best-practices.html#load-data-with-dask for more information.\n",
      "  warnings.warn(\n",
      "2025-07-06 15:31:11,485 - distributed.deploy.ssh - INFO - 2025-07-06 15:31:11,483 - distributed.http.proxy - INFO - To route to workers diagnostics web server please install jupyter-server-proxy: python -m pip install jupyter-server-proxy\n",
      "2025-07-06 15:31:11,512 - distributed.deploy.ssh - INFO - 2025-07-06 15:31:11,511 - distributed.scheduler - INFO - State start\n",
      "2025-07-06 15:31:11,516 - distributed.deploy.ssh - INFO - 2025-07-06 15:31:11,516 - distributed.scheduler - INFO -   Scheduler at:  tcp://10.67.22.240:42183\n",
      "2025-07-06 15:31:12,907 - distributed.deploy.ssh - INFO - 2025-07-06 15:31:12,909 - distributed.nanny - INFO -         Start Nanny at: 'tcp://10.67.22.100:33605'\n",
      "2025-07-06 15:31:12,914 - distributed.deploy.ssh - INFO - 2025-07-06 15:31:12,913 - distributed.nanny - INFO -         Start Nanny at: 'tcp://10.67.22.126:46635'\n",
      "2025-07-06 15:31:12,923 - distributed.deploy.ssh - INFO - 2025-07-06 15:31:12,922 - distributed.nanny - INFO -         Start Nanny at: 'tcp://10.67.22.17:44113'\n",
      "2025-07-06 15:31:12,958 - distributed.deploy.ssh - INFO - 2025-07-06 15:31:12,956 - distributed.nanny - INFO -         Start Nanny at: 'tcp://10.67.22.240:41159'\n",
      "2025-07-06 15:31:13,272 - distributed.deploy.ssh - INFO - 2025-07-06 15:31:13,273 - distributed.worker - INFO -       Start worker at:   tcp://10.67.22.100:42311\n",
      "2025-07-06 15:31:13,279 - distributed.deploy.ssh - INFO - 2025-07-06 15:31:13,278 - distributed.worker - INFO -       Start worker at:   tcp://10.67.22.126:45003\n",
      "2025-07-06 15:31:13,289 - distributed.deploy.ssh - INFO - 2025-07-06 15:31:13,288 - distributed.worker - INFO -       Start worker at:    tcp://10.67.22.17:44371\n",
      "2025-07-06 15:31:13,383 - distributed.deploy.ssh - INFO - 2025-07-06 15:31:13,382 - distributed.worker - INFO -       Start worker at:   tcp://10.67.22.240:46399\n",
      "/home/ubuntu/miniconda/envs/dask-env/lib/python3.10/site-packages/distributed/client.py:3370: UserWarning: Sending large graph of size 38.15 MiB.\n",
      "This may cause some slowdown.\n",
      "Consider loading the data with Dask directly\n",
      " or using futures or delayed objects to embed the data into the graph without repetition.\n",
      "See also https://docs.dask.org/en/stable/best-practices.html#load-data-with-dask for more information.\n",
      "  warnings.warn(\n",
      "2025-07-06 15:31:38,258 - distributed.deploy.ssh - INFO - 2025-07-06 15:31:38,257 - distributed.http.proxy - INFO - To route to workers diagnostics web server please install jupyter-server-proxy: python -m pip install jupyter-server-proxy\n",
      "2025-07-06 15:31:38,285 - distributed.deploy.ssh - INFO - 2025-07-06 15:31:38,285 - distributed.scheduler - INFO - State start\n",
      "2025-07-06 15:31:38,291 - distributed.deploy.ssh - INFO - 2025-07-06 15:31:38,290 - distributed.scheduler - INFO -   Scheduler at:  tcp://10.67.22.240:42711\n",
      "2025-07-06 15:31:39,734 - distributed.deploy.ssh - INFO - 2025-07-06 15:31:39,733 - distributed.nanny - INFO -         Start Nanny at: 'tcp://10.67.22.240:42895'\n",
      "2025-07-06 15:31:39,917 - distributed.deploy.ssh - INFO - 2025-07-06 15:31:39,919 - distributed.nanny - INFO -         Start Nanny at: 'tcp://10.67.22.100:33433'\n",
      "2025-07-06 15:31:39,926 - distributed.deploy.ssh - INFO - 2025-07-06 15:31:39,925 - distributed.nanny - INFO -         Start Nanny at: 'tcp://10.67.22.17:35433'\n",
      "2025-07-06 15:31:39,930 - distributed.deploy.ssh - INFO - 2025-07-06 15:31:39,930 - distributed.nanny - INFO -         Start Nanny at: 'tcp://10.67.22.126:34289'\n",
      "2025-07-06 15:31:40,142 - distributed.deploy.ssh - INFO - 2025-07-06 15:31:40,141 - distributed.worker - INFO -       Start worker at:   tcp://10.67.22.240:46351\n",
      "2025-07-06 15:31:40,275 - distributed.deploy.ssh - INFO - 2025-07-06 15:31:40,277 - distributed.worker - INFO -       Start worker at:   tcp://10.67.22.100:44561\n",
      "2025-07-06 15:31:40,295 - distributed.deploy.ssh - INFO - 2025-07-06 15:31:40,291 - distributed.worker - INFO -       Start worker at:    tcp://10.67.22.17:43965\n",
      "2025-07-06 15:31:40,300 - distributed.deploy.ssh - INFO - 2025-07-06 15:31:40,296 - distributed.worker - INFO -       Start worker at:   tcp://10.67.22.126:39309\n",
      "/home/ubuntu/miniconda/envs/dask-env/lib/python3.10/site-packages/distributed/client.py:3370: UserWarning: Sending large graph of size 38.15 MiB.\n",
      "This may cause some slowdown.\n",
      "Consider loading the data with Dask directly\n",
      " or using futures or delayed objects to embed the data into the graph without repetition.\n",
      "See also https://docs.dask.org/en/stable/best-practices.html#load-data-with-dask for more information.\n",
      "  warnings.warn(\n",
      "2025-07-06 15:32:05,875 - distributed.deploy.ssh - INFO - 2025-07-06 15:32:05,874 - distributed.http.proxy - INFO - To route to workers diagnostics web server please install jupyter-server-proxy: python -m pip install jupyter-server-proxy\n",
      "2025-07-06 15:32:05,904 - distributed.deploy.ssh - INFO - 2025-07-06 15:32:05,903 - distributed.scheduler - INFO - State start\n",
      "2025-07-06 15:32:05,909 - distributed.deploy.ssh - INFO - 2025-07-06 15:32:05,909 - distributed.scheduler - INFO -   Scheduler at:  tcp://10.67.22.240:46551\n",
      "2025-07-06 15:32:07,306 - distributed.deploy.ssh - INFO - 2025-07-06 15:32:07,307 - distributed.nanny - INFO -         Start Nanny at: 'tcp://10.67.22.100:37521'\n",
      "2025-07-06 15:32:07,321 - distributed.deploy.ssh - INFO - 2025-07-06 15:32:07,320 - distributed.nanny - INFO -         Start Nanny at: 'tcp://10.67.22.126:45113'\n",
      "2025-07-06 15:32:07,322 - distributed.deploy.ssh - INFO - 2025-07-06 15:32:07,320 - distributed.nanny - INFO -         Start Nanny at: 'tcp://10.67.22.17:42205'\n",
      "2025-07-06 15:32:07,358 - distributed.deploy.ssh - INFO - 2025-07-06 15:32:07,357 - distributed.nanny - INFO -         Start Nanny at: 'tcp://10.67.22.240:43523'\n",
      "2025-07-06 15:32:07,664 - distributed.deploy.ssh - INFO - 2025-07-06 15:32:07,665 - distributed.worker - INFO -       Start worker at:   tcp://10.67.22.100:35379\n",
      "2025-07-06 15:32:07,680 - distributed.deploy.ssh - INFO - 2025-07-06 15:32:07,681 - distributed.worker - INFO -       Start worker at:   tcp://10.67.22.126:34251\n",
      "2025-07-06 15:32:07,687 - distributed.deploy.ssh - INFO - 2025-07-06 15:32:07,687 - distributed.worker - INFO -       Start worker at:    tcp://10.67.22.17:39057\n",
      "2025-07-06 15:32:07,750 - distributed.deploy.ssh - INFO - 2025-07-06 15:32:07,750 - distributed.worker - INFO -       Start worker at:   tcp://10.67.22.240:41165\n",
      "/home/ubuntu/miniconda/envs/dask-env/lib/python3.10/site-packages/distributed/client.py:3370: UserWarning: Sending large graph of size 38.15 MiB.\n",
      "This may cause some slowdown.\n",
      "Consider loading the data with Dask directly\n",
      " or using futures or delayed objects to embed the data into the graph without repetition.\n",
      "See also https://docs.dask.org/en/stable/best-practices.html#load-data-with-dask for more information.\n",
      "  warnings.warn(\n"
     ]
    }
   ],
   "source": [
    "time_res = []\n",
    "for i in range(5):\n",
    "    # Open cluster\n",
    "    cluster, client = open_cluster()\n",
    "    time.sleep(2)\n",
    "\n",
    "    # Run algorithm\n",
    "    N_PARTITIONS = 8\n",
    "    res = k_means_parallel(path=path_git, k=CENTERS, l=L, label_column=LABEL_COLUMN,\n",
    "                           random_seed=RS, verbose=0, npartitions=N_PARTITIONS)\n",
    "    algorithm_time = res['timing']['total'] - res['timing']['data_input']\n",
    "    time_res.append(algorithm_time)\n",
    "    time.sleep(2)\n",
    "    \n",
    "    # Close cluster\n",
    "    close_cluster(cluster, client)\n",
    "    time.sleep(2)"
   ]
  },
  {
   "cell_type": "code",
   "execution_count": 73,
   "id": "d4e8efa2-6037-4884-bf50-f14fe03afd0e",
   "metadata": {},
   "outputs": [
    {
     "name": "stdout",
     "output_type": "stream",
     "text": [
      "Mean algorithm time with 8 partitions:\n",
      "14.76 ± 0.85 s\n"
     ]
    }
   ],
   "source": [
    "print('Mean algorithm time with 8 partitions:')\n",
    "print(f'{round(np.mean(time_res), 2)} ± {round(np.std(time_res), 2)} s')"
   ]
  },
  {
   "cell_type": "markdown",
   "id": "e0e96834-ef15-44cf-acb6-59ea67689c86",
   "metadata": {},
   "source": [
    "### Time distribution"
   ]
  },
  {
   "cell_type": "code",
   "execution_count": 11,
   "id": "a0172a28-ef4e-43ae-a7a7-2f5a042b3f69",
   "metadata": {
    "scrolled": true
   },
   "outputs": [
    {
     "name": "stdout",
     "output_type": "stream",
     "text": [
      "Iteration 1 of 10\n"
     ]
    },
    {
     "name": "stderr",
     "output_type": "stream",
     "text": [
      "2025-07-04 17:18:32,129 - distributed.deploy.ssh - INFO - 2025-07-04 17:18:32,127 - distributed.http.proxy - INFO - To route to workers diagnostics web server please install jupyter-server-proxy: python -m pip install jupyter-server-proxy\n",
      "2025-07-04 17:18:32,156 - distributed.deploy.ssh - INFO - 2025-07-04 17:18:32,156 - distributed.scheduler - INFO - State start\n",
      "2025-07-04 17:18:32,160 - distributed.deploy.ssh - INFO - 2025-07-04 17:18:32,160 - distributed.scheduler - INFO -   Scheduler at:  tcp://10.67.22.240:37141\n",
      "2025-07-04 17:18:33,583 - distributed.deploy.ssh - INFO - 2025-07-04 17:18:33,582 - distributed.nanny - INFO -         Start Nanny at: 'tcp://10.67.22.240:39233'\n",
      "2025-07-04 17:18:33,937 - distributed.deploy.ssh - INFO - 2025-07-04 17:18:33,933 - distributed.nanny - INFO -         Start Nanny at: 'tcp://10.67.22.17:44431'\n",
      "2025-07-04 17:18:33,948 - distributed.deploy.ssh - INFO - 2025-07-04 17:18:33,946 - distributed.nanny - INFO -         Start Nanny at: 'tcp://10.67.22.100:34889'\n",
      "2025-07-04 17:18:33,957 - distributed.deploy.ssh - INFO - 2025-07-04 17:18:33,960 - distributed.nanny - INFO -         Start Nanny at: 'tcp://10.67.22.126:37921'\n",
      "2025-07-04 17:18:33,985 - distributed.deploy.ssh - INFO - 2025-07-04 17:18:33,984 - distributed.worker - INFO -       Start worker at:   tcp://10.67.22.240:44727\n",
      "2025-07-04 17:18:34,298 - distributed.deploy.ssh - INFO - 2025-07-04 17:18:34,294 - distributed.worker - INFO -       Start worker at:    tcp://10.67.22.17:40595\n",
      "2025-07-04 17:18:34,311 - distributed.deploy.ssh - INFO - 2025-07-04 17:18:34,310 - distributed.worker - INFO -       Start worker at:   tcp://10.67.22.100:40101\n",
      "2025-07-04 17:18:34,324 - distributed.deploy.ssh - INFO - 2025-07-04 17:18:34,325 - distributed.worker - INFO -       Start worker at:   tcp://10.67.22.126:33927\n",
      "/home/ubuntu/miniconda/envs/dask-env/lib/python3.10/site-packages/distributed/client.py:3370: UserWarning: Sending large graph of size 38.15 MiB.\n",
      "This may cause some slowdown.\n",
      "Consider loading the data with Dask directly\n",
      " or using futures or delayed objects to embed the data into the graph without repetition.\n",
      "See also https://docs.dask.org/en/stable/best-practices.html#load-data-with-dask for more information.\n",
      "  warnings.warn(\n"
     ]
    },
    {
     "name": "stdout",
     "output_type": "stream",
     "text": [
      "Iteration 2 of 10\n"
     ]
    },
    {
     "name": "stderr",
     "output_type": "stream",
     "text": [
      "2025-07-04 17:19:21,108 - distributed.deploy.ssh - INFO - 2025-07-04 17:19:21,106 - distributed.http.proxy - INFO - To route to workers diagnostics web server please install jupyter-server-proxy: python -m pip install jupyter-server-proxy\n",
      "2025-07-04 17:19:21,136 - distributed.deploy.ssh - INFO - 2025-07-04 17:19:21,134 - distributed.scheduler - INFO - State start\n",
      "2025-07-04 17:19:21,139 - distributed.deploy.ssh - INFO - 2025-07-04 17:19:21,139 - distributed.scheduler - INFO -   Scheduler at:  tcp://10.67.22.240:42127\n",
      "2025-07-04 17:19:22,541 - distributed.deploy.ssh - INFO - 2025-07-04 17:19:22,538 - distributed.nanny - INFO -         Start Nanny at: 'tcp://10.67.22.100:36567'\n",
      "2025-07-04 17:19:22,551 - distributed.deploy.ssh - INFO - 2025-07-04 17:19:22,548 - distributed.nanny - INFO -         Start Nanny at: 'tcp://10.67.22.17:45649'\n",
      "2025-07-04 17:19:22,563 - distributed.deploy.ssh - INFO - 2025-07-04 17:19:22,564 - distributed.nanny - INFO -         Start Nanny at: 'tcp://10.67.22.126:35315'\n",
      "2025-07-04 17:19:22,582 - distributed.deploy.ssh - INFO - 2025-07-04 17:19:22,581 - distributed.nanny - INFO -         Start Nanny at: 'tcp://10.67.22.240:39419'\n",
      "2025-07-04 17:19:22,898 - distributed.deploy.ssh - INFO - 2025-07-04 17:19:22,897 - distributed.worker - INFO -       Start worker at:   tcp://10.67.22.100:38101\n",
      "2025-07-04 17:19:22,911 - distributed.deploy.ssh - INFO - 2025-07-04 17:19:22,908 - distributed.worker - INFO -       Start worker at:    tcp://10.67.22.17:34629\n",
      "2025-07-04 17:19:22,922 - distributed.deploy.ssh - INFO - 2025-07-04 17:19:22,924 - distributed.worker - INFO -       Start worker at:   tcp://10.67.22.126:42193\n",
      "2025-07-04 17:19:22,979 - distributed.deploy.ssh - INFO - 2025-07-04 17:19:22,979 - distributed.worker - INFO -       Start worker at:   tcp://10.67.22.240:41349\n",
      "/home/ubuntu/miniconda/envs/dask-env/lib/python3.10/site-packages/distributed/client.py:3370: UserWarning: Sending large graph of size 38.15 MiB.\n",
      "This may cause some slowdown.\n",
      "Consider loading the data with Dask directly\n",
      " or using futures or delayed objects to embed the data into the graph without repetition.\n",
      "See also https://docs.dask.org/en/stable/best-practices.html#load-data-with-dask for more information.\n",
      "  warnings.warn(\n"
     ]
    },
    {
     "name": "stdout",
     "output_type": "stream",
     "text": [
      "Iteration 3 of 10\n"
     ]
    },
    {
     "name": "stderr",
     "output_type": "stream",
     "text": [
      "2025-07-04 17:20:04,229 - distributed.deploy.ssh - INFO - 2025-07-04 17:20:04,227 - distributed.http.proxy - INFO - To route to workers diagnostics web server please install jupyter-server-proxy: python -m pip install jupyter-server-proxy\n",
      "2025-07-04 17:20:04,256 - distributed.deploy.ssh - INFO - 2025-07-04 17:20:04,256 - distributed.scheduler - INFO - State start\n",
      "2025-07-04 17:20:04,260 - distributed.deploy.ssh - INFO - 2025-07-04 17:20:04,260 - distributed.scheduler - INFO -   Scheduler at:  tcp://10.67.22.240:45365\n",
      "2025-07-04 17:20:05,682 - distributed.deploy.ssh - INFO - 2025-07-04 17:20:05,680 - distributed.nanny - INFO -         Start Nanny at: 'tcp://10.67.22.240:35043'\n",
      "2025-07-04 17:20:05,880 - distributed.deploy.ssh - INFO - 2025-07-04 17:20:05,876 - distributed.nanny - INFO -         Start Nanny at: 'tcp://10.67.22.17:38471'\n",
      "2025-07-04 17:20:05,897 - distributed.deploy.ssh - INFO - 2025-07-04 17:20:05,898 - distributed.nanny - INFO -         Start Nanny at: 'tcp://10.67.22.126:35639'\n",
      "2025-07-04 17:20:05,915 - distributed.deploy.ssh - INFO - 2025-07-04 17:20:05,913 - distributed.nanny - INFO -         Start Nanny at: 'tcp://10.67.22.100:35481'\n",
      "2025-07-04 17:20:06,076 - distributed.deploy.ssh - INFO - 2025-07-04 17:20:06,076 - distributed.worker - INFO -       Start worker at:   tcp://10.67.22.240:46433\n",
      "2025-07-04 17:20:06,243 - distributed.deploy.ssh - INFO - 2025-07-04 17:20:06,240 - distributed.worker - INFO -       Start worker at:    tcp://10.67.22.17:45177\n",
      "2025-07-04 17:20:06,255 - distributed.deploy.ssh - INFO - 2025-07-04 17:20:06,257 - distributed.worker - INFO -       Start worker at:   tcp://10.67.22.126:35563\n",
      "2025-07-04 17:20:06,284 - distributed.deploy.ssh - INFO - 2025-07-04 17:20:06,282 - distributed.worker - INFO -       Start worker at:   tcp://10.67.22.100:45729\n",
      "/home/ubuntu/miniconda/envs/dask-env/lib/python3.10/site-packages/distributed/client.py:3370: UserWarning: Sending large graph of size 38.15 MiB.\n",
      "This may cause some slowdown.\n",
      "Consider loading the data with Dask directly\n",
      " or using futures or delayed objects to embed the data into the graph without repetition.\n",
      "See also https://docs.dask.org/en/stable/best-practices.html#load-data-with-dask for more information.\n",
      "  warnings.warn(\n"
     ]
    },
    {
     "name": "stdout",
     "output_type": "stream",
     "text": [
      "Iteration 4 of 10\n"
     ]
    },
    {
     "name": "stderr",
     "output_type": "stream",
     "text": [
      "2025-07-04 17:20:43,744 - distributed.deploy.ssh - INFO - 2025-07-04 17:20:43,743 - distributed.http.proxy - INFO - To route to workers diagnostics web server please install jupyter-server-proxy: python -m pip install jupyter-server-proxy\n",
      "2025-07-04 17:20:43,772 - distributed.deploy.ssh - INFO - 2025-07-04 17:20:43,772 - distributed.scheduler - INFO - State start\n",
      "2025-07-04 17:20:43,776 - distributed.deploy.ssh - INFO - 2025-07-04 17:20:43,776 - distributed.scheduler - INFO -   Scheduler at:  tcp://10.67.22.240:42795\n",
      "2025-07-04 17:20:45,204 - distributed.deploy.ssh - INFO - 2025-07-04 17:20:45,200 - distributed.nanny - INFO -         Start Nanny at: 'tcp://10.67.22.17:37601'\n",
      "2025-07-04 17:20:45,214 - distributed.deploy.ssh - INFO - 2025-07-04 17:20:45,212 - distributed.nanny - INFO -         Start Nanny at: 'tcp://10.67.22.100:43449'\n",
      "2025-07-04 17:20:45,221 - distributed.deploy.ssh - INFO - 2025-07-04 17:20:45,222 - distributed.nanny - INFO -         Start Nanny at: 'tcp://10.67.22.126:35631'\n",
      "2025-07-04 17:20:45,262 - distributed.deploy.ssh - INFO - 2025-07-04 17:20:45,258 - distributed.nanny - INFO -         Start Nanny at: 'tcp://10.67.22.240:39155'\n",
      "2025-07-04 17:20:45,564 - distributed.deploy.ssh - INFO - 2025-07-04 17:20:45,560 - distributed.worker - INFO -       Start worker at:    tcp://10.67.22.17:38035\n",
      "2025-07-04 17:20:45,576 - distributed.deploy.ssh - INFO - 2025-07-04 17:20:45,575 - distributed.worker - INFO -       Start worker at:   tcp://10.67.22.100:40897\n",
      "2025-07-04 17:20:45,584 - distributed.deploy.ssh - INFO - 2025-07-04 17:20:45,584 - distributed.worker - INFO -       Start worker at:   tcp://10.67.22.126:36297\n",
      "2025-07-04 17:20:45,702 - distributed.deploy.ssh - INFO - 2025-07-04 17:20:45,701 - distributed.worker - INFO -       Start worker at:   tcp://10.67.22.240:38295\n",
      "/home/ubuntu/miniconda/envs/dask-env/lib/python3.10/site-packages/distributed/client.py:3370: UserWarning: Sending large graph of size 38.15 MiB.\n",
      "This may cause some slowdown.\n",
      "Consider loading the data with Dask directly\n",
      " or using futures or delayed objects to embed the data into the graph without repetition.\n",
      "See also https://docs.dask.org/en/stable/best-practices.html#load-data-with-dask for more information.\n",
      "  warnings.warn(\n"
     ]
    },
    {
     "name": "stdout",
     "output_type": "stream",
     "text": [
      "Iteration 5 of 10\n"
     ]
    },
    {
     "name": "stderr",
     "output_type": "stream",
     "text": [
      "2025-07-04 17:21:06,683 - distributed.deploy.ssh - INFO - 2025-07-04 17:21:06,681 - distributed.http.proxy - INFO - To route to workers diagnostics web server please install jupyter-server-proxy: python -m pip install jupyter-server-proxy\n",
      "2025-07-04 17:21:06,710 - distributed.deploy.ssh - INFO - 2025-07-04 17:21:06,709 - distributed.scheduler - INFO - State start\n",
      "2025-07-04 17:21:06,714 - distributed.deploy.ssh - INFO - 2025-07-04 17:21:06,713 - distributed.scheduler - INFO -   Scheduler at:  tcp://10.67.22.240:38577\n",
      "2025-07-04 17:21:08,167 - distributed.deploy.ssh - INFO - 2025-07-04 17:21:08,165 - distributed.nanny - INFO -         Start Nanny at: 'tcp://10.67.22.240:36909'\n",
      "2025-07-04 17:21:08,350 - distributed.deploy.ssh - INFO - 2025-07-04 17:21:08,347 - distributed.nanny - INFO -         Start Nanny at: 'tcp://10.67.22.17:38141'\n",
      "2025-07-04 17:21:08,358 - distributed.deploy.ssh - INFO - 2025-07-04 17:21:08,356 - distributed.nanny - INFO -         Start Nanny at: 'tcp://10.67.22.100:44241'\n",
      "2025-07-04 17:21:08,365 - distributed.deploy.ssh - INFO - 2025-07-04 17:21:08,366 - distributed.nanny - INFO -         Start Nanny at: 'tcp://10.67.22.126:38149'\n",
      "2025-07-04 17:21:08,583 - distributed.deploy.ssh - INFO - 2025-07-04 17:21:08,582 - distributed.worker - INFO -       Start worker at:   tcp://10.67.22.240:41731\n",
      "2025-07-04 17:21:08,714 - distributed.deploy.ssh - INFO - 2025-07-04 17:21:08,710 - distributed.worker - INFO -       Start worker at:    tcp://10.67.22.17:39827\n",
      "2025-07-04 17:21:08,725 - distributed.deploy.ssh - INFO - 2025-07-04 17:21:08,723 - distributed.worker - INFO -       Start worker at:   tcp://10.67.22.100:45869\n",
      "2025-07-04 17:21:08,734 - distributed.deploy.ssh - INFO - 2025-07-04 17:21:08,729 - distributed.worker - INFO -       Start worker at:   tcp://10.67.22.126:39665\n",
      "/home/ubuntu/miniconda/envs/dask-env/lib/python3.10/site-packages/distributed/client.py:3370: UserWarning: Sending large graph of size 38.15 MiB.\n",
      "This may cause some slowdown.\n",
      "Consider loading the data with Dask directly\n",
      " or using futures or delayed objects to embed the data into the graph without repetition.\n",
      "See also https://docs.dask.org/en/stable/best-practices.html#load-data-with-dask for more information.\n",
      "  warnings.warn(\n"
     ]
    },
    {
     "name": "stdout",
     "output_type": "stream",
     "text": [
      "Iteration 6 of 10\n"
     ]
    },
    {
     "name": "stderr",
     "output_type": "stream",
     "text": [
      "2025-07-04 17:21:33,463 - distributed.deploy.ssh - INFO - 2025-07-04 17:21:33,462 - distributed.http.proxy - INFO - To route to workers diagnostics web server please install jupyter-server-proxy: python -m pip install jupyter-server-proxy\n",
      "2025-07-04 17:21:33,493 - distributed.deploy.ssh - INFO - 2025-07-04 17:21:33,491 - distributed.scheduler - INFO - State start\n",
      "2025-07-04 17:21:33,496 - distributed.deploy.ssh - INFO - 2025-07-04 17:21:33,496 - distributed.scheduler - INFO -   Scheduler at:  tcp://10.67.22.240:33045\n",
      "2025-07-04 17:21:34,899 - distributed.deploy.ssh - INFO - 2025-07-04 17:21:34,896 - distributed.nanny - INFO -         Start Nanny at: 'tcp://10.67.22.17:33931'\n",
      "2025-07-04 17:21:34,905 - distributed.deploy.ssh - INFO - 2025-07-04 17:21:34,903 - distributed.nanny - INFO -         Start Nanny at: 'tcp://10.67.22.100:37021'\n",
      "2025-07-04 17:21:34,911 - distributed.deploy.ssh - INFO - 2025-07-04 17:21:34,912 - distributed.nanny - INFO -         Start Nanny at: 'tcp://10.67.22.126:39363'\n",
      "2025-07-04 17:21:34,952 - distributed.deploy.ssh - INFO - 2025-07-04 17:21:34,951 - distributed.nanny - INFO -         Start Nanny at: 'tcp://10.67.22.240:40639'\n",
      "2025-07-04 17:21:35,258 - distributed.deploy.ssh - INFO - 2025-07-04 17:21:35,256 - distributed.worker - INFO -       Start worker at:    tcp://10.67.22.17:36713\n",
      "2025-07-04 17:21:35,273 - distributed.deploy.ssh - INFO - 2025-07-04 17:21:35,269 - distributed.worker - INFO -       Start worker at:   tcp://10.67.22.100:43925\n",
      "2025-07-04 17:21:35,276 - distributed.deploy.ssh - INFO - 2025-07-04 17:21:35,272 - distributed.worker - INFO -       Start worker at:   tcp://10.67.22.126:32849\n",
      "2025-07-04 17:21:35,378 - distributed.deploy.ssh - INFO - 2025-07-04 17:21:35,378 - distributed.worker - INFO -       Start worker at:   tcp://10.67.22.240:37327\n",
      "/home/ubuntu/miniconda/envs/dask-env/lib/python3.10/site-packages/distributed/client.py:3370: UserWarning: Sending large graph of size 38.15 MiB.\n",
      "This may cause some slowdown.\n",
      "Consider loading the data with Dask directly\n",
      " or using futures or delayed objects to embed the data into the graph without repetition.\n",
      "See also https://docs.dask.org/en/stable/best-practices.html#load-data-with-dask for more information.\n",
      "  warnings.warn(\n"
     ]
    },
    {
     "name": "stdout",
     "output_type": "stream",
     "text": [
      "Iteration 7 of 10\n"
     ]
    },
    {
     "name": "stderr",
     "output_type": "stream",
     "text": [
      "2025-07-04 17:22:17,798 - distributed.deploy.ssh - INFO - 2025-07-04 17:22:17,797 - distributed.http.proxy - INFO - To route to workers diagnostics web server please install jupyter-server-proxy: python -m pip install jupyter-server-proxy\n",
      "2025-07-04 17:22:17,826 - distributed.deploy.ssh - INFO - 2025-07-04 17:22:17,825 - distributed.scheduler - INFO - State start\n",
      "2025-07-04 17:22:17,831 - distributed.deploy.ssh - INFO - 2025-07-04 17:22:17,830 - distributed.scheduler - INFO -   Scheduler at:  tcp://10.67.22.240:37781\n",
      "2025-07-04 17:22:19,256 - distributed.deploy.ssh - INFO - 2025-07-04 17:22:19,255 - distributed.nanny - INFO -         Start Nanny at: 'tcp://10.67.22.240:40597'\n",
      "2025-07-04 17:22:19,462 - distributed.deploy.ssh - INFO - 2025-07-04 17:22:19,459 - distributed.nanny - INFO -         Start Nanny at: 'tcp://10.67.22.100:46561'\n",
      "2025-07-04 17:22:19,468 - distributed.deploy.ssh - INFO - 2025-07-04 17:22:19,466 - distributed.nanny - INFO -         Start Nanny at: 'tcp://10.67.22.17:35979'\n",
      "2025-07-04 17:22:19,475 - distributed.deploy.ssh - INFO - 2025-07-04 17:22:19,476 - distributed.nanny - INFO -         Start Nanny at: 'tcp://10.67.22.126:39153'\n",
      "2025-07-04 17:22:19,657 - distributed.deploy.ssh - INFO - 2025-07-04 17:22:19,656 - distributed.worker - INFO -       Start worker at:   tcp://10.67.22.240:43165\n",
      "2025-07-04 17:22:19,822 - distributed.deploy.ssh - INFO - 2025-07-04 17:22:19,821 - distributed.worker - INFO -       Start worker at:   tcp://10.67.22.100:33473\n",
      "2025-07-04 17:22:19,833 - distributed.deploy.ssh - INFO - 2025-07-04 17:22:19,831 - distributed.worker - INFO -       Start worker at:    tcp://10.67.22.17:35343\n",
      "2025-07-04 17:22:19,840 - distributed.deploy.ssh - INFO - 2025-07-04 17:22:19,836 - distributed.worker - INFO -       Start worker at:   tcp://10.67.22.126:43647\n",
      "/home/ubuntu/miniconda/envs/dask-env/lib/python3.10/site-packages/distributed/client.py:3370: UserWarning: Sending large graph of size 38.15 MiB.\n",
      "This may cause some slowdown.\n",
      "Consider loading the data with Dask directly\n",
      " or using futures or delayed objects to embed the data into the graph without repetition.\n",
      "See also https://docs.dask.org/en/stable/best-practices.html#load-data-with-dask for more information.\n",
      "  warnings.warn(\n"
     ]
    },
    {
     "name": "stdout",
     "output_type": "stream",
     "text": [
      "Iteration 8 of 10\n"
     ]
    },
    {
     "name": "stderr",
     "output_type": "stream",
     "text": [
      "2025-07-04 17:23:06,703 - distributed.deploy.ssh - INFO - 2025-07-04 17:23:06,702 - distributed.http.proxy - INFO - To route to workers diagnostics web server please install jupyter-server-proxy: python -m pip install jupyter-server-proxy\n",
      "2025-07-04 17:23:06,732 - distributed.deploy.ssh - INFO - 2025-07-04 17:23:06,731 - distributed.scheduler - INFO - State start\n",
      "2025-07-04 17:23:06,736 - distributed.deploy.ssh - INFO - 2025-07-04 17:23:06,736 - distributed.scheduler - INFO -   Scheduler at:  tcp://10.67.22.240:40611\n",
      "2025-07-04 17:23:08,131 - distributed.deploy.ssh - INFO - 2025-07-04 17:23:08,129 - distributed.nanny - INFO -         Start Nanny at: 'tcp://10.67.22.17:44461'\n",
      "2025-07-04 17:23:08,137 - distributed.deploy.ssh - INFO - 2025-07-04 17:23:08,135 - distributed.nanny - INFO -         Start Nanny at: 'tcp://10.67.22.100:42599'\n",
      "2025-07-04 17:23:08,146 - distributed.deploy.ssh - INFO - 2025-07-04 17:23:08,146 - distributed.nanny - INFO -         Start Nanny at: 'tcp://10.67.22.126:41245'\n",
      "2025-07-04 17:23:08,187 - distributed.deploy.ssh - INFO - 2025-07-04 17:23:08,185 - distributed.nanny - INFO -         Start Nanny at: 'tcp://10.67.22.240:37551'\n",
      "2025-07-04 17:23:08,495 - distributed.deploy.ssh - INFO - 2025-07-04 17:23:08,492 - distributed.worker - INFO -       Start worker at:    tcp://10.67.22.17:42559\n",
      "2025-07-04 17:23:08,501 - distributed.deploy.ssh - INFO - 2025-07-04 17:23:08,497 - distributed.worker - INFO -       Start worker at:   tcp://10.67.22.100:42057\n",
      "2025-07-04 17:23:08,513 - distributed.deploy.ssh - INFO - 2025-07-04 17:23:08,513 - distributed.worker - INFO -       Start worker at:   tcp://10.67.22.126:35059\n",
      "2025-07-04 17:23:08,596 - distributed.deploy.ssh - INFO - 2025-07-04 17:23:08,595 - distributed.worker - INFO -       Start worker at:   tcp://10.67.22.240:46797\n",
      "/home/ubuntu/miniconda/envs/dask-env/lib/python3.10/site-packages/distributed/client.py:3370: UserWarning: Sending large graph of size 38.15 MiB.\n",
      "This may cause some slowdown.\n",
      "Consider loading the data with Dask directly\n",
      " or using futures or delayed objects to embed the data into the graph without repetition.\n",
      "See also https://docs.dask.org/en/stable/best-practices.html#load-data-with-dask for more information.\n",
      "  warnings.warn(\n"
     ]
    },
    {
     "name": "stdout",
     "output_type": "stream",
     "text": [
      "Iteration 9 of 10\n"
     ]
    },
    {
     "name": "stderr",
     "output_type": "stream",
     "text": [
      "2025-07-04 17:23:45,789 - distributed.deploy.ssh - INFO - 2025-07-04 17:23:45,788 - distributed.http.proxy - INFO - To route to workers diagnostics web server please install jupyter-server-proxy: python -m pip install jupyter-server-proxy\n",
      "2025-07-04 17:23:45,817 - distributed.deploy.ssh - INFO - 2025-07-04 17:23:45,817 - distributed.scheduler - INFO - State start\n",
      "2025-07-04 17:23:45,822 - distributed.deploy.ssh - INFO - 2025-07-04 17:23:45,822 - distributed.scheduler - INFO -   Scheduler at:  tcp://10.67.22.240:46419\n",
      "2025-07-04 17:23:47,263 - distributed.deploy.ssh - INFO - 2025-07-04 17:23:47,261 - distributed.nanny - INFO -         Start Nanny at: 'tcp://10.67.22.240:34073'\n",
      "2025-07-04 17:23:47,456 - distributed.deploy.ssh - INFO - 2025-07-04 17:23:47,454 - distributed.nanny - INFO -         Start Nanny at: 'tcp://10.67.22.17:41913'\n",
      "2025-07-04 17:23:47,478 - distributed.deploy.ssh - INFO - 2025-07-04 17:23:47,478 - distributed.nanny - INFO -         Start Nanny at: 'tcp://10.67.22.126:36881'\n",
      "2025-07-04 17:23:47,482 - distributed.deploy.ssh - INFO - 2025-07-04 17:23:47,478 - distributed.nanny - INFO -         Start Nanny at: 'tcp://10.67.22.100:44515'\n",
      "2025-07-04 17:23:47,679 - distributed.deploy.ssh - INFO - 2025-07-04 17:23:47,678 - distributed.worker - INFO -       Start worker at:   tcp://10.67.22.240:35869\n",
      "2025-07-04 17:23:47,816 - distributed.deploy.ssh - INFO - 2025-07-04 17:23:47,814 - distributed.worker - INFO -       Start worker at:    tcp://10.67.22.17:39319\n",
      "2025-07-04 17:23:47,847 - distributed.deploy.ssh - INFO - 2025-07-04 17:23:47,845 - distributed.worker - INFO -       Start worker at:   tcp://10.67.22.126:40591\n",
      "2025-07-04 17:23:47,850 - distributed.deploy.ssh - INFO - 2025-07-04 17:23:47,843 - distributed.worker - INFO -       Start worker at:   tcp://10.67.22.100:38639\n",
      "/home/ubuntu/miniconda/envs/dask-env/lib/python3.10/site-packages/distributed/client.py:3370: UserWarning: Sending large graph of size 38.15 MiB.\n",
      "This may cause some slowdown.\n",
      "Consider loading the data with Dask directly\n",
      " or using futures or delayed objects to embed the data into the graph without repetition.\n",
      "See also https://docs.dask.org/en/stable/best-practices.html#load-data-with-dask for more information.\n",
      "  warnings.warn(\n"
     ]
    },
    {
     "name": "stdout",
     "output_type": "stream",
     "text": [
      "Iteration 10 of 10\n"
     ]
    },
    {
     "name": "stderr",
     "output_type": "stream",
     "text": [
      "2025-07-04 17:24:11,286 - distributed.deploy.ssh - INFO - 2025-07-04 17:24:11,284 - distributed.http.proxy - INFO - To route to workers diagnostics web server please install jupyter-server-proxy: python -m pip install jupyter-server-proxy\n",
      "2025-07-04 17:24:11,315 - distributed.deploy.ssh - INFO - 2025-07-04 17:24:11,313 - distributed.scheduler - INFO - State start\n",
      "2025-07-04 17:24:11,319 - distributed.deploy.ssh - INFO - 2025-07-04 17:24:11,318 - distributed.scheduler - INFO -   Scheduler at:  tcp://10.67.22.240:44231\n",
      "2025-07-04 17:24:12,723 - distributed.deploy.ssh - INFO - 2025-07-04 17:24:12,722 - distributed.nanny - INFO -         Start Nanny at: 'tcp://10.67.22.100:37245'\n",
      "2025-07-04 17:24:12,730 - distributed.deploy.ssh - INFO - 2025-07-04 17:24:12,729 - distributed.nanny - INFO -         Start Nanny at: 'tcp://10.67.22.126:33051'\n",
      "2025-07-04 17:24:12,732 - distributed.deploy.ssh - INFO - 2025-07-04 17:24:12,729 - distributed.nanny - INFO -         Start Nanny at: 'tcp://10.67.22.17:42733'\n",
      "2025-07-04 17:24:12,769 - distributed.deploy.ssh - INFO - 2025-07-04 17:24:12,767 - distributed.nanny - INFO -         Start Nanny at: 'tcp://10.67.22.240:46021'\n",
      "2025-07-04 17:24:13,091 - distributed.deploy.ssh - INFO - 2025-07-04 17:24:13,090 - distributed.worker - INFO -       Start worker at:   tcp://10.67.22.100:43561\n",
      "2025-07-04 17:24:13,100 - distributed.deploy.ssh - INFO - 2025-07-04 17:24:13,090 - distributed.worker - INFO -       Start worker at:    tcp://10.67.22.17:45239\n",
      "2025-07-04 17:24:13,102 - distributed.deploy.ssh - INFO - 2025-07-04 17:24:13,095 - distributed.worker - INFO -       Start worker at:   tcp://10.67.22.126:45633\n",
      "2025-07-04 17:24:13,216 - distributed.deploy.ssh - INFO - 2025-07-04 17:24:13,215 - distributed.worker - INFO -       Start worker at:   tcp://10.67.22.240:42215\n",
      "/home/ubuntu/miniconda/envs/dask-env/lib/python3.10/site-packages/distributed/client.py:3370: UserWarning: Sending large graph of size 38.15 MiB.\n",
      "This may cause some slowdown.\n",
      "Consider loading the data with Dask directly\n",
      " or using futures or delayed objects to embed the data into the graph without repetition.\n",
      "See also https://docs.dask.org/en/stable/best-practices.html#load-data-with-dask for more information.\n",
      "  warnings.warn(\n"
     ]
    }
   ],
   "source": [
    "# Init stats\n",
    "stats = {'total': [], 'data_input': [], 'data_processing': [], 'first_centroid': [],\n",
    "         'xxt': [], 'phi_init': [], 'parallel_init': [], 'weight_calc': [], \n",
    "         'lloyd': [], 'final_labels': []}\n",
    "\n",
    "N_runs = 10\n",
    "for i in range(N_runs):\n",
    "    print(f'Iteration {i+1} of {N_runs}')\n",
    "    # Open cluster\n",
    "    cluster, client = open_cluster()\n",
    "    time.sleep(2)\n",
    "\n",
    "    # Run algorithm\n",
    "    N_PARTITIONS = 4\n",
    "    res = k_means_parallel(path=path_git, k=CENTERS, l=L, label_column=LABEL_COLUMN,\n",
    "                           random_seed=RS, verbose=0, npartitions=N_PARTITIONS)\n",
    "\n",
    "    # Save results\n",
    "    for k in stats:\n",
    "        stats[k].append(res['timing'][k])\n",
    "    \n",
    "    time.sleep(1)\n",
    "    \n",
    "    # Close cluster\n",
    "    close_cluster(cluster, client)\n",
    "    time.sleep(2)\n",
    "\n",
    "stats = pd.DataFrame(stats)\n",
    "stats.to_csv('time_dist_stats.csv', index=False)"
   ]
  },
  {
   "cell_type": "code",
   "execution_count": 13,
   "id": "8ecac581-b1c7-4e49-9a64-8afff7edf802",
   "metadata": {},
   "outputs": [],
   "source": [
    "# Read our data\n",
    "stats = pd.read_csv('time_dist_stats.csv')"
   ]
  },
  {
   "cell_type": "code",
   "execution_count": 14,
   "id": "244169b3-a41c-4a09-9ea5-2a50c43cbc96",
   "metadata": {},
   "outputs": [
    {
     "data": {
      "image/png": "[encoded data removed]",
      "text/plain": [
       "<Figure size 1000x600 with 1 Axes>"
      ]
     },
     "metadata": {},
     "output_type": "display_data"
    }
   ],
   "source": [
    "# Let's make a bar plot with the most important timings\n",
    "read_t = stats['data_input'] + stats['first_centroid']\n",
    "processing_t = stats['data_processing']\n",
    "xxt_t = stats['xxt']\n",
    "cost_t = stats['phi_init']\n",
    "other_t = stats['weight_calc'] + stats['final_labels']\n",
    "init_t = stats['parallel_init']\n",
    "lloyd_t = stats['lloyd']\n",
    "\n",
    "# Get timing labels, mean and std\n",
    "timing_labels = ['Load data', 'Persist data', r'$XX^T$', r'$\\phi_X(C)$', '|| algorithm', 'Lloyd\\'s algorithm', 'Other']\n",
    "mean_timings = [np.mean(d) for d in [read_t, processing_t, xxt_t, cost_t, init_t, lloyd_t, other_t]]\n",
    "std_timings = [np.std(d) for d in [read_t, processing_t, xxt_t, cost_t, init_t, lloyd_t, other_t]]\n",
    "\n",
    "# Figure params\n",
    "FONTSIZE = 13\n",
    "CS = 4\n",
    "LW = 2\n",
    "\n",
    "# Init figure\n",
    "fig, ax = plt.subplots(figsize=(5,3), nrows=1, ncols=1, dpi=200)\n",
    "\n",
    "# Plot bars\n",
    "plt.bar(np.arange(len(mean_timings)), mean_timings, facecolor='w', \n",
    "        edgecolor='tab:blue', linewidth=LW)\n",
    "# Plot errorbars\n",
    "plt.errorbar(np.arange(len(mean_timings)), mean_timings, yerr=std_timings, \n",
    "            ls='', capsize=CS, linewidth=LW, capthick=LW)\n",
    "\n",
    "# Labels\n",
    "plt.xticks(np.arange(len(mean_timings)), timing_labels, rotation=45, horizontalalignment='right')\n",
    "plt.ylabel(r'Time (s)', fontsize=FONTSIZE)\n",
    "\n",
    "# Set axis scale\n",
    "ax.set_yscale('log')"
   ]
  },
  {
   "cell_type": "markdown",
   "id": "6e34a75e-11ac-455e-acc0-8819cd82b2e3",
   "metadata": {},
   "source": [
    "Loading the data is the most time-consuming task of the pipeline, followed by the K-Means|| initialization and Lloyd's algorithm. The time spent in the calculation of the $XX^T$ term does not appear to be significant. However, it can still be worthwhile to calculate it only once, as the memory cost of persisting the $XX^T$ term is much smaller than that of the original dataset for high-dimensional data."
   ]
  },
  {
   "cell_type": "markdown",
   "id": "1fe40bbe-fed3-4d7f-8c2e-992050d0b4ef",
   "metadata": {},
   "source": [
    "## Weak scaling test"
   ]
  },
  {
   "cell_type": "markdown",
   "id": "82007280-2acb-4069-8491-82df9277eac6",
   "metadata": {
    "jp-MarkdownHeadingCollapsed": true
   },
   "source": [
    "#### Pipeline"
   ]
  },
  {
   "cell_type": "code",
   "execution_count": 15,
   "id": "78bd9c7a-1f5e-406f-bbf7-78c579b47e0e",
   "metadata": {},
   "outputs": [],
   "source": [
    "def open_cluster_n_workers(n):\n",
    "    nodes = [\"10.67.22.240\", \"10.67.22.17\"]\n",
    "    if n >= 2:\n",
    "        nodes.append(\"10.67.22.240\")\n",
    "    if n >= 3:\n",
    "        nodes.append(\"10.67.22.100\")\n",
    "    if n == 4:\n",
    "        nodes.append(\"10.67.22.126\")\n",
    "    if n > 4:\n",
    "        print(\"Error: maximum number of workers is 4.\")\n",
    "        return None, None\n",
    "\n",
    "    # Open cluster\n",
    "    cluster = SSHCluster(\n",
    "        nodes,\n",
    "        connect_options={\"known_hosts\": None},\n",
    "        worker_options={\"nthreads\": 1, \"memory_limit\": \"2GB\"},\n",
    "        scheduler_options={\"port\": 0, \"dashboard_address\": \":8787\"}\n",
    "    )\n",
    "    client = Client(cluster)\n",
    "    return cluster, client\n",
    "\n",
    "\n",
    "def open_local_cluster():\n",
    "    cluster = LocalCluster(n_workers=1)\n",
    "    client = Client(cluster)\n",
    "    return cluster, client"
   ]
  },
  {
   "cell_type": "code",
   "execution_count": 16,
   "id": "8ab11d9c-5f80-4ff7-aa8b-87b5e6001ca5",
   "metadata": {},
   "outputs": [],
   "source": [
    "def k_means_weak_scaling(path, n, k, l, random_seed=None, label_column=None,\n",
    "                     datatype='dataframe', npartitions=1, chunk_size=1000,\n",
    "                     verbose=2, data=None):\n",
    "    '''\n",
    "    Params:\n",
    "        path : str\n",
    "            Path to the file containing the input data. If \"rcv1\", then\n",
    "            the RCV1 dataset is downloaded inside the function.\n",
    "        n : int\n",
    "            Number of repeated times the data is loaded.\n",
    "        k : int\n",
    "            Number of clusters to use.\n",
    "        l : int or float\n",
    "            Oversampling factor for the K-means|| initialization method.\n",
    "        random_seed : int (optional)\n",
    "            Seed for the random number generators. Not used by default.\n",
    "        label_column : str (optional)\n",
    "            Name of the column containing the labels of the data. Not\n",
    "            used by default.\n",
    "        datatype : str (optional)\n",
    "            Either \"dataframe\" (default) or \"array\". Indicates how to\n",
    "            process the input data.\n",
    "        npartitions : int (optional)\n",
    "            Number of partitions to use if the data is processed as a\n",
    "            dataframe. Default is 1.\n",
    "        chunk_size : int (optional)\n",
    "            Chunk size to use if the data is processed as an array.\n",
    "            Default is 1000.\n",
    "        verbose : int (optional)\n",
    "            Amount of information to print. If 0, no information is \n",
    "            printed. If 1, only timing information is printed. If 2\n",
    "            (default), all information is printed.\n",
    "        data : array (optional)\n",
    "            Predefned data to run the algorithm on. If given, then path\n",
    "            is ignored. Not used by default.\n",
    "    Output:\n",
    "        Returns a dictionary with the following elements:\n",
    "            - centroids : array       -> Centroid positions\n",
    "            - cluster_labels : array  -> Cluster assignments\n",
    "            - timing : dict           -> Performance information\n",
    "    '''\n",
    "    # Begin overall timing\n",
    "    t1 = time.time()\n",
    "    \n",
    "    # Initialize random number generator from Dask and numpy seed\n",
    "    if random_seed != None:\n",
    "        rng = da.random.default_rng(random_seed)\n",
    "        np.random.seed(random_seed)\n",
    "\n",
    "    # Read input data (if not given)\n",
    "    t_data = time.time()\n",
    "    if type(data) == type(None):\n",
    "        pre_data = False\n",
    "        if verbose == 2:\n",
    "            print('Reading input data')\n",
    "    \n",
    "        if path not in ['rcv1']:\n",
    "            if n == 1:\n",
    "                data = pd.read_csv(path)\n",
    "            else:\n",
    "                data_reps = []\n",
    "                for i in range(n):\n",
    "                    data_reps.append(pd.read_csv(path))\n",
    "                data = pd.concat(data_reps)\n",
    "                    \n",
    "            data_shape = data.shape\n",
    "            \n",
    "        elif path == 'rcv1':\n",
    "            # Load RCV1 dataset\n",
    "            rcv1 = fetch_rcv1()\n",
    "            data = rcv1.data\n",
    "            data_shape = data.shape\n",
    "    else:\n",
    "        pre_data = True\n",
    "        data_shape = data.shape\n",
    "    dt_data = time.time() - t_data\n",
    "\n",
    "    # Separate labels from input\n",
    "    t_data_process = time.time()\n",
    "    if label_column != None:\n",
    "        # Input\n",
    "        X_width = data_shape[1]-1\n",
    "        X = data.drop(columns=[label_column])\n",
    "        X = dd.from_pandas(X, npartitions=npartitions)\n",
    "        X = X.persist()  # split\n",
    "        client.rebalance(X)  # spread around all of your workers\n",
    "        \n",
    "    else:\n",
    "        # Only input\n",
    "        X_width = data_shape[1]\n",
    "        X = data\n",
    "        X = dd.from_pandas(X, npartitions=npartitions)\n",
    "        X = X.persist()  # split\n",
    "        client.rebalance(X)  # spread around all of your workers\n",
    "        \n",
    "    dt_data_process = time.time() - t_data_process\n",
    "    if verbose > 0:\n",
    "        print(f'Data loaded and processed in {round(dt_data_process + dt_data, 1)} s')\n",
    "\n",
    "    # Run the K-means algorithm:\n",
    "    # Get first sample as initial centroid\n",
    "    t_first_centroid = time.time()\n",
    "    if path not in ['rcv1']:\n",
    "        if pre_data:\n",
    "            first_sample = np.array(X[0,:])\n",
    "        else:\n",
    "            first_sample = get_first_sample(path)\n",
    "    elif path == 'rcv1':\n",
    "        first_sample = data[0,:].toarray()\n",
    "        \n",
    "    if label_column != None:\n",
    "        first_sample = first_sample.drop(columns=[label_column])\n",
    "    C = da.array([np.array(first_sample).flatten()])\n",
    "\n",
    "    dt_first_centroid = time.time() - t_first_centroid\n",
    "    \n",
    "    # Calculate constant XXT term, \n",
    "    # also persist since we are going to reuse it \n",
    "    t_xxt = time.time()\n",
    "    XXT = get_XXT_term(X).persist()\n",
    "    dt_xxt = time.time() - t_xxt\n",
    "    \n",
    "    # Get initial cost function\n",
    "    t_phi_init = time.time()\n",
    "    phi_init = cost_function(C, X, XXT).compute()\n",
    "    dt_phi_init = time.time() - t_phi_init\n",
    "    \n",
    "    # Get number of iterations of the || algorithm\n",
    "    O_log_phi = round(np.log(phi_init))\n",
    "    \n",
    "    # Init current cost\n",
    "    phi = phi_init.copy()\n",
    "\n",
    "    # Proceed with main || loop\n",
    "    t_parallel_init = time.time()\n",
    "    if verbose == 2:\n",
    "        print('\\nRunning K-means|| initialization:')\n",
    "    for i in range(O_log_phi):\n",
    "        if verbose == 2:\n",
    "            print(f'Iteration {i+1} of {O_log_phi}')\n",
    "            \n",
    "        # Sample new centroids\n",
    "        C_prime = sample_new_centroids(C, X, XXT, phi, l)\n",
    "    \n",
    "        # Add to the current centroids\n",
    "        C = da.vstack([C, C_prime]).compute()\n",
    "    \n",
    "        # Calculate new cost and update current\n",
    "        phi = cost_function(C, X, XXT).compute()\n",
    "    \n",
    "    if verbose == 2:\n",
    "        # Print number of final centroids from ||\n",
    "        print('\\nNumber of initialized centroids:', C.shape[0])\n",
    "        \n",
    "        # Print initial vs. final cost\n",
    "        print('Cost before initialization:', phi_init)\n",
    "        print('Cost after initialization:', phi)\n",
    "\n",
    "    dt_parallel_init = time.time() - t_parallel_init\n",
    "    if verbose > 0:\n",
    "        print(f'K-means|| initialization finished in {round(dt_parallel_init, 1)} s')\n",
    "    \n",
    "    # Get the weight of each centroid\n",
    "    if verbose == 2:\n",
    "        print('\\nCalculating centroid weights')\n",
    "    t_weight_calc = time.time()\n",
    "    X_labels = get_cluster_classification(C, X, XXT).compute_chunk_sizes()\n",
    "    used_C, w_C = get_centroid_weights(X_labels)\n",
    "    used_C = used_C.compute()\n",
    "    w_C = w_C.compute()\n",
    "\n",
    "    dt_weight_calc = time.time() - t_weight_calc\n",
    "    if verbose > 0:\n",
    "        print(f'Centroid weight calculation finished in {round(dt_weight_calc, 1)} s')\n",
    "\n",
    "    # Proceed with Lloyd's algorithm on the centroids\n",
    "    t_lloyd = time.time()\n",
    "    if verbose == 2:\n",
    "        print('\\nClustering centroids')\n",
    "    \n",
    "    # Initialize k final centroids, as the k-th heaviest\n",
    "    # centroids from the previous step\n",
    "    C_f = C[np.isin(w_C, np.sort(w_C, )[len(w_C)-k:])]\n",
    "    \n",
    "    # Calculate XXT for centroids\n",
    "    CCT =  get_XXT_term(C).persist()\n",
    "    \n",
    "    # Perform iterative adjustments\n",
    "    lloyd_done = False\n",
    "    N_lloyd_steps = 0\n",
    "    while not lloyd_done:\n",
    "        # Save old labels (after first iteration)\n",
    "        if N_lloyd_steps > 0:\n",
    "            old_labels = C_labels.copy()\n",
    "        \n",
    "        # Calculate current clustering\n",
    "        C_labels = get_cluster_classification(C_f, C, CCT).persist()\n",
    "    \n",
    "        # Compute new centroids from mean within clusters\n",
    "        C_f = compute_centroids(C, w_C, C_labels, X_width).compute()\n",
    "        \n",
    "        # Check for termination condition (after first iteration)\n",
    "        if N_lloyd_steps > 0:\n",
    "            different_labels = da.sum(old_labels != C_labels).compute()\n",
    "            if different_labels == 0:\n",
    "                lloyd_done = True\n",
    "    \n",
    "        # Increase step counter\n",
    "        N_lloyd_steps += 1\n",
    "    dt_lloyd = time.time() - t_lloyd\n",
    "    \n",
    "    if verbose == 2:\n",
    "        print(f'Centroid clustering finished after {N_lloyd_steps} iterations and {round(dt_lloyd)} s')\n",
    "    elif verbose == 1:\n",
    "        print(f'\\nLloyd algorithm finished in {round(dt_lloyd)} s')\n",
    "    \n",
    "    # Compute final labels\n",
    "    if verbose == 2:\n",
    "        print('\\nCalculating final labels')\n",
    "    t_final_labels = time.time()\n",
    "    final_labels = get_cluster_classification(C_f, X, XXT).compute()\n",
    "    dt_final_labels = time.time() - t_final_labels\n",
    "    if verbose > 0:\n",
    "        print(f'Final labels calculated in {round(dt_final_labels)} s')\n",
    "\n",
    "    # Finish timing\n",
    "    dt_total = time.time() - t1\n",
    "    if verbose > 0:\n",
    "        print(f'\\nProcess finished in {round(dt_total, 1)} s')\n",
    "\n",
    "    # Build performance info\n",
    "    timing = {'total': dt_total,\n",
    "              'data_input': dt_data,\n",
    "              'data_processing': dt_data_process,\n",
    "              'first_centroid': dt_first_centroid,\n",
    "              'xxt': dt_xxt,\n",
    "              'phi_init': dt_phi_init, \n",
    "              'parallel_init': dt_parallel_init, \n",
    "              'weight_calc': dt_weight_calc, \n",
    "              'lloyd' : dt_lloyd, \n",
    "              'final_labels': dt_final_labels}\n",
    "    \n",
    "    # Gather output info into a dict and return\n",
    "    output_info = {'centroids': C_f,\n",
    "                   'cluster_labels': final_labels,\n",
    "                   'timing': timing}\n",
    "    return output_info"
   ]
  },
  {
   "cell_type": "code",
   "execution_count": 17,
   "id": "09075d77-6c7a-4010-b6ad-669fa706e289",
   "metadata": {},
   "outputs": [],
   "source": [
    "def run_weak_scaling(n, n_runs, path): # For some reason this function does not work properly...\n",
    "    # Init stats\n",
    "    stats = {'total': [], 'data_input': [], 'data_processing': [], 'first_centroid': [],\n",
    "             'xxt': [], 'phi_init': [], 'parallel_init': [], 'weight_calc': [], \n",
    "             'lloyd': [], 'final_labels': []}\n",
    "\n",
    "    for i in range(n_runs):\n",
    "        print(f'Iteration {i+1} of {n_runs}')\n",
    "        \n",
    "        # Open cluster\n",
    "        cluster, client = open_cluster_n_workers(n)\n",
    "    \n",
    "        # Run weak scaling algorithm\n",
    "        res = k_means_weak_scaling(path=path_git, n=n, k=CENTERS, l=L, \n",
    "                                       label_column=LABEL_COLUMN, random_seed=RS,\n",
    "                                       verbose=0, npartitions=n)\n",
    "            \n",
    "        # Save results\n",
    "        for k in stats:\n",
    "            stats[k].append(res['timing'][k])\n",
    "        \n",
    "        # Close cluster\n",
    "        close_cluster(cluster, client)\n",
    "\n",
    "    # Save results\n",
    "    stats = pd.DataFrame(stats)\n",
    "    stats.to_csv(path, index=False)"
   ]
  },
  {
   "cell_type": "markdown",
   "id": "a4d3f6b5-afe4-4d59-86f3-7ce585c36f6c",
   "metadata": {
    "jp-MarkdownHeadingCollapsed": true
   },
   "source": [
    "#### Running the test"
   ]
  },
  {
   "cell_type": "code",
   "execution_count": 19,
   "id": "5d32f08e-9ffb-4b0b-8dc8-04f47ae526e5",
   "metadata": {},
   "outputs": [],
   "source": [
    "# General paths\n",
    "weak_scaling_path = './weak_scaling_'\n",
    "path_git = 'https://media.githubusercontent.com/media/FrancoAquistapace/Parallel_kmeans_with_Dask/refs/heads/main/test_blobs_50dim_5c_1e5.csv'\n",
    "\n",
    "# Params\n",
    "CENTERS = 5\n",
    "RS = 42\n",
    "LABEL_COLUMN = 'label'\n",
    "L = 3 # Oversampling factor\n",
    "\n",
    "# Number of runs per test\n",
    "N_RUNS = 5"
   ]
  },
  {
   "cell_type": "code",
   "execution_count": 43,
   "id": "adf162a7-5868-4c01-bf25-91c7f3b89791",
   "metadata": {
    "scrolled": true
   },
   "outputs": [
    {
     "name": "stdout",
     "output_type": "stream",
     "text": [
      "Iteration 1 of 5\n"
     ]
    },
    {
     "name": "stderr",
     "output_type": "stream",
     "text": [
      "2025-07-06 16:41:17,052 - distributed.deploy.ssh - INFO - 2025-07-06 16:41:17,052 - distributed.http.proxy - INFO - To route to workers diagnostics web server please install jupyter-server-proxy: python -m pip install jupyter-server-proxy\n",
      "2025-07-06 16:41:17,057 - distributed.deploy.ssh - INFO - /home/ubuntu/miniconda/envs/dask-env/lib/python3.10/site-packages/distributed/node.py:187: UserWarning: Port 8787 is already in use.\n",
      "2025-07-06 16:41:17,059 - distributed.deploy.ssh - INFO - Perhaps you already have a cluster running?\n",
      "2025-07-06 16:41:17,061 - distributed.deploy.ssh - INFO - Hosting the HTTP server on port 34307 instead\n",
      "2025-07-06 16:41:17,063 - distributed.deploy.ssh - INFO - warnings.warn(\n",
      "2025-07-06 16:41:17,089 - distributed.deploy.ssh - INFO - 2025-07-06 16:41:17,087 - distributed.scheduler - INFO - State start\n",
      "2025-07-06 16:41:17,093 - distributed.deploy.ssh - INFO - 2025-07-06 16:41:17,092 - distributed.scheduler - INFO -   Scheduler at:  tcp://10.67.22.240:38953\n",
      "2025-07-06 16:41:18,081 - distributed.deploy.ssh - INFO - 2025-07-06 16:41:18,083 - distributed.nanny - INFO -         Start Nanny at: 'tcp://10.67.22.17:46753'\n",
      "2025-07-06 16:41:18,490 - distributed.deploy.ssh - INFO - 2025-07-06 16:41:18,492 - distributed.worker - INFO -       Start worker at:    tcp://10.67.22.17:46125\n",
      "/home/ubuntu/miniconda/envs/dask-env/lib/python3.10/site-packages/distributed/client.py:3370: UserWarning: Sending large graph of size 38.15 MiB.\n",
      "This may cause some slowdown.\n",
      "Consider loading the data with Dask directly\n",
      " or using futures or delayed objects to embed the data into the graph without repetition.\n",
      "See also https://docs.dask.org/en/stable/best-practices.html#load-data-with-dask for more information.\n",
      "  warnings.warn(\n",
      "2025-07-06 16:41:43,718 - distributed.batched - INFO - Batched Comm Closed <TCP (closed) Client->Scheduler local=tcp://10.67.22.240:52026 remote=tcp://10.67.22.240:38953>\n",
      "Traceback (most recent call last):\n",
      "  File \"/home/ubuntu/miniconda/envs/dask-env/lib/python3.10/site-packages/distributed/batched.py\", line 115, in _background_send\n",
      "    nbytes = yield coro\n",
      "  File \"/home/ubuntu/miniconda/envs/dask-env/lib/python3.10/site-packages/tornado/gen.py\", line 769, in run\n",
      "    value = future.result()\n",
      "  File \"/home/ubuntu/miniconda/envs/dask-env/lib/python3.10/site-packages/distributed/comm/tcp.py\", line 263, in write\n",
      "    raise CommClosedError()\n",
      "distributed.comm.core.CommClosedError\n"
     ]
    },
    {
     "name": "stdout",
     "output_type": "stream",
     "text": [
      "Iteration 2 of 5\n"
     ]
    },
    {
     "name": "stderr",
     "output_type": "stream",
     "text": [
      "2025-07-06 16:41:44,821 - distributed.deploy.ssh - INFO - 2025-07-06 16:41:44,819 - distributed.http.proxy - INFO - To route to workers diagnostics web server please install jupyter-server-proxy: python -m pip install jupyter-server-proxy\n",
      "2025-07-06 16:41:44,824 - distributed.deploy.ssh - INFO - /home/ubuntu/miniconda/envs/dask-env/lib/python3.10/site-packages/distributed/node.py:187: UserWarning: Port 8787 is already in use.\n",
      "2025-07-06 16:41:44,827 - distributed.deploy.ssh - INFO - Perhaps you already have a cluster running?\n",
      "2025-07-06 16:41:44,827 - distributed.deploy.ssh - INFO - Hosting the HTTP server on port 38607 instead\n",
      "2025-07-06 16:41:44,831 - distributed.deploy.ssh - INFO - warnings.warn(\n",
      "2025-07-06 16:41:44,854 - distributed.deploy.ssh - INFO - 2025-07-06 16:41:44,854 - distributed.scheduler - INFO - State start\n",
      "2025-07-06 16:41:44,860 - distributed.deploy.ssh - INFO - 2025-07-06 16:41:44,860 - distributed.scheduler - INFO -   Scheduler at:  tcp://10.67.22.240:41695\n",
      "2025-07-06 16:41:45,596 - distributed.deploy.ssh - INFO - 2025-07-06 16:41:45,598 - distributed.nanny - INFO -         Start Nanny at: 'tcp://10.67.22.17:43947'\n",
      "2025-07-06 16:41:45,986 - distributed.deploy.ssh - INFO - 2025-07-06 16:41:45,988 - distributed.worker - INFO -       Start worker at:    tcp://10.67.22.17:35551\n",
      "/home/ubuntu/miniconda/envs/dask-env/lib/python3.10/site-packages/distributed/client.py:3370: UserWarning: Sending large graph of size 38.15 MiB.\n",
      "This may cause some slowdown.\n",
      "Consider loading the data with Dask directly\n",
      " or using futures or delayed objects to embed the data into the graph without repetition.\n",
      "See also https://docs.dask.org/en/stable/best-practices.html#load-data-with-dask for more information.\n",
      "  warnings.warn(\n",
      "2025-07-06 16:42:05,709 - distributed.batched - INFO - Batched Comm Closed <TCP (closed) Client->Scheduler local=tcp://10.67.22.240:41868 remote=tcp://10.67.22.240:41695>\n",
      "Traceback (most recent call last):\n",
      "  File \"/home/ubuntu/miniconda/envs/dask-env/lib/python3.10/site-packages/distributed/batched.py\", line 115, in _background_send\n",
      "    nbytes = yield coro\n",
      "  File \"/home/ubuntu/miniconda/envs/dask-env/lib/python3.10/site-packages/tornado/gen.py\", line 769, in run\n",
      "    value = future.result()\n",
      "  File \"/home/ubuntu/miniconda/envs/dask-env/lib/python3.10/site-packages/distributed/comm/tcp.py\", line 263, in write\n",
      "    raise CommClosedError()\n",
      "distributed.comm.core.CommClosedError\n"
     ]
    },
    {
     "name": "stdout",
     "output_type": "stream",
     "text": [
      "Iteration 3 of 5\n"
     ]
    },
    {
     "name": "stderr",
     "output_type": "stream",
     "text": [
      "2025-07-06 16:42:06,812 - distributed.deploy.ssh - INFO - 2025-07-06 16:42:06,812 - distributed.http.proxy - INFO - To route to workers diagnostics web server please install jupyter-server-proxy: python -m pip install jupyter-server-proxy\n",
      "2025-07-06 16:42:06,817 - distributed.deploy.ssh - INFO - /home/ubuntu/miniconda/envs/dask-env/lib/python3.10/site-packages/distributed/node.py:187: UserWarning: Port 8787 is already in use.\n",
      "2025-07-06 16:42:06,819 - distributed.deploy.ssh - INFO - Perhaps you already have a cluster running?\n",
      "2025-07-06 16:42:06,821 - distributed.deploy.ssh - INFO - Hosting the HTTP server on port 44471 instead\n",
      "2025-07-06 16:42:06,823 - distributed.deploy.ssh - INFO - warnings.warn(\n",
      "2025-07-06 16:42:06,848 - distributed.deploy.ssh - INFO - 2025-07-06 16:42:06,848 - distributed.scheduler - INFO - State start\n",
      "2025-07-06 16:42:06,854 - distributed.deploy.ssh - INFO - 2025-07-06 16:42:06,853 - distributed.scheduler - INFO -   Scheduler at:  tcp://10.67.22.240:34375\n",
      "2025-07-06 16:42:07,582 - distributed.deploy.ssh - INFO - 2025-07-06 16:42:07,585 - distributed.nanny - INFO -         Start Nanny at: 'tcp://10.67.22.17:36641'\n",
      "2025-07-06 16:42:07,968 - distributed.deploy.ssh - INFO - 2025-07-06 16:42:07,970 - distributed.worker - INFO -       Start worker at:    tcp://10.67.22.17:39131\n",
      "/home/ubuntu/miniconda/envs/dask-env/lib/python3.10/site-packages/distributed/client.py:3370: UserWarning: Sending large graph of size 38.15 MiB.\n",
      "This may cause some slowdown.\n",
      "Consider loading the data with Dask directly\n",
      " or using futures or delayed objects to embed the data into the graph without repetition.\n",
      "See also https://docs.dask.org/en/stable/best-practices.html#load-data-with-dask for more information.\n",
      "  warnings.warn(\n",
      "2025-07-06 16:42:25,449 - distributed.batched - INFO - Batched Comm Closed <TCP (closed) Client->Scheduler local=tcp://10.67.22.240:51360 remote=tcp://10.67.22.240:34375>\n",
      "Traceback (most recent call last):\n",
      "  File \"/home/ubuntu/miniconda/envs/dask-env/lib/python3.10/site-packages/distributed/batched.py\", line 115, in _background_send\n",
      "    nbytes = yield coro\n",
      "  File \"/home/ubuntu/miniconda/envs/dask-env/lib/python3.10/site-packages/tornado/gen.py\", line 769, in run\n",
      "    value = future.result()\n",
      "  File \"/home/ubuntu/miniconda/envs/dask-env/lib/python3.10/site-packages/distributed/comm/tcp.py\", line 263, in write\n",
      "    raise CommClosedError()\n",
      "distributed.comm.core.CommClosedError\n"
     ]
    },
    {
     "name": "stdout",
     "output_type": "stream",
     "text": [
      "Iteration 4 of 5\n"
     ]
    },
    {
     "name": "stderr",
     "output_type": "stream",
     "text": [
      "2025-07-06 16:42:26,798 - distributed.deploy.ssh - INFO - 2025-07-06 16:42:26,797 - distributed.http.proxy - INFO - To route to workers diagnostics web server please install jupyter-server-proxy: python -m pip install jupyter-server-proxy\n",
      "2025-07-06 16:42:26,802 - distributed.deploy.ssh - INFO - /home/ubuntu/miniconda/envs/dask-env/lib/python3.10/site-packages/distributed/node.py:187: UserWarning: Port 8787 is already in use.\n",
      "2025-07-06 16:42:26,803 - distributed.deploy.ssh - INFO - Perhaps you already have a cluster running?\n",
      "2025-07-06 16:42:26,806 - distributed.deploy.ssh - INFO - Hosting the HTTP server on port 36263 instead\n",
      "2025-07-06 16:42:26,807 - distributed.deploy.ssh - INFO - warnings.warn(\n",
      "2025-07-06 16:42:26,836 - distributed.deploy.ssh - INFO - 2025-07-06 16:42:26,836 - distributed.scheduler - INFO - State start\n",
      "2025-07-06 16:42:26,846 - distributed.deploy.ssh - INFO - 2025-07-06 16:42:26,843 - distributed.scheduler - INFO -   Scheduler at:  tcp://10.67.22.240:39225\n",
      "2025-07-06 16:42:27,860 - distributed.deploy.ssh - INFO - 2025-07-06 16:42:27,862 - distributed.nanny - INFO -         Start Nanny at: 'tcp://10.67.22.17:44251'\n",
      "2025-07-06 16:42:28,250 - distributed.deploy.ssh - INFO - 2025-07-06 16:42:28,253 - distributed.worker - INFO -       Start worker at:    tcp://10.67.22.17:41885\n",
      "/home/ubuntu/miniconda/envs/dask-env/lib/python3.10/site-packages/distributed/client.py:3370: UserWarning: Sending large graph of size 38.15 MiB.\n",
      "This may cause some slowdown.\n",
      "Consider loading the data with Dask directly\n",
      " or using futures or delayed objects to embed the data into the graph without repetition.\n",
      "See also https://docs.dask.org/en/stable/best-practices.html#load-data-with-dask for more information.\n",
      "  warnings.warn(\n",
      "2025-07-06 16:42:48,732 - distributed.batched - INFO - Batched Comm Closed <TCP (closed) Client->Scheduler local=tcp://10.67.22.240:47758 remote=tcp://10.67.22.240:39225>\n",
      "Traceback (most recent call last):\n",
      "  File \"/home/ubuntu/miniconda/envs/dask-env/lib/python3.10/site-packages/distributed/batched.py\", line 115, in _background_send\n",
      "    nbytes = yield coro\n",
      "  File \"/home/ubuntu/miniconda/envs/dask-env/lib/python3.10/site-packages/tornado/gen.py\", line 769, in run\n",
      "    value = future.result()\n",
      "  File \"/home/ubuntu/miniconda/envs/dask-env/lib/python3.10/site-packages/distributed/comm/tcp.py\", line 263, in write\n",
      "    raise CommClosedError()\n",
      "distributed.comm.core.CommClosedError\n"
     ]
    },
    {
     "name": "stdout",
     "output_type": "stream",
     "text": [
      "Iteration 5 of 5\n"
     ]
    },
    {
     "name": "stderr",
     "output_type": "stream",
     "text": [
      "2025-07-06 16:42:49,827 - distributed.deploy.ssh - INFO - 2025-07-06 16:42:49,823 - distributed.http.proxy - INFO - To route to workers diagnostics web server please install jupyter-server-proxy: python -m pip install jupyter-server-proxy\n",
      "2025-07-06 16:42:49,828 - distributed.deploy.ssh - INFO - /home/ubuntu/miniconda/envs/dask-env/lib/python3.10/site-packages/distributed/node.py:187: UserWarning: Port 8787 is already in use.\n",
      "2025-07-06 16:42:49,830 - distributed.deploy.ssh - INFO - Perhaps you already have a cluster running?\n",
      "2025-07-06 16:42:49,833 - distributed.deploy.ssh - INFO - Hosting the HTTP server on port 33581 instead\n",
      "2025-07-06 16:42:49,835 - distributed.deploy.ssh - INFO - warnings.warn(\n",
      "2025-07-06 16:42:49,858 - distributed.deploy.ssh - INFO - 2025-07-06 16:42:49,857 - distributed.scheduler - INFO - State start\n",
      "2025-07-06 16:42:49,864 - distributed.deploy.ssh - INFO - 2025-07-06 16:42:49,863 - distributed.scheduler - INFO -   Scheduler at:  tcp://10.67.22.240:43869\n",
      "2025-07-06 16:42:50,592 - distributed.deploy.ssh - INFO - 2025-07-06 16:42:50,595 - distributed.nanny - INFO -         Start Nanny at: 'tcp://10.67.22.17:46569'\n",
      "2025-07-06 16:42:50,984 - distributed.deploy.ssh - INFO - 2025-07-06 16:42:50,986 - distributed.worker - INFO -       Start worker at:    tcp://10.67.22.17:39055\n",
      "/home/ubuntu/miniconda/envs/dask-env/lib/python3.10/site-packages/distributed/client.py:3370: UserWarning: Sending large graph of size 38.15 MiB.\n",
      "This may cause some slowdown.\n",
      "Consider loading the data with Dask directly\n",
      " or using futures or delayed objects to embed the data into the graph without repetition.\n",
      "See also https://docs.dask.org/en/stable/best-practices.html#load-data-with-dask for more information.\n",
      "  warnings.warn(\n",
      "2025-07-06 16:43:10,454 - distributed.batched - INFO - Batched Comm Closed <TCP (closed) Client->Scheduler local=tcp://10.67.22.240:38120 remote=tcp://10.67.22.240:43869>\n",
      "Traceback (most recent call last):\n",
      "  File \"/home/ubuntu/miniconda/envs/dask-env/lib/python3.10/site-packages/distributed/batched.py\", line 115, in _background_send\n",
      "    nbytes = yield coro\n",
      "  File \"/home/ubuntu/miniconda/envs/dask-env/lib/python3.10/site-packages/tornado/gen.py\", line 769, in run\n",
      "    value = future.result()\n",
      "  File \"/home/ubuntu/miniconda/envs/dask-env/lib/python3.10/site-packages/distributed/comm/tcp.py\", line 263, in write\n",
      "    raise CommClosedError()\n",
      "distributed.comm.core.CommClosedError\n"
     ]
    }
   ],
   "source": [
    "# 1 node:\n",
    "n=1\n",
    "n_runs=N_RUNS\n",
    "path=weak_scaling_path + 'n_1.csv'\n",
    "\n",
    "# Init stats\n",
    "stats = {'total': [], 'data_input': [], 'data_processing': [], 'first_centroid': [],\n",
    "         'xxt': [], 'phi_init': [], 'parallel_init': [], 'weight_calc': [], \n",
    "         'lloyd': [], 'final_labels': []}\n",
    "\n",
    "for i in range(n_runs):\n",
    "    print(f'Iteration {i+1} of {n_runs}')\n",
    "    \n",
    "    # Open cluster\n",
    "    cluster, client = open_cluster_n_workers(n)\n",
    "\n",
    "    # Run weak scaling algorithm\n",
    "    res = k_means_weak_scaling(path=path_git, n=n, k=CENTERS, l=L, \n",
    "                                   label_column=LABEL_COLUMN, random_seed=RS,\n",
    "                                   verbose=0, npartitions=n)\n",
    "        \n",
    "    # Save results\n",
    "    for k in stats:\n",
    "        stats[k].append(res['timing'][k])\n",
    "    \n",
    "    # Close cluster\n",
    "    close_cluster(cluster, client)\n",
    "\n",
    "# Save results\n",
    "stats = pd.DataFrame(stats)\n",
    "stats.to_csv(path, index=False)"
   ]
  },
  {
   "cell_type": "code",
   "execution_count": 20,
   "id": "05b4b8d0-cbd4-4e6c-b854-65936cc08731",
   "metadata": {
    "scrolled": true
   },
   "outputs": [
    {
     "name": "stdout",
     "output_type": "stream",
     "text": [
      "Iteration 1 of 5\n"
     ]
    },
    {
     "name": "stderr",
     "output_type": "stream",
     "text": [
      "2025-07-06 16:46:35,010 - distributed.deploy.ssh - INFO - 2025-07-06 16:46:35,009 - distributed.http.proxy - INFO - To route to workers diagnostics web server please install jupyter-server-proxy: python -m pip install jupyter-server-proxy\n",
      "2025-07-06 16:46:35,039 - distributed.deploy.ssh - INFO - 2025-07-06 16:46:35,037 - distributed.scheduler - INFO - State start\n",
      "2025-07-06 16:46:35,043 - distributed.deploy.ssh - INFO - 2025-07-06 16:46:35,042 - distributed.scheduler - INFO -   Scheduler at:  tcp://10.67.22.240:43295\n",
      "2025-07-06 16:46:35,995 - distributed.deploy.ssh - INFO - 2025-07-06 16:46:35,994 - distributed.nanny - INFO -         Start Nanny at: 'tcp://10.67.22.240:36221'\n",
      "2025-07-06 16:46:36,582 - distributed.deploy.ssh - INFO - 2025-07-06 16:46:36,579 - distributed.worker - INFO -       Start worker at:   tcp://10.67.22.240:45499\n",
      "2025-07-06 16:46:36,896 - distributed.deploy.ssh - INFO - 2025-07-06 16:46:36,899 - distributed.nanny - INFO -         Start Nanny at: 'tcp://10.67.22.17:36967'\n",
      "2025-07-06 16:46:37,261 - distributed.deploy.ssh - INFO - 2025-07-06 16:46:37,265 - distributed.worker - INFO -       Start worker at:    tcp://10.67.22.17:46633\n",
      "/home/ubuntu/miniconda/envs/dask-env/lib/python3.10/site-packages/distributed/client.py:3370: UserWarning: Sending large graph of size 77.82 MiB.\n",
      "This may cause some slowdown.\n",
      "Consider loading the data with Dask directly\n",
      " or using futures or delayed objects to embed the data into the graph without repetition.\n",
      "See also https://docs.dask.org/en/stable/best-practices.html#load-data-with-dask for more information.\n",
      "  warnings.warn(\n"
     ]
    },
    {
     "name": "stdout",
     "output_type": "stream",
     "text": [
      "Iteration 2 of 5\n"
     ]
    },
    {
     "name": "stderr",
     "output_type": "stream",
     "text": [
      "2025-07-06 16:47:07,750 - distributed.deploy.ssh - INFO - 2025-07-06 16:47:07,749 - distributed.http.proxy - INFO - To route to workers diagnostics web server please install jupyter-server-proxy: python -m pip install jupyter-server-proxy\n",
      "2025-07-06 16:47:07,778 - distributed.deploy.ssh - INFO - 2025-07-06 16:47:07,778 - distributed.scheduler - INFO - State start\n",
      "2025-07-06 16:47:07,784 - distributed.deploy.ssh - INFO - 2025-07-06 16:47:07,784 - distributed.scheduler - INFO -   Scheduler at:  tcp://10.67.22.240:37787\n",
      "2025-07-06 16:47:08,716 - distributed.deploy.ssh - INFO - 2025-07-06 16:47:08,719 - distributed.nanny - INFO -         Start Nanny at: 'tcp://10.67.22.17:38109'\n",
      "2025-07-06 16:47:08,743 - distributed.deploy.ssh - INFO - 2025-07-06 16:47:08,741 - distributed.nanny - INFO -         Start Nanny at: 'tcp://10.67.22.240:40317'\n",
      "2025-07-06 16:47:09,082 - distributed.deploy.ssh - INFO - 2025-07-06 16:47:09,085 - distributed.worker - INFO -       Start worker at:    tcp://10.67.22.17:37999\n",
      "2025-07-06 16:47:09,145 - distributed.deploy.ssh - INFO - 2025-07-06 16:47:09,144 - distributed.worker - INFO -       Start worker at:   tcp://10.67.22.240:35815\n",
      "/home/ubuntu/miniconda/envs/dask-env/lib/python3.10/site-packages/distributed/client.py:3370: UserWarning: Sending large graph of size 77.82 MiB.\n",
      "This may cause some slowdown.\n",
      "Consider loading the data with Dask directly\n",
      " or using futures or delayed objects to embed the data into the graph without repetition.\n",
      "See also https://docs.dask.org/en/stable/best-practices.html#load-data-with-dask for more information.\n",
      "  warnings.warn(\n"
     ]
    },
    {
     "name": "stdout",
     "output_type": "stream",
     "text": [
      "Iteration 3 of 5\n"
     ]
    },
    {
     "name": "stderr",
     "output_type": "stream",
     "text": [
      "2025-07-06 16:47:33,810 - distributed.deploy.ssh - INFO - 2025-07-06 16:47:33,809 - distributed.http.proxy - INFO - To route to workers diagnostics web server please install jupyter-server-proxy: python -m pip install jupyter-server-proxy\n",
      "2025-07-06 16:47:33,837 - distributed.deploy.ssh - INFO - 2025-07-06 16:47:33,837 - distributed.scheduler - INFO - State start\n",
      "2025-07-06 16:47:33,841 - distributed.deploy.ssh - INFO - 2025-07-06 16:47:33,841 - distributed.scheduler - INFO -   Scheduler at:  tcp://10.67.22.240:38683\n",
      "2025-07-06 16:47:34,767 - distributed.deploy.ssh - INFO - 2025-07-06 16:47:34,770 - distributed.nanny - INFO -         Start Nanny at: 'tcp://10.67.22.17:42697'\n",
      "2025-07-06 16:47:34,782 - distributed.deploy.ssh - INFO - 2025-07-06 16:47:34,780 - distributed.nanny - INFO -         Start Nanny at: 'tcp://10.67.22.240:33107'\n",
      "2025-07-06 16:47:35,132 - distributed.deploy.ssh - INFO - 2025-07-06 16:47:35,135 - distributed.worker - INFO -       Start worker at:    tcp://10.67.22.17:45381\n",
      "2025-07-06 16:47:35,165 - distributed.deploy.ssh - INFO - 2025-07-06 16:47:35,164 - distributed.worker - INFO -       Start worker at:   tcp://10.67.22.240:46687\n",
      "/home/ubuntu/miniconda/envs/dask-env/lib/python3.10/site-packages/distributed/client.py:3370: UserWarning: Sending large graph of size 77.82 MiB.\n",
      "This may cause some slowdown.\n",
      "Consider loading the data with Dask directly\n",
      " or using futures or delayed objects to embed the data into the graph without repetition.\n",
      "See also https://docs.dask.org/en/stable/best-practices.html#load-data-with-dask for more information.\n",
      "  warnings.warn(\n"
     ]
    },
    {
     "name": "stdout",
     "output_type": "stream",
     "text": [
      "Iteration 4 of 5\n"
     ]
    },
    {
     "name": "stderr",
     "output_type": "stream",
     "text": [
      "2025-07-06 16:47:59,996 - distributed.deploy.ssh - INFO - 2025-07-06 16:47:59,994 - distributed.http.proxy - INFO - To route to workers diagnostics web server please install jupyter-server-proxy: python -m pip install jupyter-server-proxy\n",
      "2025-07-06 16:48:00,023 - distributed.deploy.ssh - INFO - 2025-07-06 16:48:00,023 - distributed.scheduler - INFO - State start\n",
      "2025-07-06 16:48:00,029 - distributed.deploy.ssh - INFO - 2025-07-06 16:48:00,029 - distributed.scheduler - INFO -   Scheduler at:  tcp://10.67.22.240:35107\n",
      "2025-07-06 16:48:01,011 - distributed.deploy.ssh - INFO - 2025-07-06 16:48:01,010 - distributed.nanny - INFO -         Start Nanny at: 'tcp://10.67.22.240:33223'\n",
      "2025-07-06 16:48:01,194 - distributed.deploy.ssh - INFO - 2025-07-06 16:48:01,197 - distributed.nanny - INFO -         Start Nanny at: 'tcp://10.67.22.17:34921'\n",
      "2025-07-06 16:48:01,450 - distributed.deploy.ssh - INFO - 2025-07-06 16:48:01,449 - distributed.worker - INFO -       Start worker at:   tcp://10.67.22.240:37339\n",
      "2025-07-06 16:48:01,557 - distributed.deploy.ssh - INFO - 2025-07-06 16:48:01,559 - distributed.worker - INFO -       Start worker at:    tcp://10.67.22.17:42067\n",
      "/home/ubuntu/miniconda/envs/dask-env/lib/python3.10/site-packages/distributed/client.py:3370: UserWarning: Sending large graph of size 77.82 MiB.\n",
      "This may cause some slowdown.\n",
      "Consider loading the data with Dask directly\n",
      " or using futures or delayed objects to embed the data into the graph without repetition.\n",
      "See also https://docs.dask.org/en/stable/best-practices.html#load-data-with-dask for more information.\n",
      "  warnings.warn(\n"
     ]
    },
    {
     "name": "stdout",
     "output_type": "stream",
     "text": [
      "Iteration 5 of 5\n"
     ]
    },
    {
     "name": "stderr",
     "output_type": "stream",
     "text": [
      "2025-07-06 16:48:26,993 - distributed.deploy.ssh - INFO - 2025-07-06 16:48:26,991 - distributed.http.proxy - INFO - To route to workers diagnostics web server please install jupyter-server-proxy: python -m pip install jupyter-server-proxy\n",
      "2025-07-06 16:48:27,020 - distributed.deploy.ssh - INFO - 2025-07-06 16:48:27,019 - distributed.scheduler - INFO - State start\n",
      "2025-07-06 16:48:27,024 - distributed.deploy.ssh - INFO - 2025-07-06 16:48:27,024 - distributed.scheduler - INFO -   Scheduler at:  tcp://10.67.22.240:41627\n",
      "2025-07-06 16:48:27,949 - distributed.deploy.ssh - INFO - 2025-07-06 16:48:27,952 - distributed.nanny - INFO -         Start Nanny at: 'tcp://10.67.22.17:37589'\n",
      "2025-07-06 16:48:27,970 - distributed.deploy.ssh - INFO - 2025-07-06 16:48:27,969 - distributed.nanny - INFO -         Start Nanny at: 'tcp://10.67.22.240:38447'\n",
      "2025-07-06 16:48:28,314 - distributed.deploy.ssh - INFO - 2025-07-06 16:48:28,317 - distributed.worker - INFO -       Start worker at:    tcp://10.67.22.17:43635\n",
      "2025-07-06 16:48:28,366 - distributed.deploy.ssh - INFO - 2025-07-06 16:48:28,365 - distributed.worker - INFO -       Start worker at:   tcp://10.67.22.240:42257\n",
      "/home/ubuntu/miniconda/envs/dask-env/lib/python3.10/site-packages/distributed/client.py:3370: UserWarning: Sending large graph of size 77.82 MiB.\n",
      "This may cause some slowdown.\n",
      "Consider loading the data with Dask directly\n",
      " or using futures or delayed objects to embed the data into the graph without repetition.\n",
      "See also https://docs.dask.org/en/stable/best-practices.html#load-data-with-dask for more information.\n",
      "  warnings.warn(\n"
     ]
    }
   ],
   "source": [
    "# 2 nodes:\n",
    "n=2\n",
    "n_runs=N_RUNS\n",
    "path=weak_scaling_path + 'n_2.csv'\n",
    "\n",
    "# Init stats\n",
    "stats = {'total': [], 'data_input': [], 'data_processing': [], 'first_centroid': [],\n",
    "         'xxt': [], 'phi_init': [], 'parallel_init': [], 'weight_calc': [], \n",
    "         'lloyd': [], 'final_labels': []}\n",
    "\n",
    "for i in range(n_runs):\n",
    "    print(f'Iteration {i+1} of {n_runs}')\n",
    "    \n",
    "    # Open cluster\n",
    "    cluster, client = open_cluster_n_workers(n)\n",
    "\n",
    "    # Run weak scaling algorithm\n",
    "    res = k_means_weak_scaling(path=path_git, n=n, k=CENTERS, l=L, \n",
    "                                   label_column=LABEL_COLUMN, random_seed=RS,\n",
    "                                   verbose=0, npartitions=n)\n",
    "        \n",
    "    # Save results\n",
    "    for k in stats:\n",
    "        stats[k].append(res['timing'][k])\n",
    "    \n",
    "    # Close cluster\n",
    "    close_cluster(cluster, client)\n",
    "\n",
    "# Save results\n",
    "stats = pd.DataFrame(stats)\n",
    "stats.to_csv(path, index=False)"
   ]
  },
  {
   "cell_type": "code",
   "execution_count": 21,
   "id": "b5464e42-ffb4-4f20-8148-d16da1c86db3",
   "metadata": {
    "scrolled": true
   },
   "outputs": [
    {
     "name": "stdout",
     "output_type": "stream",
     "text": [
      "Iteration 1 of 5\n"
     ]
    },
    {
     "name": "stderr",
     "output_type": "stream",
     "text": [
      "2025-07-06 16:49:43,463 - distributed.deploy.ssh - INFO - 2025-07-06 16:49:43,461 - distributed.http.proxy - INFO - To route to workers diagnostics web server please install jupyter-server-proxy: python -m pip install jupyter-server-proxy\n",
      "2025-07-06 16:49:43,490 - distributed.deploy.ssh - INFO - 2025-07-06 16:49:43,489 - distributed.scheduler - INFO - State start\n",
      "2025-07-06 16:49:43,494 - distributed.deploy.ssh - INFO - 2025-07-06 16:49:43,494 - distributed.scheduler - INFO -   Scheduler at:  tcp://10.67.22.240:40349\n",
      "2025-07-06 16:49:44,674 - distributed.deploy.ssh - INFO - 2025-07-06 16:49:44,672 - distributed.nanny - INFO -         Start Nanny at: 'tcp://10.67.22.240:44863'\n",
      "2025-07-06 16:49:45,301 - distributed.deploy.ssh - INFO - 2025-07-06 16:49:45,300 - distributed.worker - INFO -       Start worker at:   tcp://10.67.22.240:45751\n",
      "2025-07-06 16:49:45,595 - distributed.deploy.ssh - INFO - 2025-07-06 16:49:45,598 - distributed.nanny - INFO -         Start Nanny at: 'tcp://10.67.22.17:46291'\n",
      "2025-07-06 16:49:45,597 - distributed.deploy.ssh - INFO - 2025-07-06 16:49:45,599 - distributed.nanny - INFO -         Start Nanny at: 'tcp://10.67.22.100:42567'\n",
      "2025-07-06 16:49:45,957 - distributed.deploy.ssh - INFO - 2025-07-06 16:49:45,961 - distributed.worker - INFO -       Start worker at:    tcp://10.67.22.17:36599\n",
      "2025-07-06 16:49:45,962 - distributed.deploy.ssh - INFO - 2025-07-06 16:49:45,965 - distributed.worker - INFO -       Start worker at:   tcp://10.67.22.100:44165\n",
      "/home/ubuntu/miniconda/envs/dask-env/lib/python3.10/site-packages/distributed/client.py:3370: UserWarning: Sending large graph of size 116.73 MiB.\n",
      "This may cause some slowdown.\n",
      "Consider loading the data with Dask directly\n",
      " or using futures or delayed objects to embed the data into the graph without repetition.\n",
      "See also https://docs.dask.org/en/stable/best-practices.html#load-data-with-dask for more information.\n",
      "  warnings.warn(\n"
     ]
    },
    {
     "name": "stdout",
     "output_type": "stream",
     "text": [
      "Iteration 2 of 5\n"
     ]
    },
    {
     "name": "stderr",
     "output_type": "stream",
     "text": [
      "2025-07-06 16:50:17,136 - distributed.deploy.ssh - INFO - 2025-07-06 16:50:17,135 - distributed.http.proxy - INFO - To route to workers diagnostics web server please install jupyter-server-proxy: python -m pip install jupyter-server-proxy\n",
      "2025-07-06 16:50:17,163 - distributed.deploy.ssh - INFO - 2025-07-06 16:50:17,163 - distributed.scheduler - INFO - State start\n",
      "2025-07-06 16:50:17,168 - distributed.deploy.ssh - INFO - 2025-07-06 16:50:17,168 - distributed.scheduler - INFO -   Scheduler at:  tcp://10.67.22.240:45323\n",
      "2025-07-06 16:50:18,327 - distributed.deploy.ssh - INFO - 2025-07-06 16:50:18,330 - distributed.nanny - INFO -         Start Nanny at: 'tcp://10.67.22.100:38819'\n",
      "2025-07-06 16:50:18,335 - distributed.deploy.ssh - INFO - 2025-07-06 16:50:18,338 - distributed.nanny - INFO -         Start Nanny at: 'tcp://10.67.22.17:40199'\n",
      "2025-07-06 16:50:18,378 - distributed.deploy.ssh - INFO - 2025-07-06 16:50:18,377 - distributed.nanny - INFO -         Start Nanny at: 'tcp://10.67.22.240:41877'\n",
      "2025-07-06 16:50:18,689 - distributed.deploy.ssh - INFO - 2025-07-06 16:50:18,692 - distributed.worker - INFO -       Start worker at:   tcp://10.67.22.100:36353\n",
      "2025-07-06 16:50:18,696 - distributed.deploy.ssh - INFO - 2025-07-06 16:50:18,699 - distributed.worker - INFO -       Start worker at:    tcp://10.67.22.17:39153\n",
      "2025-07-06 16:50:18,807 - distributed.deploy.ssh - INFO - 2025-07-06 16:50:18,805 - distributed.worker - INFO -       Start worker at:   tcp://10.67.22.240:41347\n",
      "/home/ubuntu/miniconda/envs/dask-env/lib/python3.10/site-packages/distributed/client.py:3370: UserWarning: Sending large graph of size 116.73 MiB.\n",
      "This may cause some slowdown.\n",
      "Consider loading the data with Dask directly\n",
      " or using futures or delayed objects to embed the data into the graph without repetition.\n",
      "See also https://docs.dask.org/en/stable/best-practices.html#load-data-with-dask for more information.\n",
      "  warnings.warn(\n"
     ]
    },
    {
     "name": "stdout",
     "output_type": "stream",
     "text": [
      "Iteration 3 of 5\n"
     ]
    },
    {
     "name": "stderr",
     "output_type": "stream",
     "text": [
      "2025-07-06 16:50:49,219 - distributed.deploy.ssh - INFO - 2025-07-06 16:50:49,216 - distributed.http.proxy - INFO - To route to workers diagnostics web server please install jupyter-server-proxy: python -m pip install jupyter-server-proxy\n",
      "2025-07-06 16:50:49,245 - distributed.deploy.ssh - INFO - 2025-07-06 16:50:49,245 - distributed.scheduler - INFO - State start\n",
      "2025-07-06 16:50:49,251 - distributed.deploy.ssh - INFO - 2025-07-06 16:50:49,250 - distributed.scheduler - INFO -   Scheduler at:  tcp://10.67.22.240:40167\n",
      "2025-07-06 16:50:50,457 - distributed.deploy.ssh - INFO - 2025-07-06 16:50:50,455 - distributed.nanny - INFO -         Start Nanny at: 'tcp://10.67.22.240:34765'\n",
      "2025-07-06 16:50:50,639 - distributed.deploy.ssh - INFO - 2025-07-06 16:50:50,641 - distributed.nanny - INFO -         Start Nanny at: 'tcp://10.67.22.17:41003'\n",
      "2025-07-06 16:50:50,662 - distributed.deploy.ssh - INFO - 2025-07-06 16:50:50,665 - distributed.nanny - INFO -         Start Nanny at: 'tcp://10.67.22.100:41317'\n",
      "2025-07-06 16:50:50,866 - distributed.deploy.ssh - INFO - 2025-07-06 16:50:50,866 - distributed.worker - INFO -       Start worker at:   tcp://10.67.22.240:34277\n",
      "2025-07-06 16:50:51,005 - distributed.deploy.ssh - INFO - 2025-07-06 16:50:51,006 - distributed.worker - INFO -       Start worker at:    tcp://10.67.22.17:45225\n",
      "2025-07-06 16:50:51,031 - distributed.deploy.ssh - INFO - 2025-07-06 16:50:51,034 - distributed.worker - INFO -       Start worker at:   tcp://10.67.22.100:41459\n",
      "/home/ubuntu/miniconda/envs/dask-env/lib/python3.10/site-packages/distributed/client.py:3370: UserWarning: Sending large graph of size 116.73 MiB.\n",
      "This may cause some slowdown.\n",
      "Consider loading the data with Dask directly\n",
      " or using futures or delayed objects to embed the data into the graph without repetition.\n",
      "See also https://docs.dask.org/en/stable/best-practices.html#load-data-with-dask for more information.\n",
      "  warnings.warn(\n"
     ]
    },
    {
     "name": "stdout",
     "output_type": "stream",
     "text": [
      "Iteration 4 of 5\n"
     ]
    },
    {
     "name": "stderr",
     "output_type": "stream",
     "text": [
      "2025-07-06 16:51:25,555 - distributed.deploy.ssh - INFO - 2025-07-06 16:51:25,554 - distributed.http.proxy - INFO - To route to workers diagnostics web server please install jupyter-server-proxy: python -m pip install jupyter-server-proxy\n",
      "2025-07-06 16:51:25,584 - distributed.deploy.ssh - INFO - 2025-07-06 16:51:25,583 - distributed.scheduler - INFO - State start\n",
      "2025-07-06 16:51:25,589 - distributed.deploy.ssh - INFO - 2025-07-06 16:51:25,588 - distributed.scheduler - INFO -   Scheduler at:  tcp://10.67.22.240:33617\n",
      "2025-07-06 16:51:26,747 - distributed.deploy.ssh - INFO - 2025-07-06 16:51:26,750 - distributed.nanny - INFO -         Start Nanny at: 'tcp://10.67.22.17:37351'\n",
      "2025-07-06 16:51:26,754 - distributed.deploy.ssh - INFO - 2025-07-06 16:51:26,757 - distributed.nanny - INFO -         Start Nanny at: 'tcp://10.67.22.100:33297'\n",
      "2025-07-06 16:51:26,821 - distributed.deploy.ssh - INFO - 2025-07-06 16:51:26,820 - distributed.nanny - INFO -         Start Nanny at: 'tcp://10.67.22.240:46011'\n",
      "2025-07-06 16:51:27,112 - distributed.deploy.ssh - INFO - 2025-07-06 16:51:27,114 - distributed.worker - INFO -       Start worker at:    tcp://10.67.22.17:34909\n",
      "2025-07-06 16:51:27,120 - distributed.deploy.ssh - INFO - 2025-07-06 16:51:27,123 - distributed.worker - INFO -       Start worker at:   tcp://10.67.22.100:44901\n",
      "2025-07-06 16:51:27,247 - distributed.deploy.ssh - INFO - 2025-07-06 16:51:27,246 - distributed.worker - INFO -       Start worker at:   tcp://10.67.22.240:39403\n",
      "/home/ubuntu/miniconda/envs/dask-env/lib/python3.10/site-packages/distributed/client.py:3370: UserWarning: Sending large graph of size 116.73 MiB.\n",
      "This may cause some slowdown.\n",
      "Consider loading the data with Dask directly\n",
      " or using futures or delayed objects to embed the data into the graph without repetition.\n",
      "See also https://docs.dask.org/en/stable/best-practices.html#load-data-with-dask for more information.\n",
      "  warnings.warn(\n"
     ]
    },
    {
     "name": "stdout",
     "output_type": "stream",
     "text": [
      "Iteration 5 of 5\n"
     ]
    },
    {
     "name": "stderr",
     "output_type": "stream",
     "text": [
      "2025-07-06 16:51:57,632 - distributed.deploy.ssh - INFO - 2025-07-06 16:51:57,632 - distributed.http.proxy - INFO - To route to workers diagnostics web server please install jupyter-server-proxy: python -m pip install jupyter-server-proxy\n",
      "2025-07-06 16:51:57,661 - distributed.deploy.ssh - INFO - 2025-07-06 16:51:57,661 - distributed.scheduler - INFO - State start\n",
      "2025-07-06 16:51:57,667 - distributed.deploy.ssh - INFO - 2025-07-06 16:51:57,666 - distributed.scheduler - INFO -   Scheduler at:  tcp://10.67.22.240:38543\n",
      "2025-07-06 16:51:58,875 - distributed.deploy.ssh - INFO - 2025-07-06 16:51:58,874 - distributed.nanny - INFO -         Start Nanny at: 'tcp://10.67.22.240:35537'\n",
      "2025-07-06 16:51:59,061 - distributed.deploy.ssh - INFO - 2025-07-06 16:51:59,064 - distributed.nanny - INFO -         Start Nanny at: 'tcp://10.67.22.17:43239'\n",
      "2025-07-06 16:51:59,066 - distributed.deploy.ssh - INFO - 2025-07-06 16:51:59,068 - distributed.nanny - INFO -         Start Nanny at: 'tcp://10.67.22.100:45519'\n",
      "2025-07-06 16:51:59,285 - distributed.deploy.ssh - INFO - 2025-07-06 16:51:59,285 - distributed.worker - INFO -       Start worker at:   tcp://10.67.22.240:41929\n",
      "2025-07-06 16:51:59,424 - distributed.deploy.ssh - INFO - 2025-07-06 16:51:59,428 - distributed.worker - INFO -       Start worker at:    tcp://10.67.22.17:33909\n",
      "2025-07-06 16:51:59,433 - distributed.deploy.ssh - INFO - 2025-07-06 16:51:59,430 - distributed.worker - INFO -       Start worker at:   tcp://10.67.22.100:38787\n",
      "/home/ubuntu/miniconda/envs/dask-env/lib/python3.10/site-packages/distributed/client.py:3370: UserWarning: Sending large graph of size 116.73 MiB.\n",
      "This may cause some slowdown.\n",
      "Consider loading the data with Dask directly\n",
      " or using futures or delayed objects to embed the data into the graph without repetition.\n",
      "See also https://docs.dask.org/en/stable/best-practices.html#load-data-with-dask for more information.\n",
      "  warnings.warn(\n"
     ]
    }
   ],
   "source": [
    "# 3 nodes:\n",
    "n=3\n",
    "n_runs=N_RUNS\n",
    "path=weak_scaling_path + 'n_3.csv'\n",
    "\n",
    "# Init stats\n",
    "stats = {'total': [], 'data_input': [], 'data_processing': [], 'first_centroid': [],\n",
    "         'xxt': [], 'phi_init': [], 'parallel_init': [], 'weight_calc': [], \n",
    "         'lloyd': [], 'final_labels': []}\n",
    "\n",
    "for i in range(n_runs):\n",
    "    print(f'Iteration {i+1} of {n_runs}')\n",
    "    \n",
    "    # Open cluster\n",
    "    cluster, client = open_cluster_n_workers(n)\n",
    "\n",
    "    # Run weak scaling algorithm\n",
    "    res = k_means_weak_scaling(path=path_git, n=n, k=CENTERS, l=L, \n",
    "                                   label_column=LABEL_COLUMN, random_seed=RS,\n",
    "                                   verbose=0, npartitions=n)\n",
    "        \n",
    "    # Save results\n",
    "    for k in stats:\n",
    "        stats[k].append(res['timing'][k])\n",
    "    \n",
    "    # Close cluster\n",
    "    close_cluster(cluster, client)\n",
    "\n",
    "# Save results\n",
    "stats = pd.DataFrame(stats)\n",
    "stats.to_csv(path, index=False)"
   ]
  },
  {
   "cell_type": "code",
   "execution_count": 22,
   "id": "109caf0f-b9c4-4414-8f9f-a5f3aa680373",
   "metadata": {
    "scrolled": true
   },
   "outputs": [
    {
     "name": "stdout",
     "output_type": "stream",
     "text": [
      "Iteration 1 of 5\n"
     ]
    },
    {
     "name": "stderr",
     "output_type": "stream",
     "text": [
      "2025-07-06 16:52:51,176 - distributed.deploy.ssh - INFO - 2025-07-06 16:52:51,174 - distributed.http.proxy - INFO - To route to workers diagnostics web server please install jupyter-server-proxy: python -m pip install jupyter-server-proxy\n",
      "2025-07-06 16:52:51,203 - distributed.deploy.ssh - INFO - 2025-07-06 16:52:51,203 - distributed.scheduler - INFO - State start\n",
      "2025-07-06 16:52:51,210 - distributed.deploy.ssh - INFO - 2025-07-06 16:52:51,209 - distributed.scheduler - INFO -   Scheduler at:  tcp://10.67.22.240:36317\n",
      "2025-07-06 16:52:53,107 - distributed.deploy.ssh - INFO - 2025-07-06 16:52:53,110 - distributed.nanny - INFO -         Start Nanny at: 'tcp://10.67.22.100:38875'\n",
      "2025-07-06 16:52:53,111 - distributed.deploy.ssh - INFO - 2025-07-06 16:52:53,111 - distributed.nanny - INFO -         Start Nanny at: 'tcp://10.67.22.17:46547'\n",
      "2025-07-06 16:52:53,169 - distributed.deploy.ssh - INFO - 2025-07-06 16:52:53,172 - distributed.nanny - INFO -         Start Nanny at: 'tcp://10.67.22.126:41107'\n",
      "2025-07-06 16:52:53,182 - distributed.deploy.ssh - INFO - 2025-07-06 16:52:53,180 - distributed.nanny - INFO -         Start Nanny at: 'tcp://10.67.22.240:36211'\n",
      "2025-07-06 16:52:53,467 - distributed.deploy.ssh - INFO - 2025-07-06 16:52:53,470 - distributed.worker - INFO -       Start worker at:   tcp://10.67.22.100:45689\n",
      "2025-07-06 16:52:53,475 - distributed.deploy.ssh - INFO - 2025-07-06 16:52:53,472 - distributed.worker - INFO -       Start worker at:    tcp://10.67.22.17:40455\n",
      "2025-07-06 16:52:53,534 - distributed.deploy.ssh - INFO - 2025-07-06 16:52:53,537 - distributed.worker - INFO -       Start worker at:   tcp://10.67.22.126:39429\n",
      "2025-07-06 16:52:53,712 - distributed.deploy.ssh - INFO - 2025-07-06 16:52:53,710 - distributed.worker - INFO -       Start worker at:   tcp://10.67.22.240:43115\n",
      "/home/ubuntu/miniconda/envs/dask-env/lib/python3.10/site-packages/distributed/client.py:3370: UserWarning: Sending large graph of size 155.64 MiB.\n",
      "This may cause some slowdown.\n",
      "Consider loading the data with Dask directly\n",
      " or using futures or delayed objects to embed the data into the graph without repetition.\n",
      "See also https://docs.dask.org/en/stable/best-practices.html#load-data-with-dask for more information.\n",
      "  warnings.warn(\n"
     ]
    },
    {
     "name": "stdout",
     "output_type": "stream",
     "text": [
      "Iteration 2 of 5\n"
     ]
    },
    {
     "name": "stderr",
     "output_type": "stream",
     "text": [
      "2025-07-06 16:53:30,191 - distributed.deploy.ssh - INFO - 2025-07-06 16:53:30,190 - distributed.http.proxy - INFO - To route to workers diagnostics web server please install jupyter-server-proxy: python -m pip install jupyter-server-proxy\n",
      "2025-07-06 16:53:30,220 - distributed.deploy.ssh - INFO - 2025-07-06 16:53:30,219 - distributed.scheduler - INFO - State start\n",
      "2025-07-06 16:53:30,227 - distributed.deploy.ssh - INFO - 2025-07-06 16:53:30,226 - distributed.scheduler - INFO -   Scheduler at:  tcp://10.67.22.240:39619\n",
      "2025-07-06 16:53:31,645 - distributed.deploy.ssh - INFO - 2025-07-06 16:53:31,647 - distributed.nanny - INFO -         Start Nanny at: 'tcp://10.67.22.126:46509'\n",
      "2025-07-06 16:53:31,687 - distributed.deploy.ssh - INFO - 2025-07-06 16:53:31,686 - distributed.nanny - INFO -         Start Nanny at: 'tcp://10.67.22.240:36105'\n",
      "2025-07-06 16:53:31,860 - distributed.deploy.ssh - INFO - 2025-07-06 16:53:31,862 - distributed.nanny - INFO -         Start Nanny at: 'tcp://10.67.22.100:44597'\n",
      "2025-07-06 16:53:31,864 - distributed.deploy.ssh - INFO - 2025-07-06 16:53:31,864 - distributed.nanny - INFO -         Start Nanny at: 'tcp://10.67.22.17:45611'\n",
      "2025-07-06 16:53:32,009 - distributed.deploy.ssh - INFO - 2025-07-06 16:53:32,013 - distributed.worker - INFO -       Start worker at:   tcp://10.67.22.126:36395\n",
      "2025-07-06 16:53:32,114 - distributed.deploy.ssh - INFO - 2025-07-06 16:53:32,109 - distributed.worker - INFO -       Start worker at:   tcp://10.67.22.240:34723\n",
      "2025-07-06 16:53:32,217 - distributed.deploy.ssh - INFO - 2025-07-06 16:53:32,220 - distributed.worker - INFO -       Start worker at:   tcp://10.67.22.100:33139\n",
      "2025-07-06 16:53:32,223 - distributed.deploy.ssh - INFO - 2025-07-06 16:53:32,225 - distributed.worker - INFO -       Start worker at:    tcp://10.67.22.17:45399\n",
      "/home/ubuntu/miniconda/envs/dask-env/lib/python3.10/site-packages/distributed/client.py:3370: UserWarning: Sending large graph of size 155.64 MiB.\n",
      "This may cause some slowdown.\n",
      "Consider loading the data with Dask directly\n",
      " or using futures or delayed objects to embed the data into the graph without repetition.\n",
      "See also https://docs.dask.org/en/stable/best-practices.html#load-data-with-dask for more information.\n",
      "  warnings.warn(\n"
     ]
    },
    {
     "name": "stdout",
     "output_type": "stream",
     "text": [
      "Iteration 3 of 5\n"
     ]
    },
    {
     "name": "stderr",
     "output_type": "stream",
     "text": [
      "2025-07-06 16:54:02,496 - distributed.deploy.ssh - INFO - 2025-07-06 16:54:02,495 - distributed.http.proxy - INFO - To route to workers diagnostics web server please install jupyter-server-proxy: python -m pip install jupyter-server-proxy\n",
      "2025-07-06 16:54:02,526 - distributed.deploy.ssh - INFO - 2025-07-06 16:54:02,525 - distributed.scheduler - INFO - State start\n",
      "2025-07-06 16:54:02,530 - distributed.deploy.ssh - INFO - 2025-07-06 16:54:02,530 - distributed.scheduler - INFO -   Scheduler at:  tcp://10.67.22.240:38567\n",
      "2025-07-06 16:54:03,914 - distributed.deploy.ssh - INFO - 2025-07-06 16:54:03,917 - distributed.nanny - INFO -         Start Nanny at: 'tcp://10.67.22.17:34819'\n",
      "2025-07-06 16:54:03,933 - distributed.deploy.ssh - INFO - 2025-07-06 16:54:03,936 - distributed.nanny - INFO -         Start Nanny at: 'tcp://10.67.22.100:34647'\n",
      "2025-07-06 16:54:03,978 - distributed.deploy.ssh - INFO - 2025-07-06 16:54:03,977 - distributed.nanny - INFO -         Start Nanny at: 'tcp://10.67.22.240:43671'\n",
      "2025-07-06 16:54:04,167 - distributed.deploy.ssh - INFO - 2025-07-06 16:54:04,170 - distributed.nanny - INFO -         Start Nanny at: 'tcp://10.67.22.126:35687'\n",
      "2025-07-06 16:54:04,276 - distributed.deploy.ssh - INFO - 2025-07-06 16:54:04,280 - distributed.worker - INFO -       Start worker at:    tcp://10.67.22.17:39999\n",
      "2025-07-06 16:54:04,288 - distributed.deploy.ssh - INFO - 2025-07-06 16:54:04,291 - distributed.worker - INFO -       Start worker at:   tcp://10.67.22.100:40423\n",
      "2025-07-06 16:54:04,389 - distributed.deploy.ssh - INFO - 2025-07-06 16:54:04,388 - distributed.worker - INFO -       Start worker at:   tcp://10.67.22.240:46017\n",
      "2025-07-06 16:54:04,529 - distributed.deploy.ssh - INFO - 2025-07-06 16:54:04,531 - distributed.worker - INFO -       Start worker at:   tcp://10.67.22.126:44119\n",
      "/home/ubuntu/miniconda/envs/dask-env/lib/python3.10/site-packages/distributed/client.py:3370: UserWarning: Sending large graph of size 155.64 MiB.\n",
      "This may cause some slowdown.\n",
      "Consider loading the data with Dask directly\n",
      " or using futures or delayed objects to embed the data into the graph without repetition.\n",
      "See also https://docs.dask.org/en/stable/best-practices.html#load-data-with-dask for more information.\n",
      "  warnings.warn(\n"
     ]
    },
    {
     "name": "stdout",
     "output_type": "stream",
     "text": [
      "Iteration 4 of 5\n"
     ]
    },
    {
     "name": "stderr",
     "output_type": "stream",
     "text": [
      "2025-07-06 16:54:36,206 - distributed.deploy.ssh - INFO - 2025-07-06 16:54:36,206 - distributed.http.proxy - INFO - To route to workers diagnostics web server please install jupyter-server-proxy: python -m pip install jupyter-server-proxy\n",
      "2025-07-06 16:54:36,234 - distributed.deploy.ssh - INFO - 2025-07-06 16:54:36,234 - distributed.scheduler - INFO - State start\n",
      "2025-07-06 16:54:36,239 - distributed.deploy.ssh - INFO - 2025-07-06 16:54:36,238 - distributed.scheduler - INFO -   Scheduler at:  tcp://10.67.22.240:36633\n",
      "2025-07-06 16:54:37,653 - distributed.deploy.ssh - INFO - 2025-07-06 16:54:37,656 - distributed.nanny - INFO -         Start Nanny at: 'tcp://10.67.22.126:38537'\n",
      "2025-07-06 16:54:37,669 - distributed.deploy.ssh - INFO - 2025-07-06 16:54:37,669 - distributed.nanny - INFO -         Start Nanny at: 'tcp://10.67.22.240:43015'\n",
      "2025-07-06 16:54:37,868 - distributed.deploy.ssh - INFO - 2025-07-06 16:54:37,871 - distributed.nanny - INFO -         Start Nanny at: 'tcp://10.67.22.100:39309'\n",
      "2025-07-06 16:54:37,871 - distributed.deploy.ssh - INFO - 2025-07-06 16:54:37,874 - distributed.nanny - INFO -         Start Nanny at: 'tcp://10.67.22.17:45325'\n",
      "2025-07-06 16:54:38,021 - distributed.deploy.ssh - INFO - 2025-07-06 16:54:38,022 - distributed.worker - INFO -       Start worker at:   tcp://10.67.22.126:46153\n",
      "2025-07-06 16:54:38,100 - distributed.deploy.ssh - INFO - 2025-07-06 16:54:38,099 - distributed.worker - INFO -       Start worker at:   tcp://10.67.22.240:35785\n",
      "2025-07-06 16:54:38,229 - distributed.deploy.ssh - INFO - 2025-07-06 16:54:38,231 - distributed.worker - INFO -       Start worker at:   tcp://10.67.22.100:44149\n",
      "2025-07-06 16:54:38,233 - distributed.deploy.ssh - INFO - 2025-07-06 16:54:38,237 - distributed.worker - INFO -       Start worker at:    tcp://10.67.22.17:43179\n",
      "/home/ubuntu/miniconda/envs/dask-env/lib/python3.10/site-packages/distributed/client.py:3370: UserWarning: Sending large graph of size 155.64 MiB.\n",
      "This may cause some slowdown.\n",
      "Consider loading the data with Dask directly\n",
      " or using futures or delayed objects to embed the data into the graph without repetition.\n",
      "See also https://docs.dask.org/en/stable/best-practices.html#load-data-with-dask for more information.\n",
      "  warnings.warn(\n"
     ]
    },
    {
     "name": "stdout",
     "output_type": "stream",
     "text": [
      "Iteration 5 of 5\n"
     ]
    },
    {
     "name": "stderr",
     "output_type": "stream",
     "text": [
      "2025-07-06 16:55:11,979 - distributed.deploy.ssh - INFO - 2025-07-06 16:55:11,979 - distributed.http.proxy - INFO - To route to workers diagnostics web server please install jupyter-server-proxy: python -m pip install jupyter-server-proxy\n",
      "2025-07-06 16:55:12,008 - distributed.deploy.ssh - INFO - 2025-07-06 16:55:12,007 - distributed.scheduler - INFO - State start\n",
      "2025-07-06 16:55:12,013 - distributed.deploy.ssh - INFO - 2025-07-06 16:55:12,012 - distributed.scheduler - INFO -   Scheduler at:  tcp://10.67.22.240:43573\n",
      "2025-07-06 16:55:13,402 - distributed.deploy.ssh - INFO - 2025-07-06 16:55:13,406 - distributed.nanny - INFO -         Start Nanny at: 'tcp://10.67.22.17:43363'\n",
      "2025-07-06 16:55:13,405 - distributed.deploy.ssh - INFO - 2025-07-06 16:55:13,407 - distributed.nanny - INFO -         Start Nanny at: 'tcp://10.67.22.100:43101'\n",
      "2025-07-06 16:55:13,469 - distributed.deploy.ssh - INFO - 2025-07-06 16:55:13,469 - distributed.nanny - INFO -         Start Nanny at: 'tcp://10.67.22.240:39913'\n",
      "2025-07-06 16:55:13,636 - distributed.deploy.ssh - INFO - 2025-07-06 16:55:13,639 - distributed.nanny - INFO -         Start Nanny at: 'tcp://10.67.22.126:34897'\n",
      "2025-07-06 16:55:13,766 - distributed.deploy.ssh - INFO - 2025-07-06 16:55:13,765 - distributed.worker - INFO -       Start worker at:    tcp://10.67.22.17:40675\n",
      "2025-07-06 16:55:13,768 - distributed.deploy.ssh - INFO - 2025-07-06 16:55:13,765 - distributed.worker - INFO -       Start worker at:   tcp://10.67.22.100:46309\n",
      "2025-07-06 16:55:13,903 - distributed.deploy.ssh - INFO - 2025-07-06 16:55:13,902 - distributed.worker - INFO -       Start worker at:   tcp://10.67.22.240:33497\n",
      "2025-07-06 16:55:13,997 - distributed.deploy.ssh - INFO - 2025-07-06 16:55:14,001 - distributed.worker - INFO -       Start worker at:   tcp://10.67.22.126:40847\n",
      "/home/ubuntu/miniconda/envs/dask-env/lib/python3.10/site-packages/distributed/client.py:3370: UserWarning: Sending large graph of size 155.64 MiB.\n",
      "This may cause some slowdown.\n",
      "Consider loading the data with Dask directly\n",
      " or using futures or delayed objects to embed the data into the graph without repetition.\n",
      "See also https://docs.dask.org/en/stable/best-practices.html#load-data-with-dask for more information.\n",
      "  warnings.warn(\n"
     ]
    }
   ],
   "source": [
    "# 4 nodes:\n",
    "n=4\n",
    "n_runs=N_RUNS\n",
    "path=weak_scaling_path + 'n_4.csv'\n",
    "\n",
    "# Init stats\n",
    "stats = {'total': [], 'data_input': [], 'data_processing': [], 'first_centroid': [],\n",
    "         'xxt': [], 'phi_init': [], 'parallel_init': [], 'weight_calc': [], \n",
    "         'lloyd': [], 'final_labels': []}\n",
    "\n",
    "for i in range(n_runs):\n",
    "    print(f'Iteration {i+1} of {n_runs}')\n",
    "    \n",
    "    # Open cluster\n",
    "    cluster, client = open_cluster_n_workers(n)\n",
    "\n",
    "    # Run weak scaling algorithm\n",
    "    res = k_means_weak_scaling(path=path_git, n=n, k=CENTERS, l=L, \n",
    "                                   label_column=LABEL_COLUMN, random_seed=RS,\n",
    "                                   verbose=0, npartitions=n)\n",
    "        \n",
    "    # Save results\n",
    "    for k in stats:\n",
    "        stats[k].append(res['timing'][k])\n",
    "    \n",
    "    # Close cluster\n",
    "    close_cluster(cluster, client)\n",
    "\n",
    "# Save results\n",
    "stats = pd.DataFrame(stats)\n",
    "stats.to_csv(path, index=False)"
   ]
  },
  {
   "cell_type": "markdown",
   "id": "867db0e6-6ce4-41ac-8baf-c5e164202f9e",
   "metadata": {},
   "source": [
    "#### Analysing the results"
   ]
  },
  {
   "cell_type": "code",
   "execution_count": 15,
   "id": "92d398ed-b2e3-4ff9-a551-97d481a8d3c2",
   "metadata": {},
   "outputs": [],
   "source": [
    "from scipy.optimize import curve_fit"
   ]
  },
  {
   "cell_type": "code",
   "execution_count": 16,
   "id": "19b73d07-3af4-4bcb-aa85-4f9ed3e44a49",
   "metadata": {},
   "outputs": [],
   "source": [
    "# Read our data\n",
    "n1_data = pd.read_csv('./weak_scaling_n_1.csv')\n",
    "n2_data = pd.read_csv('./weak_scaling_n_2.csv')\n",
    "n3_data = pd.read_csv('./weak_scaling_n_3.csv')\n",
    "n4_data = pd.read_csv('./weak_scaling_n_4.csv')"
   ]
  },
  {
   "cell_type": "code",
   "execution_count": 17,
   "id": "9dcd3738-7e08-411d-9ce8-3b47201a4fea",
   "metadata": {},
   "outputs": [],
   "source": [
    "# Define Gustafson’s law for weak scaling\n",
    "def Gustafson_law(n, p):\n",
    "    return (1-p) + p*n"
   ]
  },
  {
   "cell_type": "code",
   "execution_count": 18,
   "id": "494b02ae-5f50-40a8-ab58-782cc7dc04e5",
   "metadata": {},
   "outputs": [
    {
     "data": {
      "image/png": "[encoded data removed]",
      "text/plain": [
       "<Figure size 1000x600 with 1 Axes>"
      ]
     },
     "metadata": {},
     "output_type": "display_data"
    }
   ],
   "source": [
    "# Get weak scaling for algorithm time:\n",
    "n_time = [np.array(df['total'] - df['data_input'] - df['first_centroid']) for df in [n1_data, n2_data, n3_data, n4_data]]\n",
    "speedup_mean = [np.mean((i+1)*n_time[0] / t) for i,t in enumerate(n_time)]\n",
    "speedup_std = [np.std((i+1)*n_time[0] / t) for i,t in enumerate(n_time)]\n",
    "\n",
    "# Fit Gustafson's law to our data\n",
    "opt_res = curve_fit(Gustafson_law, xdata=np.arange(4)+1, ydata=speedup_mean)[0]\n",
    "\n",
    "# Figure params\n",
    "FONTSIZE = 13\n",
    "CS = 2\n",
    "LW = 2\n",
    "\n",
    "# Init figure\n",
    "fig, ax = plt.subplots(figsize=(5,3), nrows=1, ncols=1, dpi=200)\n",
    "\n",
    "# Plot results\n",
    "plt.errorbar(np.arange(4)+1, speedup_mean, yerr=speedup_std, capsize=CS, \n",
    "            ls='', marker='o', label='Results')\n",
    "\n",
    "# Plot fit\n",
    "plt.plot(np.arange(4)+1, Gustafson_law(np.arange(4)+1, opt_res[0]), lw=LW, \n",
    "        label=r'$p=%.2f$' % (opt_res[0]), zorder=-1)\n",
    "\n",
    "# Labels\n",
    "plt.xlabel('Number of workers', fontsize=FONTSIZE)\n",
    "plt.ylabel('Scaled speedup', fontsize=FONTSIZE)\n",
    "plt.tick_params(labelsize=FONTSIZE-2)\n",
    "\n",
    "# Ticks\n",
    "plt.xticks(np.arange(4)+1, np.arange(4)+1)\n",
    "\n",
    "# Legend\n",
    "plt.legend(fontsize=FONTSIZE-2)\n",
    "\n",
    "# Show\n",
    "plt.tight_layout()\n",
    "plt.show();"
   ]
  },
  {
   "cell_type": "markdown",
   "id": "5db60422-5b6d-486c-90ba-4786a384b4b5",
   "metadata": {},
   "source": [
    "From these tests, the parallel fraction of the algorithm appears to be of 66%."
   ]
  },
  {
   "cell_type": "code",
   "execution_count": 19,
   "id": "5f4ee01a-4ea8-4ae1-a917-ad26dfea7179",
   "metadata": {},
   "outputs": [
    {
     "data": {
      "image/png": "[encoded data removed]",
      "text/plain": [
       "<Figure size 1000x600 with 1 Axes>"
      ]
     },
     "metadata": {},
     "output_type": "display_data"
    }
   ],
   "source": [
    "# Let's also get the weak scaling for the total time:\n",
    "n_time = [np.array(df['total']) for df in [n1_data, n2_data, n3_data, n4_data]]\n",
    "speedup_mean = [np.mean((i+1)*n_time[0] / t) for i,t in enumerate(n_time)]\n",
    "speedup_std = [np.std((i+1)*n_time[0] / t) for i,t in enumerate(n_time)]\n",
    "\n",
    "# Fit Gustafson's law to our data\n",
    "opt_res = curve_fit(Gustafson_law, xdata=np.arange(4)+1, ydata=speedup_mean)[0]\n",
    "\n",
    "# Figure params\n",
    "FONTSIZE = 13\n",
    "CS = 2\n",
    "LW = 2\n",
    "\n",
    "# Init figure\n",
    "fig, ax = plt.subplots(figsize=(5,3), nrows=1, ncols=1, dpi=200)\n",
    "\n",
    "# Plot results\n",
    "plt.errorbar(np.arange(4)+1, speedup_mean, yerr=speedup_std, capsize=CS, \n",
    "            ls='', marker='o', label='Results')\n",
    "\n",
    "# Plot fit\n",
    "plt.plot(np.arange(4)+1, Gustafson_law(np.arange(4)+1, opt_res[0]), lw=LW, \n",
    "        label=r'$p=%.2f$' % (opt_res[0]), zorder=-1)\n",
    "\n",
    "# Labels\n",
    "plt.xlabel('Number of workers', fontsize=FONTSIZE)\n",
    "plt.ylabel('Scaled speedup', fontsize=FONTSIZE)\n",
    "plt.tick_params(labelsize=FONTSIZE-2)\n",
    "\n",
    "# Ticks\n",
    "plt.xticks(np.arange(4)+1, np.arange(4)+1)\n",
    "\n",
    "# Legend\n",
    "plt.legend(fontsize=FONTSIZE-2)\n",
    "\n",
    "# Show\n",
    "plt.tight_layout()\n",
    "plt.show();"
   ]
  },
  {
   "cell_type": "markdown",
   "id": "5a79ec4f-8ac2-414f-8dee-e8f42699fd37",
   "metadata": {},
   "source": [
    "If we include data loading as part of the algorithm, then the estimated parallel fraction drops to 53%."
   ]
  },
  {
   "cell_type": "markdown",
   "id": "32e69b82-2266-4c81-8a43-5077db669462",
   "metadata": {},
   "source": [
    "## Effect of the number of clusters on Kddcup99 dataset"
   ]
  },
  {
   "cell_type": "markdown",
   "id": "f8febf37-bf22-46c7-804e-3b28c19fdd05",
   "metadata": {},
   "source": [
    "Here, we explore the relationship between the number of clusters to fit, $k$, and the excecution time of our algorithm. To do so, we use the Kddcup99 dataset, which is a standard benchmark dataset for K-Means. This dataset has been previously processed, by removing all non-numerical features."
   ]
  },
  {
   "cell_type": "markdown",
   "id": "4c42924c-83d8-410e-b101-88a2c944417e",
   "metadata": {
    "jp-MarkdownHeadingCollapsed": true
   },
   "source": [
    "### Running the algorithm"
   ]
  },
  {
   "cell_type": "code",
   "execution_count": 20,
   "id": "66f2eaa1-231e-4fc4-95f0-f54f1155c13e",
   "metadata": {},
   "outputs": [],
   "source": [
    "# K-Means parameters\n",
    "path_git = 'https://media.githubusercontent.com/media/FrancoAquistapace/Parallel_kmeans_with_Dask/refs/heads/main/kddcup99_num_labeled.csv'\n",
    "RS = 42\n",
    "LABEL_COLUMN = 'label'\n",
    "L = 1 # Oversampling factor\n",
    "path = './results_k'"
   ]
  },
  {
   "cell_type": "markdown",
   "id": "63878259-ae5d-4350-8662-4340de66cb4e",
   "metadata": {
    "jp-MarkdownHeadingCollapsed": true
   },
   "source": [
    "#### K = 5"
   ]
  },
  {
   "cell_type": "code",
   "execution_count": 25,
   "id": "5823807d-fcfa-47cf-8a60-0beb0d8857cb",
   "metadata": {
    "scrolled": true
   },
   "outputs": [
    {
     "name": "stdout",
     "output_type": "stream",
     "text": [
      "Iteration 1 of 5\n"
     ]
    },
    {
     "name": "stderr",
     "output_type": "stream",
     "text": [
      "2025-07-07 11:49:10,370 - distributed.deploy.ssh - INFO - 2025-07-07 11:49:10,368 - distributed.http.proxy - INFO - To route to workers diagnostics web server please install jupyter-server-proxy: python -m pip install jupyter-server-proxy\n",
      "2025-07-07 11:49:10,398 - distributed.deploy.ssh - INFO - 2025-07-07 11:49:10,397 - distributed.scheduler - INFO - State start\n",
      "2025-07-07 11:49:10,402 - distributed.deploy.ssh - INFO - 2025-07-07 11:49:10,401 - distributed.scheduler - INFO -   Scheduler at:  tcp://10.67.22.240:35167\n",
      "2025-07-07 11:49:11,847 - distributed.deploy.ssh - INFO - 2025-07-07 11:49:11,847 - distributed.nanny - INFO -         Start Nanny at: 'tcp://10.67.22.240:37257'\n",
      "2025-07-07 11:49:12,179 - distributed.deploy.ssh - INFO - 2025-07-07 11:49:12,176 - distributed.nanny - INFO -         Start Nanny at: 'tcp://10.67.22.17:34443'\n",
      "2025-07-07 11:49:12,195 - distributed.deploy.ssh - INFO - 2025-07-07 11:49:12,194 - distributed.nanny - INFO -         Start Nanny at: 'tcp://10.67.22.126:38685'\n",
      "2025-07-07 11:49:12,200 - distributed.deploy.ssh - INFO - 2025-07-07 11:49:12,201 - distributed.nanny - INFO -         Start Nanny at: 'tcp://10.67.22.100:36127'\n",
      "2025-07-07 11:49:12,286 - distributed.deploy.ssh - INFO - 2025-07-07 11:49:12,286 - distributed.worker - INFO -       Start worker at:   tcp://10.67.22.240:46567\n",
      "2025-07-07 11:49:12,540 - distributed.deploy.ssh - INFO - 2025-07-07 11:49:12,537 - distributed.worker - INFO -       Start worker at:    tcp://10.67.22.17:40469\n",
      "2025-07-07 11:49:12,560 - distributed.deploy.ssh - INFO - 2025-07-07 11:49:12,560 - distributed.worker - INFO -       Start worker at:   tcp://10.67.22.126:45107\n",
      "2025-07-07 11:49:12,566 - distributed.deploy.ssh - INFO - 2025-07-07 11:49:12,561 - distributed.worker - INFO -       Start worker at:   tcp://10.67.22.100:39237\n",
      "/home/ubuntu/miniconda/envs/dask-env/lib/python3.10/site-packages/distributed/client.py:3370: UserWarning: Sending large graph of size 143.23 MiB.\n",
      "This may cause some slowdown.\n",
      "Consider loading the data with Dask directly\n",
      " or using futures or delayed objects to embed the data into the graph without repetition.\n",
      "See also https://docs.dask.org/en/stable/best-practices.html#load-data-with-dask for more information.\n",
      "  warnings.warn(\n"
     ]
    },
    {
     "name": "stdout",
     "output_type": "stream",
     "text": [
      "Iteration 2 of 5\n"
     ]
    },
    {
     "name": "stderr",
     "output_type": "stream",
     "text": [
      "2025-07-07 11:50:41,529 - distributed.deploy.ssh - INFO - 2025-07-07 11:50:41,528 - distributed.http.proxy - INFO - To route to workers diagnostics web server please install jupyter-server-proxy: python -m pip install jupyter-server-proxy\n",
      "2025-07-07 11:50:41,560 - distributed.deploy.ssh - INFO - 2025-07-07 11:50:41,559 - distributed.scheduler - INFO - State start\n",
      "2025-07-07 11:50:41,565 - distributed.deploy.ssh - INFO - 2025-07-07 11:50:41,564 - distributed.scheduler - INFO -   Scheduler at:  tcp://10.67.22.240:34169\n",
      "2025-07-07 11:50:43,024 - distributed.deploy.ssh - INFO - 2025-07-07 11:50:43,022 - distributed.nanny - INFO -         Start Nanny at: 'tcp://10.67.22.240:41525'\n",
      "2025-07-07 11:50:43,207 - distributed.deploy.ssh - INFO - 2025-07-07 11:50:43,204 - distributed.nanny - INFO -         Start Nanny at: 'tcp://10.67.22.17:46359'\n",
      "2025-07-07 11:50:43,212 - distributed.deploy.ssh - INFO - 2025-07-07 11:50:43,212 - distributed.nanny - INFO -         Start Nanny at: 'tcp://10.67.22.126:38623'\n",
      "2025-07-07 11:50:43,219 - distributed.deploy.ssh - INFO - 2025-07-07 11:50:43,219 - distributed.nanny - INFO -         Start Nanny at: 'tcp://10.67.22.100:45091'\n",
      "2025-07-07 11:50:43,454 - distributed.deploy.ssh - INFO - 2025-07-07 11:50:43,454 - distributed.worker - INFO -       Start worker at:   tcp://10.67.22.240:43423\n",
      "2025-07-07 11:50:43,574 - distributed.deploy.ssh - INFO - 2025-07-07 11:50:43,572 - distributed.worker - INFO -       Start worker at:   tcp://10.67.22.126:35451\n",
      "2025-07-07 11:50:43,579 - distributed.deploy.ssh - INFO - 2025-07-07 11:50:43,570 - distributed.worker - INFO -       Start worker at:    tcp://10.67.22.17:46387\n",
      "2025-07-07 11:50:43,585 - distributed.deploy.ssh - INFO - 2025-07-07 11:50:43,580 - distributed.worker - INFO -       Start worker at:   tcp://10.67.22.100:45805\n",
      "/home/ubuntu/miniconda/envs/dask-env/lib/python3.10/site-packages/distributed/client.py:3370: UserWarning: Sending large graph of size 143.23 MiB.\n",
      "This may cause some slowdown.\n",
      "Consider loading the data with Dask directly\n",
      " or using futures or delayed objects to embed the data into the graph without repetition.\n",
      "See also https://docs.dask.org/en/stable/best-practices.html#load-data-with-dask for more information.\n",
      "  warnings.warn(\n"
     ]
    },
    {
     "name": "stdout",
     "output_type": "stream",
     "text": [
      "Iteration 3 of 5\n"
     ]
    },
    {
     "name": "stderr",
     "output_type": "stream",
     "text": [
      "2025-07-07 11:51:31,777 - distributed.deploy.ssh - INFO - 2025-07-07 11:51:31,776 - distributed.http.proxy - INFO - To route to workers diagnostics web server please install jupyter-server-proxy: python -m pip install jupyter-server-proxy\n",
      "2025-07-07 11:51:31,806 - distributed.deploy.ssh - INFO - 2025-07-07 11:51:31,806 - distributed.scheduler - INFO - State start\n",
      "2025-07-07 11:51:31,811 - distributed.deploy.ssh - INFO - 2025-07-07 11:51:31,810 - distributed.scheduler - INFO -   Scheduler at:  tcp://10.67.22.240:35999\n",
      "2025-07-07 11:51:33,224 - distributed.deploy.ssh - INFO - 2025-07-07 11:51:33,221 - distributed.nanny - INFO -         Start Nanny at: 'tcp://10.67.22.17:35919'\n",
      "2025-07-07 11:51:33,236 - distributed.deploy.ssh - INFO - 2025-07-07 11:51:33,236 - distributed.nanny - INFO -         Start Nanny at: 'tcp://10.67.22.126:35921'\n",
      "2025-07-07 11:51:33,242 - distributed.deploy.ssh - INFO - 2025-07-07 11:51:33,242 - distributed.nanny - INFO -         Start Nanny at: 'tcp://10.67.22.100:37731'\n",
      "2025-07-07 11:51:33,280 - distributed.deploy.ssh - INFO - 2025-07-07 11:51:33,279 - distributed.nanny - INFO -         Start Nanny at: 'tcp://10.67.22.240:35261'\n",
      "2025-07-07 11:51:33,584 - distributed.deploy.ssh - INFO - 2025-07-07 11:51:33,581 - distributed.worker - INFO -       Start worker at:    tcp://10.67.22.17:43597\n",
      "2025-07-07 11:51:33,598 - distributed.deploy.ssh - INFO - 2025-07-07 11:51:33,598 - distributed.worker - INFO -       Start worker at:   tcp://10.67.22.126:43365\n",
      "2025-07-07 11:51:33,605 - distributed.deploy.ssh - INFO - 2025-07-07 11:51:33,606 - distributed.worker - INFO -       Start worker at:   tcp://10.67.22.100:44725\n",
      "2025-07-07 11:51:33,694 - distributed.deploy.ssh - INFO - 2025-07-07 11:51:33,693 - distributed.worker - INFO -       Start worker at:   tcp://10.67.22.240:45367\n",
      "/home/ubuntu/miniconda/envs/dask-env/lib/python3.10/site-packages/distributed/client.py:3370: UserWarning: Sending large graph of size 143.23 MiB.\n",
      "This may cause some slowdown.\n",
      "Consider loading the data with Dask directly\n",
      " or using futures or delayed objects to embed the data into the graph without repetition.\n",
      "See also https://docs.dask.org/en/stable/best-practices.html#load-data-with-dask for more information.\n",
      "  warnings.warn(\n"
     ]
    },
    {
     "name": "stdout",
     "output_type": "stream",
     "text": [
      "Iteration 4 of 5\n"
     ]
    },
    {
     "name": "stderr",
     "output_type": "stream",
     "text": [
      "2025-07-07 11:52:21,467 - distributed.deploy.ssh - INFO - 2025-07-07 11:52:21,465 - distributed.http.proxy - INFO - To route to workers diagnostics web server please install jupyter-server-proxy: python -m pip install jupyter-server-proxy\n",
      "2025-07-07 11:52:21,496 - distributed.deploy.ssh - INFO - 2025-07-07 11:52:21,495 - distributed.scheduler - INFO - State start\n",
      "2025-07-07 11:52:21,501 - distributed.deploy.ssh - INFO - 2025-07-07 11:52:21,501 - distributed.scheduler - INFO -   Scheduler at:  tcp://10.67.22.240:41893\n",
      "2025-07-07 11:52:22,953 - distributed.deploy.ssh - INFO - 2025-07-07 11:52:22,952 - distributed.nanny - INFO -         Start Nanny at: 'tcp://10.67.22.240:39923'\n",
      "2025-07-07 11:52:23,152 - distributed.deploy.ssh - INFO - 2025-07-07 11:52:23,149 - distributed.nanny - INFO -         Start Nanny at: 'tcp://10.67.22.17:44087'\n",
      "2025-07-07 11:52:23,162 - distributed.deploy.ssh - INFO - 2025-07-07 11:52:23,161 - distributed.nanny - INFO -         Start Nanny at: 'tcp://10.67.22.126:37295'\n",
      "2025-07-07 11:52:23,164 - distributed.deploy.ssh - INFO - 2025-07-07 11:52:23,163 - distributed.nanny - INFO -         Start Nanny at: 'tcp://10.67.22.100:35851'\n",
      "2025-07-07 11:52:23,353 - distributed.deploy.ssh - INFO - 2025-07-07 11:52:23,351 - distributed.worker - INFO -       Start worker at:   tcp://10.67.22.240:39271\n",
      "2025-07-07 11:52:23,518 - distributed.deploy.ssh - INFO - 2025-07-07 11:52:23,515 - distributed.worker - INFO -       Start worker at:    tcp://10.67.22.17:46865\n",
      "2025-07-07 11:52:23,523 - distributed.deploy.ssh - INFO - 2025-07-07 11:52:23,522 - distributed.worker - INFO -       Start worker at:   tcp://10.67.22.126:38577\n",
      "2025-07-07 11:52:23,533 - distributed.deploy.ssh - INFO - 2025-07-07 11:52:23,533 - distributed.worker - INFO -       Start worker at:   tcp://10.67.22.100:40309\n",
      "/home/ubuntu/miniconda/envs/dask-env/lib/python3.10/site-packages/distributed/client.py:3370: UserWarning: Sending large graph of size 143.23 MiB.\n",
      "This may cause some slowdown.\n",
      "Consider loading the data with Dask directly\n",
      " or using futures or delayed objects to embed the data into the graph without repetition.\n",
      "See also https://docs.dask.org/en/stable/best-practices.html#load-data-with-dask for more information.\n",
      "  warnings.warn(\n"
     ]
    },
    {
     "name": "stdout",
     "output_type": "stream",
     "text": [
      "Iteration 5 of 5\n"
     ]
    },
    {
     "name": "stderr",
     "output_type": "stream",
     "text": [
      "2025-07-07 11:53:07,639 - distributed.deploy.ssh - INFO - 2025-07-07 11:53:07,639 - distributed.http.proxy - INFO - To route to workers diagnostics web server please install jupyter-server-proxy: python -m pip install jupyter-server-proxy\n",
      "2025-07-07 11:53:07,673 - distributed.deploy.ssh - INFO - 2025-07-07 11:53:07,671 - distributed.scheduler - INFO - State start\n",
      "2025-07-07 11:53:07,675 - distributed.deploy.ssh - INFO - 2025-07-07 11:53:07,675 - distributed.scheduler - INFO -   Scheduler at:  tcp://10.67.22.240:39961\n",
      "2025-07-07 11:53:09,085 - distributed.deploy.ssh - INFO - 2025-07-07 11:53:09,081 - distributed.nanny - INFO -         Start Nanny at: 'tcp://10.67.22.17:34861'\n",
      "2025-07-07 11:53:09,089 - distributed.deploy.ssh - INFO - 2025-07-07 11:53:09,089 - distributed.nanny - INFO -         Start Nanny at: 'tcp://10.67.22.100:33477'\n",
      "2025-07-07 11:53:09,094 - distributed.deploy.ssh - INFO - 2025-07-07 11:53:09,093 - distributed.nanny - INFO -         Start Nanny at: 'tcp://10.67.22.126:44391'\n",
      "2025-07-07 11:53:09,119 - distributed.deploy.ssh - INFO - 2025-07-07 11:53:09,118 - distributed.nanny - INFO -         Start Nanny at: 'tcp://10.67.22.240:42243'\n",
      "2025-07-07 11:53:09,453 - distributed.deploy.ssh - INFO - 2025-07-07 11:53:09,450 - distributed.worker - INFO -       Start worker at:    tcp://10.67.22.17:39023\n",
      "2025-07-07 11:53:09,460 - distributed.deploy.ssh - INFO - 2025-07-07 11:53:09,453 - distributed.worker - INFO -       Start worker at:   tcp://10.67.22.100:33639\n",
      "2025-07-07 11:53:09,462 - distributed.deploy.ssh - INFO - 2025-07-07 11:53:09,458 - distributed.worker - INFO -       Start worker at:   tcp://10.67.22.126:44407\n",
      "2025-07-07 11:53:09,545 - distributed.deploy.ssh - INFO - 2025-07-07 11:53:09,545 - distributed.worker - INFO -       Start worker at:   tcp://10.67.22.240:36371\n",
      "/home/ubuntu/miniconda/envs/dask-env/lib/python3.10/site-packages/distributed/client.py:3370: UserWarning: Sending large graph of size 143.23 MiB.\n",
      "This may cause some slowdown.\n",
      "Consider loading the data with Dask directly\n",
      " or using futures or delayed objects to embed the data into the graph without repetition.\n",
      "See also https://docs.dask.org/en/stable/best-practices.html#load-data-with-dask for more information.\n",
      "  warnings.warn(\n"
     ]
    }
   ],
   "source": [
    "K = 5\n",
    "N_RUNS = 5\n",
    "\n",
    "# Init stats\n",
    "stats = {'total': [], 'data_input': [], 'data_processing': [], 'first_centroid': [],\n",
    "         'xxt': [], 'phi_init': [], 'parallel_init': [], 'weight_calc': [], \n",
    "         'lloyd': [], 'final_labels': []}\n",
    "\n",
    "# Run\n",
    "for i in range(N_RUNS):\n",
    "    print(f'Iteration {i+1} of {N_RUNS}')\n",
    "    \n",
    "    # Open cluster\n",
    "    cluster, client = open_cluster()\n",
    "\n",
    "    # Run weak scaling algorithm\n",
    "    res = k_means_parallel(path=path_git, k=K, l=L, label_column=LABEL_COLUMN, \n",
    "                           random_seed=RS, verbose=0, npartitions=4)\n",
    "    # Save results\n",
    "    for col in stats:\n",
    "        stats[col].append(res['timing'][col])\n",
    "    \n",
    "    # Close cluster\n",
    "    close_cluster(cluster, client)\n",
    "\n",
    "# Save results\n",
    "stats = pd.DataFrame(stats)\n",
    "stats.to_csv(path + '_5.csv', index=False)"
   ]
  },
  {
   "cell_type": "markdown",
   "id": "f8988e4f-6f42-478f-ab3d-4f086ee5da3f",
   "metadata": {
    "jp-MarkdownHeadingCollapsed": true
   },
   "source": [
    "#### K = 10"
   ]
  },
  {
   "cell_type": "code",
   "execution_count": 21,
   "id": "11efbf90-b08c-4325-8a5e-f5bf898f2a48",
   "metadata": {
    "scrolled": true
   },
   "outputs": [
    {
     "name": "stdout",
     "output_type": "stream",
     "text": [
      "Iteration 1 of 5\n"
     ]
    },
    {
     "name": "stderr",
     "output_type": "stream",
     "text": [
      "2025-07-07 14:02:53,116 - distributed.deploy.ssh - INFO - 2025-07-07 14:02:53,116 - distributed.http.proxy - INFO - To route to workers diagnostics web server please install jupyter-server-proxy: python -m pip install jupyter-server-proxy\n",
      "2025-07-07 14:02:53,146 - distributed.deploy.ssh - INFO - 2025-07-07 14:02:53,145 - distributed.scheduler - INFO - State start\n",
      "2025-07-07 14:02:53,151 - distributed.deploy.ssh - INFO - 2025-07-07 14:02:53,151 - distributed.scheduler - INFO -   Scheduler at:  tcp://10.67.22.240:42823\n",
      "2025-07-07 14:02:54,723 - distributed.deploy.ssh - INFO - 2025-07-07 14:02:54,721 - distributed.nanny - INFO -         Start Nanny at: 'tcp://10.67.22.240:42689'\n",
      "2025-07-07 14:02:54,967 - distributed.deploy.ssh - INFO - 2025-07-07 14:02:54,966 - distributed.nanny - INFO -         Start Nanny at: 'tcp://10.67.22.17:36601'\n",
      "2025-07-07 14:02:54,979 - distributed.deploy.ssh - INFO - 2025-07-07 14:02:54,983 - distributed.nanny - INFO -         Start Nanny at: 'tcp://10.67.22.100:41713'\n",
      "2025-07-07 14:02:54,987 - distributed.deploy.ssh - INFO - 2025-07-07 14:02:54,989 - distributed.nanny - INFO -         Start Nanny at: 'tcp://10.67.22.126:33889'\n",
      "2025-07-07 14:02:55,335 - distributed.deploy.ssh - INFO - 2025-07-07 14:02:55,331 - distributed.worker - INFO -       Start worker at:    tcp://10.67.22.17:45407\n",
      "2025-07-07 14:02:55,347 - distributed.deploy.ssh - INFO - 2025-07-07 14:02:55,346 - distributed.worker - INFO -       Start worker at:   tcp://10.67.22.100:41905\n",
      "2025-07-07 14:02:55,359 - distributed.deploy.ssh - INFO - 2025-07-07 14:02:55,353 - distributed.worker - INFO -       Start worker at:   tcp://10.67.22.126:40773\n",
      "2025-07-07 14:02:55,429 - distributed.deploy.ssh - INFO - 2025-07-07 14:02:55,428 - distributed.worker - INFO -       Start worker at:   tcp://10.67.22.240:45317\n",
      "/home/ubuntu/miniconda/envs/dask-env/lib/python3.10/site-packages/distributed/client.py:3370: UserWarning: Sending large graph of size 143.23 MiB.\n",
      "This may cause some slowdown.\n",
      "Consider loading the data with Dask directly\n",
      " or using futures or delayed objects to embed the data into the graph without repetition.\n",
      "See also https://docs.dask.org/en/stable/best-practices.html#load-data-with-dask for more information.\n",
      "  warnings.warn(\n"
     ]
    },
    {
     "name": "stdout",
     "output_type": "stream",
     "text": [
      "Iteration 2 of 5\n"
     ]
    },
    {
     "name": "stderr",
     "output_type": "stream",
     "text": [
      "2025-07-07 14:04:01,632 - distributed.deploy.ssh - INFO - 2025-07-07 14:04:01,632 - distributed.http.proxy - INFO - To route to workers diagnostics web server please install jupyter-server-proxy: python -m pip install jupyter-server-proxy\n",
      "2025-07-07 14:04:01,664 - distributed.deploy.ssh - INFO - 2025-07-07 14:04:01,663 - distributed.scheduler - INFO - State start\n",
      "2025-07-07 14:04:01,669 - distributed.deploy.ssh - INFO - 2025-07-07 14:04:01,668 - distributed.scheduler - INFO -   Scheduler at:  tcp://10.67.22.240:45581\n",
      "2025-07-07 14:04:03,121 - distributed.deploy.ssh - INFO - 2025-07-07 14:04:03,120 - distributed.nanny - INFO -         Start Nanny at: 'tcp://10.67.22.240:40579'\n",
      "2025-07-07 14:04:03,322 - distributed.deploy.ssh - INFO - 2025-07-07 14:04:03,320 - distributed.nanny - INFO -         Start Nanny at: 'tcp://10.67.22.17:42119'\n",
      "2025-07-07 14:04:03,326 - distributed.deploy.ssh - INFO - 2025-07-07 14:04:03,329 - distributed.nanny - INFO -         Start Nanny at: 'tcp://10.67.22.100:37901'\n",
      "2025-07-07 14:04:03,329 - distributed.deploy.ssh - INFO - 2025-07-07 14:04:03,328 - distributed.nanny - INFO -         Start Nanny at: 'tcp://10.67.22.126:38385'\n",
      "2025-07-07 14:04:03,535 - distributed.deploy.ssh - INFO - 2025-07-07 14:04:03,533 - distributed.worker - INFO -       Start worker at:   tcp://10.67.22.240:45777\n",
      "2025-07-07 14:04:03,688 - distributed.deploy.ssh - INFO - 2025-07-07 14:04:03,687 - distributed.worker - INFO -       Start worker at:    tcp://10.67.22.17:32895\n",
      "2025-07-07 14:04:03,694 - distributed.deploy.ssh - INFO - 2025-07-07 14:04:03,691 - distributed.worker - INFO -       Start worker at:   tcp://10.67.22.126:37995\n",
      "2025-07-07 14:04:03,697 - distributed.deploy.ssh - INFO - 2025-07-07 14:04:03,699 - distributed.worker - INFO -       Start worker at:   tcp://10.67.22.100:43817\n",
      "/home/ubuntu/miniconda/envs/dask-env/lib/python3.10/site-packages/distributed/client.py:3370: UserWarning: Sending large graph of size 143.23 MiB.\n",
      "This may cause some slowdown.\n",
      "Consider loading the data with Dask directly\n",
      " or using futures or delayed objects to embed the data into the graph without repetition.\n",
      "See also https://docs.dask.org/en/stable/best-practices.html#load-data-with-dask for more information.\n",
      "  warnings.warn(\n"
     ]
    },
    {
     "name": "stdout",
     "output_type": "stream",
     "text": [
      "Iteration 3 of 5\n"
     ]
    },
    {
     "name": "stderr",
     "output_type": "stream",
     "text": [
      "2025-07-07 14:05:08,779 - distributed.deploy.ssh - INFO - 2025-07-07 14:05:08,777 - distributed.http.proxy - INFO - To route to workers diagnostics web server please install jupyter-server-proxy: python -m pip install jupyter-server-proxy\n",
      "2025-07-07 14:05:08,806 - distributed.deploy.ssh - INFO - 2025-07-07 14:05:08,806 - distributed.scheduler - INFO - State start\n",
      "2025-07-07 14:05:08,811 - distributed.deploy.ssh - INFO - 2025-07-07 14:05:08,810 - distributed.scheduler - INFO -   Scheduler at:  tcp://10.67.22.240:44275\n",
      "2025-07-07 14:05:10,283 - distributed.deploy.ssh - INFO - 2025-07-07 14:05:10,282 - distributed.nanny - INFO -         Start Nanny at: 'tcp://10.67.22.240:39871'\n",
      "2025-07-07 14:05:10,444 - distributed.deploy.ssh - INFO - 2025-07-07 14:05:10,443 - distributed.nanny - INFO -         Start Nanny at: 'tcp://10.67.22.17:45853'\n",
      "2025-07-07 14:05:10,468 - distributed.deploy.ssh - INFO - 2025-07-07 14:05:10,470 - distributed.nanny - INFO -         Start Nanny at: 'tcp://10.67.22.126:46389'\n",
      "2025-07-07 14:05:10,471 - distributed.deploy.ssh - INFO - 2025-07-07 14:05:10,473 - distributed.nanny - INFO -         Start Nanny at: 'tcp://10.67.22.100:42719'\n",
      "2025-07-07 14:05:10,695 - distributed.deploy.ssh - INFO - 2025-07-07 14:05:10,694 - distributed.worker - INFO -       Start worker at:   tcp://10.67.22.240:43521\n",
      "2025-07-07 14:05:10,805 - distributed.deploy.ssh - INFO - 2025-07-07 14:05:10,805 - distributed.worker - INFO -       Start worker at:    tcp://10.67.22.17:33589\n",
      "2025-07-07 14:05:10,828 - distributed.deploy.ssh - INFO - 2025-07-07 14:05:10,830 - distributed.worker - INFO -       Start worker at:   tcp://10.67.22.126:33047\n",
      "2025-07-07 14:05:10,839 - distributed.deploy.ssh - INFO - 2025-07-07 14:05:10,842 - distributed.worker - INFO -       Start worker at:   tcp://10.67.22.100:41003\n",
      "/home/ubuntu/miniconda/envs/dask-env/lib/python3.10/site-packages/distributed/client.py:3370: UserWarning: Sending large graph of size 143.23 MiB.\n",
      "This may cause some slowdown.\n",
      "Consider loading the data with Dask directly\n",
      " or using futures or delayed objects to embed the data into the graph without repetition.\n",
      "See also https://docs.dask.org/en/stable/best-practices.html#load-data-with-dask for more information.\n",
      "  warnings.warn(\n"
     ]
    },
    {
     "name": "stdout",
     "output_type": "stream",
     "text": [
      "Iteration 4 of 5\n"
     ]
    },
    {
     "name": "stderr",
     "output_type": "stream",
     "text": [
      "2025-07-07 14:06:06,947 - distributed.deploy.ssh - INFO - 2025-07-07 14:06:06,945 - distributed.http.proxy - INFO - To route to workers diagnostics web server please install jupyter-server-proxy: python -m pip install jupyter-server-proxy\n",
      "2025-07-07 14:06:06,976 - distributed.deploy.ssh - INFO - 2025-07-07 14:06:06,975 - distributed.scheduler - INFO - State start\n",
      "2025-07-07 14:06:06,981 - distributed.deploy.ssh - INFO - 2025-07-07 14:06:06,981 - distributed.scheduler - INFO -   Scheduler at:  tcp://10.67.22.240:36707\n",
      "2025-07-07 14:06:08,382 - distributed.deploy.ssh - INFO - 2025-07-07 14:06:08,381 - distributed.nanny - INFO -         Start Nanny at: 'tcp://10.67.22.17:35045'\n",
      "2025-07-07 14:06:08,394 - distributed.deploy.ssh - INFO - 2025-07-07 14:06:08,395 - distributed.nanny - INFO -         Start Nanny at: 'tcp://10.67.22.126:43033'\n",
      "2025-07-07 14:06:08,405 - distributed.deploy.ssh - INFO - 2025-07-07 14:06:08,408 - distributed.nanny - INFO -         Start Nanny at: 'tcp://10.67.22.100:39043'\n",
      "2025-07-07 14:06:08,433 - distributed.deploy.ssh - INFO - 2025-07-07 14:06:08,432 - distributed.nanny - INFO -         Start Nanny at: 'tcp://10.67.22.240:33983'\n",
      "2025-07-07 14:06:08,744 - distributed.deploy.ssh - INFO - 2025-07-07 14:06:08,743 - distributed.worker - INFO -       Start worker at:    tcp://10.67.22.17:35211\n",
      "2025-07-07 14:06:08,757 - distributed.deploy.ssh - INFO - 2025-07-07 14:06:08,759 - distributed.worker - INFO -       Start worker at:   tcp://10.67.22.126:35123\n",
      "2025-07-07 14:06:08,767 - distributed.deploy.ssh - INFO - 2025-07-07 14:06:08,769 - distributed.worker - INFO -       Start worker at:   tcp://10.67.22.100:33249\n",
      "2025-07-07 14:06:08,858 - distributed.deploy.ssh - INFO - 2025-07-07 14:06:08,857 - distributed.worker - INFO -       Start worker at:   tcp://10.67.22.240:35435\n",
      "/home/ubuntu/miniconda/envs/dask-env/lib/python3.10/site-packages/distributed/client.py:3370: UserWarning: Sending large graph of size 143.23 MiB.\n",
      "This may cause some slowdown.\n",
      "Consider loading the data with Dask directly\n",
      " or using futures or delayed objects to embed the data into the graph without repetition.\n",
      "See also https://docs.dask.org/en/stable/best-practices.html#load-data-with-dask for more information.\n",
      "  warnings.warn(\n"
     ]
    },
    {
     "name": "stdout",
     "output_type": "stream",
     "text": [
      "Iteration 5 of 5\n"
     ]
    },
    {
     "name": "stderr",
     "output_type": "stream",
     "text": [
      "2025-07-07 14:07:04,085 - distributed.deploy.ssh - INFO - 2025-07-07 14:07:04,084 - distributed.http.proxy - INFO - To route to workers diagnostics web server please install jupyter-server-proxy: python -m pip install jupyter-server-proxy\n",
      "2025-07-07 14:07:04,113 - distributed.deploy.ssh - INFO - 2025-07-07 14:07:04,113 - distributed.scheduler - INFO - State start\n",
      "2025-07-07 14:07:04,118 - distributed.deploy.ssh - INFO - 2025-07-07 14:07:04,118 - distributed.scheduler - INFO -   Scheduler at:  tcp://10.67.22.240:33363\n",
      "2025-07-07 14:07:05,573 - distributed.deploy.ssh - INFO - 2025-07-07 14:07:05,572 - distributed.nanny - INFO -         Start Nanny at: 'tcp://10.67.22.240:44831'\n",
      "2025-07-07 14:07:05,749 - distributed.deploy.ssh - INFO - 2025-07-07 14:07:05,752 - distributed.nanny - INFO -         Start Nanny at: 'tcp://10.67.22.100:45029'\n",
      "2025-07-07 14:07:05,758 - distributed.deploy.ssh - INFO - 2025-07-07 14:07:05,757 - distributed.nanny - INFO -         Start Nanny at: 'tcp://10.67.22.17:38635'\n",
      "2025-07-07 14:07:05,768 - distributed.deploy.ssh - INFO - 2025-07-07 14:07:05,770 - distributed.nanny - INFO -         Start Nanny at: 'tcp://10.67.22.126:32863'\n",
      "2025-07-07 14:07:05,992 - distributed.deploy.ssh - INFO - 2025-07-07 14:07:05,992 - distributed.worker - INFO -       Start worker at:   tcp://10.67.22.240:34495\n",
      "2025-07-07 14:07:06,110 - distributed.deploy.ssh - INFO - 2025-07-07 14:07:06,113 - distributed.worker - INFO -       Start worker at:   tcp://10.67.22.100:38515\n",
      "2025-07-07 14:07:06,120 - distributed.deploy.ssh - INFO - 2025-07-07 14:07:06,120 - distributed.worker - INFO -       Start worker at:    tcp://10.67.22.17:42323\n",
      "2025-07-07 14:07:06,134 - distributed.deploy.ssh - INFO - 2025-07-07 14:07:06,137 - distributed.worker - INFO -       Start worker at:   tcp://10.67.22.126:35799\n",
      "/home/ubuntu/miniconda/envs/dask-env/lib/python3.10/site-packages/distributed/client.py:3370: UserWarning: Sending large graph of size 143.23 MiB.\n",
      "This may cause some slowdown.\n",
      "Consider loading the data with Dask directly\n",
      " or using futures or delayed objects to embed the data into the graph without repetition.\n",
      "See also https://docs.dask.org/en/stable/best-practices.html#load-data-with-dask for more information.\n",
      "  warnings.warn(\n"
     ]
    }
   ],
   "source": [
    "K = 10\n",
    "N_RUNS = 5\n",
    "\n",
    "# Init stats\n",
    "stats = {'total': [], 'data_input': [], 'data_processing': [], 'first_centroid': [],\n",
    "         'xxt': [], 'phi_init': [], 'parallel_init': [], 'weight_calc': [], \n",
    "         'lloyd': [], 'final_labels': []}\n",
    "\n",
    "# Run\n",
    "for i in range(N_RUNS):\n",
    "    print(f'Iteration {i+1} of {N_RUNS}')\n",
    "    \n",
    "    # Open cluster\n",
    "    cluster, client = open_cluster()\n",
    "\n",
    "    # Run weak scaling algorithm\n",
    "    res = k_means_parallel(path=path_git, k=K, l=L, label_column=LABEL_COLUMN, \n",
    "                           random_seed=RS, verbose=0, npartitions=4)\n",
    "    # Save results\n",
    "    for col in stats:\n",
    "        stats[col].append(res['timing'][col])\n",
    "    \n",
    "    # Close cluster\n",
    "    close_cluster(cluster, client)\n",
    "\n",
    "# Save results\n",
    "stats = pd.DataFrame(stats)\n",
    "stats.to_csv(path + '_10.csv', index=False)"
   ]
  },
  {
   "cell_type": "markdown",
   "id": "67c01ee3-8633-4234-bdbc-ed7afb76b05c",
   "metadata": {
    "jp-MarkdownHeadingCollapsed": true
   },
   "source": [
    "#### K = 15"
   ]
  },
  {
   "cell_type": "code",
   "execution_count": 23,
   "id": "0fd4dcda-c020-43d7-9768-cfb757e84de5",
   "metadata": {
    "scrolled": true
   },
   "outputs": [
    {
     "name": "stdout",
     "output_type": "stream",
     "text": [
      "Iteration 1 of 5\n"
     ]
    },
    {
     "name": "stderr",
     "output_type": "stream",
     "text": [
      "2025-07-07 14:10:25,978 - distributed.deploy.ssh - INFO - 2025-07-07 14:10:25,976 - distributed.http.proxy - INFO - To route to workers diagnostics web server please install jupyter-server-proxy: python -m pip install jupyter-server-proxy\n",
      "2025-07-07 14:10:26,007 - distributed.deploy.ssh - INFO - 2025-07-07 14:10:26,006 - distributed.scheduler - INFO - State start\n",
      "2025-07-07 14:10:26,012 - distributed.deploy.ssh - INFO - 2025-07-07 14:10:26,012 - distributed.scheduler - INFO -   Scheduler at:  tcp://10.67.22.240:38247\n",
      "2025-07-07 14:10:28,045 - distributed.deploy.ssh - INFO - 2025-07-07 14:10:28,044 - distributed.nanny - INFO -         Start Nanny at: 'tcp://10.67.22.240:38829'\n",
      "2025-07-07 14:10:28,049 - distributed.deploy.ssh - INFO - 2025-07-07 14:10:28,048 - distributed.nanny - INFO -         Start Nanny at: 'tcp://10.67.22.100:43383'\n",
      "2025-07-07 14:10:28,050 - distributed.deploy.ssh - INFO - 2025-07-07 14:10:28,044 - distributed.nanny - INFO -         Start Nanny at: 'tcp://10.67.22.17:44395'\n",
      "2025-07-07 14:10:28,051 - distributed.deploy.ssh - INFO - 2025-07-07 14:10:28,047 - distributed.nanny - INFO -         Start Nanny at: 'tcp://10.67.22.126:38675'\n",
      "2025-07-07 14:10:28,410 - distributed.deploy.ssh - INFO - 2025-07-07 14:10:28,407 - distributed.worker - INFO -       Start worker at:    tcp://10.67.22.17:44975\n",
      "2025-07-07 14:10:28,417 - distributed.deploy.ssh - INFO - 2025-07-07 14:10:28,410 - distributed.worker - INFO -       Start worker at:   tcp://10.67.22.126:43507\n",
      "2025-07-07 14:10:28,424 - distributed.deploy.ssh - INFO - 2025-07-07 14:10:28,413 - distributed.worker - INFO -       Start worker at:   tcp://10.67.22.100:37183\n",
      "2025-07-07 14:10:28,599 - distributed.deploy.ssh - INFO - 2025-07-07 14:10:28,599 - distributed.worker - INFO -       Start worker at:   tcp://10.67.22.240:43143\n",
      "/home/ubuntu/miniconda/envs/dask-env/lib/python3.10/site-packages/distributed/client.py:3370: UserWarning: Sending large graph of size 143.23 MiB.\n",
      "This may cause some slowdown.\n",
      "Consider loading the data with Dask directly\n",
      " or using futures or delayed objects to embed the data into the graph without repetition.\n",
      "See also https://docs.dask.org/en/stable/best-practices.html#load-data-with-dask for more information.\n",
      "  warnings.warn(\n"
     ]
    },
    {
     "name": "stdout",
     "output_type": "stream",
     "text": [
      "Iteration 2 of 5\n"
     ]
    },
    {
     "name": "stderr",
     "output_type": "stream",
     "text": [
      "2025-07-07 14:11:28,014 - distributed.deploy.ssh - INFO - 2025-07-07 14:11:28,013 - distributed.http.proxy - INFO - To route to workers diagnostics web server please install jupyter-server-proxy: python -m pip install jupyter-server-proxy\n",
      "2025-07-07 14:11:28,043 - distributed.deploy.ssh - INFO - 2025-07-07 14:11:28,043 - distributed.scheduler - INFO - State start\n",
      "2025-07-07 14:11:28,048 - distributed.deploy.ssh - INFO - 2025-07-07 14:11:28,048 - distributed.scheduler - INFO -   Scheduler at:  tcp://10.67.22.240:45123\n",
      "2025-07-07 14:11:29,508 - distributed.deploy.ssh - INFO - 2025-07-07 14:11:29,507 - distributed.nanny - INFO -         Start Nanny at: 'tcp://10.67.22.240:33107'\n",
      "2025-07-07 14:11:29,676 - distributed.deploy.ssh - INFO - 2025-07-07 14:11:29,677 - distributed.nanny - INFO -         Start Nanny at: 'tcp://10.67.22.126:34485'\n",
      "2025-07-07 14:11:29,694 - distributed.deploy.ssh - INFO - 2025-07-07 14:11:29,692 - distributed.nanny - INFO -         Start Nanny at: 'tcp://10.67.22.17:39869'\n",
      "2025-07-07 14:11:29,696 - distributed.deploy.ssh - INFO - 2025-07-07 14:11:29,699 - distributed.nanny - INFO -         Start Nanny at: 'tcp://10.67.22.100:35999'\n",
      "2025-07-07 14:11:29,936 - distributed.deploy.ssh - INFO - 2025-07-07 14:11:29,935 - distributed.worker - INFO -       Start worker at:   tcp://10.67.22.240:45225\n",
      "2025-07-07 14:11:30,038 - distributed.deploy.ssh - INFO - 2025-07-07 14:11:30,039 - distributed.worker - INFO -       Start worker at:   tcp://10.67.22.126:35109\n",
      "2025-07-07 14:11:30,054 - distributed.deploy.ssh - INFO - 2025-07-07 14:11:30,053 - distributed.worker - INFO -       Start worker at:    tcp://10.67.22.17:42461\n",
      "2025-07-07 14:11:30,060 - distributed.deploy.ssh - INFO - 2025-07-07 14:11:30,061 - distributed.worker - INFO -       Start worker at:   tcp://10.67.22.100:41251\n",
      "/home/ubuntu/miniconda/envs/dask-env/lib/python3.10/site-packages/distributed/client.py:3370: UserWarning: Sending large graph of size 143.23 MiB.\n",
      "This may cause some slowdown.\n",
      "Consider loading the data with Dask directly\n",
      " or using futures or delayed objects to embed the data into the graph without repetition.\n",
      "See also https://docs.dask.org/en/stable/best-practices.html#load-data-with-dask for more information.\n",
      "  warnings.warn(\n"
     ]
    },
    {
     "name": "stdout",
     "output_type": "stream",
     "text": [
      "Iteration 3 of 5\n"
     ]
    },
    {
     "name": "stderr",
     "output_type": "stream",
     "text": [
      "2025-07-07 14:12:43,526 - distributed.deploy.ssh - INFO - 2025-07-07 14:12:43,525 - distributed.http.proxy - INFO - To route to workers diagnostics web server please install jupyter-server-proxy: python -m pip install jupyter-server-proxy\n",
      "2025-07-07 14:12:43,555 - distributed.deploy.ssh - INFO - 2025-07-07 14:12:43,554 - distributed.scheduler - INFO - State start\n",
      "2025-07-07 14:12:43,560 - distributed.deploy.ssh - INFO - 2025-07-07 14:12:43,560 - distributed.scheduler - INFO -   Scheduler at:  tcp://10.67.22.240:38043\n",
      "2025-07-07 14:12:45,045 - distributed.deploy.ssh - INFO - 2025-07-07 14:12:45,044 - distributed.nanny - INFO -         Start Nanny at: 'tcp://10.67.22.240:34617'\n",
      "2025-07-07 14:12:45,223 - distributed.deploy.ssh - INFO - 2025-07-07 14:12:45,222 - distributed.nanny - INFO -         Start Nanny at: 'tcp://10.67.22.17:46401'\n",
      "2025-07-07 14:12:45,243 - distributed.deploy.ssh - INFO - 2025-07-07 14:12:45,243 - distributed.nanny - INFO -         Start Nanny at: 'tcp://10.67.22.126:34489'\n",
      "2025-07-07 14:12:45,250 - distributed.deploy.ssh - INFO - 2025-07-07 14:12:45,252 - distributed.nanny - INFO -         Start Nanny at: 'tcp://10.67.22.100:38937'\n",
      "2025-07-07 14:12:45,471 - distributed.deploy.ssh - INFO - 2025-07-07 14:12:45,471 - distributed.worker - INFO -       Start worker at:   tcp://10.67.22.240:42853\n",
      "2025-07-07 14:12:45,586 - distributed.deploy.ssh - INFO - 2025-07-07 14:12:45,585 - distributed.worker - INFO -       Start worker at:    tcp://10.67.22.17:42113\n",
      "2025-07-07 14:12:45,609 - distributed.deploy.ssh - INFO - 2025-07-07 14:12:45,611 - distributed.worker - INFO -       Start worker at:   tcp://10.67.22.126:43529\n",
      "2025-07-07 14:12:45,621 - distributed.deploy.ssh - INFO - 2025-07-07 14:12:45,622 - distributed.worker - INFO -       Start worker at:   tcp://10.67.22.100:33149\n",
      "/home/ubuntu/miniconda/envs/dask-env/lib/python3.10/site-packages/distributed/client.py:3370: UserWarning: Sending large graph of size 143.23 MiB.\n",
      "This may cause some slowdown.\n",
      "Consider loading the data with Dask directly\n",
      " or using futures or delayed objects to embed the data into the graph without repetition.\n",
      "See also https://docs.dask.org/en/stable/best-practices.html#load-data-with-dask for more information.\n",
      "  warnings.warn(\n"
     ]
    },
    {
     "name": "stdout",
     "output_type": "stream",
     "text": [
      "Iteration 4 of 5\n"
     ]
    },
    {
     "name": "stderr",
     "output_type": "stream",
     "text": [
      "2025-07-07 14:13:24,968 - distributed.deploy.ssh - INFO - 2025-07-07 14:13:24,967 - distributed.http.proxy - INFO - To route to workers diagnostics web server please install jupyter-server-proxy: python -m pip install jupyter-server-proxy\n",
      "2025-07-07 14:13:24,998 - distributed.deploy.ssh - INFO - 2025-07-07 14:13:24,997 - distributed.scheduler - INFO - State start\n",
      "2025-07-07 14:13:25,003 - distributed.deploy.ssh - INFO - 2025-07-07 14:13:25,002 - distributed.scheduler - INFO -   Scheduler at:  tcp://10.67.22.240:42373\n",
      "2025-07-07 14:13:26,411 - distributed.deploy.ssh - INFO - 2025-07-07 14:13:26,409 - distributed.nanny - INFO -         Start Nanny at: 'tcp://10.67.22.17:37135'\n",
      "2025-07-07 14:13:26,421 - distributed.deploy.ssh - INFO - 2025-07-07 14:13:26,423 - distributed.nanny - INFO -         Start Nanny at: 'tcp://10.67.22.100:39055'\n",
      "2025-07-07 14:13:26,429 - distributed.deploy.ssh - INFO - 2025-07-07 14:13:26,430 - distributed.nanny - INFO -         Start Nanny at: 'tcp://10.67.22.126:35061'\n",
      "2025-07-07 14:13:26,475 - distributed.deploy.ssh - INFO - 2025-07-07 14:13:26,474 - distributed.nanny - INFO -         Start Nanny at: 'tcp://10.67.22.240:45177'\n",
      "2025-07-07 14:13:26,775 - distributed.deploy.ssh - INFO - 2025-07-07 14:13:26,772 - distributed.worker - INFO -       Start worker at:    tcp://10.67.22.17:37115\n",
      "2025-07-07 14:13:26,786 - distributed.deploy.ssh - INFO - 2025-07-07 14:13:26,789 - distributed.worker - INFO -       Start worker at:   tcp://10.67.22.100:38459\n",
      "2025-07-07 14:13:26,793 - distributed.deploy.ssh - INFO - 2025-07-07 14:13:26,792 - distributed.worker - INFO -       Start worker at:   tcp://10.67.22.126:41641\n",
      "2025-07-07 14:13:26,910 - distributed.deploy.ssh - INFO - 2025-07-07 14:13:26,910 - distributed.worker - INFO -       Start worker at:   tcp://10.67.22.240:46411\n",
      "/home/ubuntu/miniconda/envs/dask-env/lib/python3.10/site-packages/distributed/client.py:3370: UserWarning: Sending large graph of size 143.23 MiB.\n",
      "This may cause some slowdown.\n",
      "Consider loading the data with Dask directly\n",
      " or using futures or delayed objects to embed the data into the graph without repetition.\n",
      "See also https://docs.dask.org/en/stable/best-practices.html#load-data-with-dask for more information.\n",
      "  warnings.warn(\n"
     ]
    },
    {
     "name": "stdout",
     "output_type": "stream",
     "text": [
      "Iteration 5 of 5\n"
     ]
    },
    {
     "name": "stderr",
     "output_type": "stream",
     "text": [
      "2025-07-07 14:14:13,051 - distributed.deploy.ssh - INFO - 2025-07-07 14:14:13,050 - distributed.http.proxy - INFO - To route to workers diagnostics web server please install jupyter-server-proxy: python -m pip install jupyter-server-proxy\n",
      "2025-07-07 14:14:13,079 - distributed.deploy.ssh - INFO - 2025-07-07 14:14:13,079 - distributed.scheduler - INFO - State start\n",
      "2025-07-07 14:14:13,084 - distributed.deploy.ssh - INFO - 2025-07-07 14:14:13,083 - distributed.scheduler - INFO -   Scheduler at:  tcp://10.67.22.240:44231\n",
      "2025-07-07 14:14:14,552 - distributed.deploy.ssh - INFO - 2025-07-07 14:14:14,552 - distributed.nanny - INFO -         Start Nanny at: 'tcp://10.67.22.240:43667'\n",
      "2025-07-07 14:14:14,726 - distributed.deploy.ssh - INFO - 2025-07-07 14:14:14,724 - distributed.nanny - INFO -         Start Nanny at: 'tcp://10.67.22.17:36621'\n",
      "2025-07-07 14:14:14,729 - distributed.deploy.ssh - INFO - 2025-07-07 14:14:14,728 - distributed.nanny - INFO -         Start Nanny at: 'tcp://10.67.22.126:35519'\n",
      "2025-07-07 14:14:14,735 - distributed.deploy.ssh - INFO - 2025-07-07 14:14:14,737 - distributed.nanny - INFO -         Start Nanny at: 'tcp://10.67.22.100:38277'\n",
      "2025-07-07 14:14:14,968 - distributed.deploy.ssh - INFO - 2025-07-07 14:14:14,967 - distributed.worker - INFO -       Start worker at:   tcp://10.67.22.240:38509\n",
      "2025-07-07 14:14:15,087 - distributed.deploy.ssh - INFO - 2025-07-07 14:14:15,089 - distributed.worker - INFO -       Start worker at:   tcp://10.67.22.126:40659\n",
      "2025-07-07 14:14:15,095 - distributed.deploy.ssh - INFO - 2025-07-07 14:14:15,087 - distributed.worker - INFO -       Start worker at:    tcp://10.67.22.17:46389\n",
      "2025-07-07 14:14:15,100 - distributed.deploy.ssh - INFO - 2025-07-07 14:14:15,097 - distributed.worker - INFO -       Start worker at:   tcp://10.67.22.100:43565\n",
      "/home/ubuntu/miniconda/envs/dask-env/lib/python3.10/site-packages/distributed/client.py:3370: UserWarning: Sending large graph of size 143.23 MiB.\n",
      "This may cause some slowdown.\n",
      "Consider loading the data with Dask directly\n",
      " or using futures or delayed objects to embed the data into the graph without repetition.\n",
      "See also https://docs.dask.org/en/stable/best-practices.html#load-data-with-dask for more information.\n",
      "  warnings.warn(\n"
     ]
    }
   ],
   "source": [
    "K = 15\n",
    "N_RUNS = 5\n",
    "\n",
    "# Init stats\n",
    "stats = {'total': [], 'data_input': [], 'data_processing': [], 'first_centroid': [],\n",
    "         'xxt': [], 'phi_init': [], 'parallel_init': [], 'weight_calc': [], \n",
    "         'lloyd': [], 'final_labels': []}\n",
    "\n",
    "# Run\n",
    "for i in range(N_RUNS):\n",
    "    print(f'Iteration {i+1} of {N_RUNS}')\n",
    "    \n",
    "    # Open cluster\n",
    "    cluster, client = open_cluster()\n",
    "\n",
    "    # Run weak scaling algorithm\n",
    "    res = k_means_parallel(path=path_git, k=K, l=L, label_column=LABEL_COLUMN, \n",
    "                           random_seed=RS, verbose=0, npartitions=4)\n",
    "    # Save results\n",
    "    for col in stats:\n",
    "        stats[col].append(res['timing'][col])\n",
    "    \n",
    "    # Close cluster\n",
    "    close_cluster(cluster, client)\n",
    "\n",
    "# Save results\n",
    "stats = pd.DataFrame(stats)\n",
    "stats.to_csv(path + '_15.csv', index=False)"
   ]
  },
  {
   "cell_type": "markdown",
   "id": "27575832-03a2-4c3a-98bc-374dbdc307d6",
   "metadata": {
    "jp-MarkdownHeadingCollapsed": true
   },
   "source": [
    "#### K = 20"
   ]
  },
  {
   "cell_type": "code",
   "execution_count": 28,
   "id": "3d21b393-4a0f-4470-be90-cf23ae8418fb",
   "metadata": {
    "scrolled": true
   },
   "outputs": [
    {
     "name": "stdout",
     "output_type": "stream",
     "text": [
      "Iteration 1 of 5\n"
     ]
    },
    {
     "name": "stderr",
     "output_type": "stream",
     "text": [
      "2025-07-07 14:18:36,918 - distributed.deploy.ssh - INFO - 2025-07-07 14:18:36,918 - distributed.http.proxy - INFO - To route to workers diagnostics web server please install jupyter-server-proxy: python -m pip install jupyter-server-proxy\n",
      "2025-07-07 14:18:36,948 - distributed.deploy.ssh - INFO - 2025-07-07 14:18:36,947 - distributed.scheduler - INFO - State start\n",
      "2025-07-07 14:18:36,951 - distributed.deploy.ssh - INFO - 2025-07-07 14:18:36,951 - distributed.scheduler - INFO -   Scheduler at:  tcp://10.67.22.240:37461\n",
      "2025-07-07 14:18:39,164 - distributed.deploy.ssh - INFO - 2025-07-07 14:18:39,162 - distributed.nanny - INFO -         Start Nanny at: 'tcp://10.67.22.240:40415'\n",
      "2025-07-07 14:18:39,262 - distributed.deploy.ssh - INFO - 2025-07-07 14:18:39,260 - distributed.nanny - INFO -         Start Nanny at: 'tcp://10.67.22.17:38937'\n",
      "2025-07-07 14:18:39,265 - distributed.deploy.ssh - INFO - 2025-07-07 14:18:39,265 - distributed.nanny - INFO -         Start Nanny at: 'tcp://10.67.22.126:44671'\n",
      "2025-07-07 14:18:39,272 - distributed.deploy.ssh - INFO - 2025-07-07 14:18:39,273 - distributed.nanny - INFO -         Start Nanny at: 'tcp://10.67.22.100:45371'\n",
      "2025-07-07 14:18:39,622 - distributed.deploy.ssh - INFO - 2025-07-07 14:18:39,623 - distributed.worker - INFO -       Start worker at:   tcp://10.67.22.126:46283\n",
      "2025-07-07 14:18:39,630 - distributed.deploy.ssh - INFO - 2025-07-07 14:18:39,627 - distributed.worker - INFO -       Start worker at:    tcp://10.67.22.17:39379\n",
      "2025-07-07 14:18:39,636 - distributed.deploy.ssh - INFO - 2025-07-07 14:18:39,637 - distributed.worker - INFO -       Start worker at:   tcp://10.67.22.100:39385\n",
      "2025-07-07 14:18:39,712 - distributed.deploy.ssh - INFO - 2025-07-07 14:18:39,711 - distributed.worker - INFO -       Start worker at:   tcp://10.67.22.240:42435\n",
      "/home/ubuntu/miniconda/envs/dask-env/lib/python3.10/site-packages/distributed/client.py:3370: UserWarning: Sending large graph of size 143.23 MiB.\n",
      "This may cause some slowdown.\n",
      "Consider loading the data with Dask directly\n",
      " or using futures or delayed objects to embed the data into the graph without repetition.\n",
      "See also https://docs.dask.org/en/stable/best-practices.html#load-data-with-dask for more information.\n",
      "  warnings.warn(\n"
     ]
    },
    {
     "name": "stdout",
     "output_type": "stream",
     "text": [
      "Iteration 2 of 5\n"
     ]
    },
    {
     "name": "stderr",
     "output_type": "stream",
     "text": [
      "2025-07-07 14:19:43,563 - distributed.deploy.ssh - INFO - 2025-07-07 14:19:43,563 - distributed.http.proxy - INFO - To route to workers diagnostics web server please install jupyter-server-proxy: python -m pip install jupyter-server-proxy\n",
      "2025-07-07 14:19:43,593 - distributed.deploy.ssh - INFO - 2025-07-07 14:19:43,593 - distributed.scheduler - INFO - State start\n",
      "2025-07-07 14:19:43,598 - distributed.deploy.ssh - INFO - 2025-07-07 14:19:43,598 - distributed.scheduler - INFO -   Scheduler at:  tcp://10.67.22.240:38627\n",
      "2025-07-07 14:19:45,089 - distributed.deploy.ssh - INFO - 2025-07-07 14:19:45,088 - distributed.nanny - INFO -         Start Nanny at: 'tcp://10.67.22.240:43431'\n",
      "2025-07-07 14:19:45,266 - distributed.deploy.ssh - INFO - 2025-07-07 14:19:45,264 - distributed.nanny - INFO -         Start Nanny at: 'tcp://10.67.22.17:44933'\n",
      "2025-07-07 14:19:45,275 - distributed.deploy.ssh - INFO - 2025-07-07 14:19:45,276 - distributed.nanny - INFO -         Start Nanny at: 'tcp://10.67.22.126:34719'\n",
      "2025-07-07 14:19:45,285 - distributed.deploy.ssh - INFO - 2025-07-07 14:19:45,288 - distributed.nanny - INFO -         Start Nanny at: 'tcp://10.67.22.100:41277'\n",
      "2025-07-07 14:19:45,504 - distributed.deploy.ssh - INFO - 2025-07-07 14:19:45,503 - distributed.worker - INFO -       Start worker at:   tcp://10.67.22.240:43851\n",
      "2025-07-07 14:19:45,628 - distributed.deploy.ssh - INFO - 2025-07-07 14:19:45,626 - distributed.worker - INFO -       Start worker at:    tcp://10.67.22.17:38105\n",
      "2025-07-07 14:19:45,634 - distributed.deploy.ssh - INFO - 2025-07-07 14:19:45,635 - distributed.worker - INFO -       Start worker at:   tcp://10.67.22.126:34427\n",
      "2025-07-07 14:19:45,643 - distributed.deploy.ssh - INFO - 2025-07-07 14:19:45,646 - distributed.worker - INFO -       Start worker at:   tcp://10.67.22.100:34183\n",
      "/home/ubuntu/miniconda/envs/dask-env/lib/python3.10/site-packages/distributed/client.py:3370: UserWarning: Sending large graph of size 143.23 MiB.\n",
      "This may cause some slowdown.\n",
      "Consider loading the data with Dask directly\n",
      " or using futures or delayed objects to embed the data into the graph without repetition.\n",
      "See also https://docs.dask.org/en/stable/best-practices.html#load-data-with-dask for more information.\n",
      "  warnings.warn(\n"
     ]
    },
    {
     "name": "stdout",
     "output_type": "stream",
     "text": [
      "Iteration 3 of 5\n"
     ]
    },
    {
     "name": "stderr",
     "output_type": "stream",
     "text": [
      "2025-07-07 14:20:54,794 - distributed.deploy.ssh - INFO - 2025-07-07 14:20:54,794 - distributed.http.proxy - INFO - To route to workers diagnostics web server please install jupyter-server-proxy: python -m pip install jupyter-server-proxy\n",
      "2025-07-07 14:20:54,825 - distributed.deploy.ssh - INFO - 2025-07-07 14:20:54,824 - distributed.scheduler - INFO - State start\n",
      "2025-07-07 14:20:54,829 - distributed.deploy.ssh - INFO - 2025-07-07 14:20:54,828 - distributed.scheduler - INFO -   Scheduler at:  tcp://10.67.22.240:42471\n",
      "2025-07-07 14:20:56,280 - distributed.deploy.ssh - INFO - 2025-07-07 14:20:56,279 - distributed.nanny - INFO -         Start Nanny at: 'tcp://10.67.22.240:37293'\n",
      "2025-07-07 14:20:56,466 - distributed.deploy.ssh - INFO - 2025-07-07 14:20:56,467 - distributed.nanny - INFO -         Start Nanny at: 'tcp://10.67.22.126:33757'\n",
      "2025-07-07 14:20:56,471 - distributed.deploy.ssh - INFO - 2025-07-07 14:20:56,472 - distributed.nanny - INFO -         Start Nanny at: 'tcp://10.67.22.100:39491'\n",
      "2025-07-07 14:20:56,474 - distributed.deploy.ssh - INFO - 2025-07-07 14:20:56,470 - distributed.nanny - INFO -         Start Nanny at: 'tcp://10.67.22.17:45119'\n",
      "2025-07-07 14:20:56,691 - distributed.deploy.ssh - INFO - 2025-07-07 14:20:56,690 - distributed.worker - INFO -       Start worker at:   tcp://10.67.22.240:39177\n",
      "2025-07-07 14:20:56,825 - distributed.deploy.ssh - INFO - 2025-07-07 14:20:56,827 - distributed.worker - INFO -       Start worker at:   tcp://10.67.22.126:37873\n",
      "2025-07-07 14:20:56,833 - distributed.deploy.ssh - INFO - 2025-07-07 14:20:56,834 - distributed.worker - INFO -       Start worker at:   tcp://10.67.22.100:36921\n",
      "2025-07-07 14:20:56,838 - distributed.deploy.ssh - INFO - 2025-07-07 14:20:56,834 - distributed.worker - INFO -       Start worker at:    tcp://10.67.22.17:44517\n",
      "/home/ubuntu/miniconda/envs/dask-env/lib/python3.10/site-packages/distributed/client.py:3370: UserWarning: Sending large graph of size 143.23 MiB.\n",
      "This may cause some slowdown.\n",
      "Consider loading the data with Dask directly\n",
      " or using futures or delayed objects to embed the data into the graph without repetition.\n",
      "See also https://docs.dask.org/en/stable/best-practices.html#load-data-with-dask for more information.\n",
      "  warnings.warn(\n"
     ]
    },
    {
     "name": "stdout",
     "output_type": "stream",
     "text": [
      "Iteration 4 of 5\n"
     ]
    },
    {
     "name": "stderr",
     "output_type": "stream",
     "text": [
      "2025-07-07 14:21:50,314 - distributed.deploy.ssh - INFO - 2025-07-07 14:21:50,312 - distributed.http.proxy - INFO - To route to workers diagnostics web server please install jupyter-server-proxy: python -m pip install jupyter-server-proxy\n",
      "2025-07-07 14:21:50,342 - distributed.deploy.ssh - INFO - 2025-07-07 14:21:50,342 - distributed.scheduler - INFO - State start\n",
      "2025-07-07 14:21:50,347 - distributed.deploy.ssh - INFO - 2025-07-07 14:21:50,346 - distributed.scheduler - INFO -   Scheduler at:  tcp://10.67.22.240:35035\n",
      "2025-07-07 14:21:51,747 - distributed.deploy.ssh - INFO - 2025-07-07 14:21:51,744 - distributed.nanny - INFO -         Start Nanny at: 'tcp://10.67.22.17:46137'\n",
      "2025-07-07 14:21:51,762 - distributed.deploy.ssh - INFO - 2025-07-07 14:21:51,765 - distributed.nanny - INFO -         Start Nanny at: 'tcp://10.67.22.100:35683'\n",
      "2025-07-07 14:21:51,768 - distributed.deploy.ssh - INFO - 2025-07-07 14:21:51,769 - distributed.nanny - INFO -         Start Nanny at: 'tcp://10.67.22.126:36699'\n",
      "2025-07-07 14:21:51,787 - distributed.deploy.ssh - INFO - 2025-07-07 14:21:51,786 - distributed.nanny - INFO -         Start Nanny at: 'tcp://10.67.22.240:38369'\n",
      "2025-07-07 14:21:52,111 - distributed.deploy.ssh - INFO - 2025-07-07 14:21:52,108 - distributed.worker - INFO -       Start worker at:    tcp://10.67.22.17:43035\n",
      "2025-07-07 14:21:52,121 - distributed.deploy.ssh - INFO - 2025-07-07 14:21:52,124 - distributed.worker - INFO -       Start worker at:   tcp://10.67.22.100:34851\n",
      "2025-07-07 14:21:52,131 - distributed.deploy.ssh - INFO - 2025-07-07 14:21:52,133 - distributed.worker - INFO -       Start worker at:   tcp://10.67.22.126:46779\n",
      "2025-07-07 14:21:52,194 - distributed.deploy.ssh - INFO - 2025-07-07 14:21:52,194 - distributed.worker - INFO -       Start worker at:   tcp://10.67.22.240:32787\n",
      "/home/ubuntu/miniconda/envs/dask-env/lib/python3.10/site-packages/distributed/client.py:3370: UserWarning: Sending large graph of size 143.23 MiB.\n",
      "This may cause some slowdown.\n",
      "Consider loading the data with Dask directly\n",
      " or using futures or delayed objects to embed the data into the graph without repetition.\n",
      "See also https://docs.dask.org/en/stable/best-practices.html#load-data-with-dask for more information.\n",
      "  warnings.warn(\n"
     ]
    },
    {
     "name": "stdout",
     "output_type": "stream",
     "text": [
      "Iteration 5 of 5\n"
     ]
    },
    {
     "name": "stderr",
     "output_type": "stream",
     "text": [
      "2025-07-07 14:22:57,326 - distributed.deploy.ssh - INFO - 2025-07-07 14:22:57,325 - distributed.http.proxy - INFO - To route to workers diagnostics web server please install jupyter-server-proxy: python -m pip install jupyter-server-proxy\n",
      "2025-07-07 14:22:57,356 - distributed.deploy.ssh - INFO - 2025-07-07 14:22:57,355 - distributed.scheduler - INFO - State start\n",
      "2025-07-07 14:22:57,360 - distributed.deploy.ssh - INFO - 2025-07-07 14:22:57,359 - distributed.scheduler - INFO -   Scheduler at:  tcp://10.67.22.240:38695\n",
      "2025-07-07 14:22:58,833 - distributed.deploy.ssh - INFO - 2025-07-07 14:22:58,832 - distributed.nanny - INFO -         Start Nanny at: 'tcp://10.67.22.240:37343'\n",
      "2025-07-07 14:22:59,006 - distributed.deploy.ssh - INFO - 2025-07-07 14:22:59,003 - distributed.nanny - INFO -         Start Nanny at: 'tcp://10.67.22.17:42535'\n",
      "2025-07-07 14:22:59,011 - distributed.deploy.ssh - INFO - 2025-07-07 14:22:59,013 - distributed.nanny - INFO -         Start Nanny at: 'tcp://10.67.22.126:41047'\n",
      "2025-07-07 14:22:59,024 - distributed.deploy.ssh - INFO - 2025-07-07 14:22:59,026 - distributed.nanny - INFO -         Start Nanny at: 'tcp://10.67.22.100:39719'\n",
      "2025-07-07 14:22:59,254 - distributed.deploy.ssh - INFO - 2025-07-07 14:22:59,253 - distributed.worker - INFO -       Start worker at:   tcp://10.67.22.240:40081\n",
      "2025-07-07 14:22:59,370 - distributed.deploy.ssh - INFO - 2025-07-07 14:22:59,368 - distributed.worker - INFO -       Start worker at:    tcp://10.67.22.17:35403\n",
      "2025-07-07 14:22:59,378 - distributed.deploy.ssh - INFO - 2025-07-07 14:22:59,374 - distributed.worker - INFO -       Start worker at:   tcp://10.67.22.126:33787\n",
      "2025-07-07 14:22:59,387 - distributed.deploy.ssh - INFO - 2025-07-07 14:22:59,390 - distributed.worker - INFO -       Start worker at:   tcp://10.67.22.100:43991\n",
      "/home/ubuntu/miniconda/envs/dask-env/lib/python3.10/site-packages/distributed/client.py:3370: UserWarning: Sending large graph of size 143.23 MiB.\n",
      "This may cause some slowdown.\n",
      "Consider loading the data with Dask directly\n",
      " or using futures or delayed objects to embed the data into the graph without repetition.\n",
      "See also https://docs.dask.org/en/stable/best-practices.html#load-data-with-dask for more information.\n",
      "  warnings.warn(\n"
     ]
    }
   ],
   "source": [
    "K = 20\n",
    "N_RUNS = 5\n",
    "\n",
    "# Init stats\n",
    "stats = {'total': [], 'data_input': [], 'data_processing': [], 'first_centroid': [],\n",
    "         'xxt': [], 'phi_init': [], 'parallel_init': [], 'weight_calc': [], \n",
    "         'lloyd': [], 'final_labels': []}\n",
    "\n",
    "# Run\n",
    "for i in range(N_RUNS):\n",
    "    print(f'Iteration {i+1} of {N_RUNS}')\n",
    "    \n",
    "    # Open cluster\n",
    "    cluster, client = open_cluster()\n",
    "\n",
    "    # Run weak scaling algorithm\n",
    "    res = k_means_parallel(path=path_git, k=K, l=L, label_column=LABEL_COLUMN, \n",
    "                           random_seed=RS, verbose=0, npartitions=4)\n",
    "    # Save results\n",
    "    for col in stats:\n",
    "        stats[col].append(res['timing'][col])\n",
    "    \n",
    "    # Close cluster\n",
    "    close_cluster(cluster, client)\n",
    "\n",
    "# Save results\n",
    "stats = pd.DataFrame(stats)\n",
    "stats.to_csv(path + '_20.csv', index=False)"
   ]
  },
  {
   "cell_type": "markdown",
   "id": "00387950-aca2-4ffc-a706-664a2c5b41d3",
   "metadata": {
    "jp-MarkdownHeadingCollapsed": true
   },
   "source": [
    "#### K = 25"
   ]
  },
  {
   "cell_type": "code",
   "execution_count": 31,
   "id": "e1228c01-0d24-4c5d-af28-51b8bdcfa3e3",
   "metadata": {
    "scrolled": true
   },
   "outputs": [
    {
     "name": "stdout",
     "output_type": "stream",
     "text": [
      "Iteration 1 of 5\n"
     ]
    },
    {
     "name": "stderr",
     "output_type": "stream",
     "text": [
      "2025-07-07 14:25:57,337 - distributed.deploy.ssh - INFO - 2025-07-07 14:25:57,336 - distributed.http.proxy - INFO - To route to workers diagnostics web server please install jupyter-server-proxy: python -m pip install jupyter-server-proxy\n",
      "2025-07-07 14:25:57,367 - distributed.deploy.ssh - INFO - 2025-07-07 14:25:57,366 - distributed.scheduler - INFO - State start\n",
      "2025-07-07 14:25:57,373 - distributed.deploy.ssh - INFO - 2025-07-07 14:25:57,372 - distributed.scheduler - INFO -   Scheduler at:  tcp://10.67.22.240:33639\n",
      "2025-07-07 14:25:58,837 - distributed.deploy.ssh - INFO - 2025-07-07 14:25:58,835 - distributed.nanny - INFO -         Start Nanny at: 'tcp://10.67.22.240:45809'\n",
      "2025-07-07 14:25:59,479 - distributed.deploy.ssh - INFO - 2025-07-07 14:25:59,476 - distributed.worker - INFO -       Start worker at:   tcp://10.67.22.240:36385\n",
      "2025-07-07 14:25:59,898 - distributed.deploy.ssh - INFO - 2025-07-07 14:25:59,899 - distributed.nanny - INFO -         Start Nanny at: 'tcp://10.67.22.126:41015'\n",
      "2025-07-07 14:25:59,900 - distributed.deploy.ssh - INFO - 2025-07-07 14:25:59,896 - distributed.nanny - INFO -         Start Nanny at: 'tcp://10.67.22.17:39707'\n",
      "2025-07-07 14:25:59,902 - distributed.deploy.ssh - INFO - 2025-07-07 14:25:59,900 - distributed.nanny - INFO -         Start Nanny at: 'tcp://10.67.22.100:45795'\n",
      "2025-07-07 14:26:00,259 - distributed.deploy.ssh - INFO - 2025-07-07 14:26:00,261 - distributed.worker - INFO -       Start worker at:   tcp://10.67.22.126:40627\n",
      "2025-07-07 14:26:00,265 - distributed.deploy.ssh - INFO - 2025-07-07 14:26:00,263 - distributed.worker - INFO -       Start worker at:    tcp://10.67.22.17:38335\n",
      "2025-07-07 14:26:00,270 - distributed.deploy.ssh - INFO - 2025-07-07 14:26:00,272 - distributed.worker - INFO -       Start worker at:   tcp://10.67.22.100:39287\n",
      "/home/ubuntu/miniconda/envs/dask-env/lib/python3.10/site-packages/distributed/client.py:3370: UserWarning: Sending large graph of size 143.23 MiB.\n",
      "This may cause some slowdown.\n",
      "Consider loading the data with Dask directly\n",
      " or using futures or delayed objects to embed the data into the graph without repetition.\n",
      "See also https://docs.dask.org/en/stable/best-practices.html#load-data-with-dask for more information.\n",
      "  warnings.warn(\n"
     ]
    },
    {
     "name": "stdout",
     "output_type": "stream",
     "text": [
      "Iteration 2 of 5\n"
     ]
    },
    {
     "name": "stderr",
     "output_type": "stream",
     "text": [
      "2025-07-07 14:27:12,505 - distributed.deploy.ssh - INFO - 2025-07-07 14:27:12,505 - distributed.http.proxy - INFO - To route to workers diagnostics web server please install jupyter-server-proxy: python -m pip install jupyter-server-proxy\n",
      "2025-07-07 14:27:12,535 - distributed.deploy.ssh - INFO - 2025-07-07 14:27:12,534 - distributed.scheduler - INFO - State start\n",
      "2025-07-07 14:27:12,540 - distributed.deploy.ssh - INFO - 2025-07-07 14:27:12,539 - distributed.scheduler - INFO -   Scheduler at:  tcp://10.67.22.240:33771\n",
      "2025-07-07 14:27:13,998 - distributed.deploy.ssh - INFO - 2025-07-07 14:27:13,998 - distributed.nanny - INFO -         Start Nanny at: 'tcp://10.67.22.240:33895'\n",
      "2025-07-07 14:27:14,183 - distributed.deploy.ssh - INFO - 2025-07-07 14:27:14,184 - distributed.nanny - INFO -         Start Nanny at: 'tcp://10.67.22.100:36225'\n",
      "2025-07-07 14:27:14,187 - distributed.deploy.ssh - INFO - 2025-07-07 14:27:14,181 - distributed.nanny - INFO -         Start Nanny at: 'tcp://10.67.22.17:32789'\n",
      "2025-07-07 14:27:14,191 - distributed.deploy.ssh - INFO - 2025-07-07 14:27:14,189 - distributed.nanny - INFO -         Start Nanny at: 'tcp://10.67.22.126:39385'\n",
      "2025-07-07 14:27:14,411 - distributed.deploy.ssh - INFO - 2025-07-07 14:27:14,410 - distributed.worker - INFO -       Start worker at:   tcp://10.67.22.240:44613\n",
      "2025-07-07 14:27:14,544 - distributed.deploy.ssh - INFO - 2025-07-07 14:27:14,545 - distributed.worker - INFO -       Start worker at:   tcp://10.67.22.100:42013\n",
      "2025-07-07 14:27:14,552 - distributed.deploy.ssh - INFO - 2025-07-07 14:27:14,547 - distributed.worker - INFO -       Start worker at:   tcp://10.67.22.126:46643\n",
      "2025-07-07 14:27:14,555 - distributed.deploy.ssh - INFO - 2025-07-07 14:27:14,546 - distributed.worker - INFO -       Start worker at:    tcp://10.67.22.17:37149\n",
      "/home/ubuntu/miniconda/envs/dask-env/lib/python3.10/site-packages/distributed/client.py:3370: UserWarning: Sending large graph of size 143.23 MiB.\n",
      "This may cause some slowdown.\n",
      "Consider loading the data with Dask directly\n",
      " or using futures or delayed objects to embed the data into the graph without repetition.\n",
      "See also https://docs.dask.org/en/stable/best-practices.html#load-data-with-dask for more information.\n",
      "  warnings.warn(\n"
     ]
    },
    {
     "name": "stdout",
     "output_type": "stream",
     "text": [
      "Iteration 3 of 5\n"
     ]
    },
    {
     "name": "stderr",
     "output_type": "stream",
     "text": [
      "2025-07-07 14:28:15,917 - distributed.deploy.ssh - INFO - 2025-07-07 14:28:15,915 - distributed.http.proxy - INFO - To route to workers diagnostics web server please install jupyter-server-proxy: python -m pip install jupyter-server-proxy\n",
      "2025-07-07 14:28:15,944 - distributed.deploy.ssh - INFO - 2025-07-07 14:28:15,943 - distributed.scheduler - INFO - State start\n",
      "2025-07-07 14:28:15,949 - distributed.deploy.ssh - INFO - 2025-07-07 14:28:15,948 - distributed.scheduler - INFO -   Scheduler at:  tcp://10.67.22.240:45063\n",
      "2025-07-07 14:28:17,434 - distributed.deploy.ssh - INFO - 2025-07-07 14:28:17,433 - distributed.nanny - INFO -         Start Nanny at: 'tcp://10.67.22.240:37549'\n",
      "2025-07-07 14:28:17,622 - distributed.deploy.ssh - INFO - 2025-07-07 14:28:17,617 - distributed.nanny - INFO -         Start Nanny at: 'tcp://10.67.22.17:38377'\n",
      "2025-07-07 14:28:17,624 - distributed.deploy.ssh - INFO - 2025-07-07 14:28:17,625 - distributed.nanny - INFO -         Start Nanny at: 'tcp://10.67.22.126:39589'\n",
      "2025-07-07 14:28:17,632 - distributed.deploy.ssh - INFO - 2025-07-07 14:28:17,633 - distributed.nanny - INFO -         Start Nanny at: 'tcp://10.67.22.100:46089'\n",
      "2025-07-07 14:28:17,857 - distributed.deploy.ssh - INFO - 2025-07-07 14:28:17,856 - distributed.worker - INFO -       Start worker at:   tcp://10.67.22.240:35059\n",
      "2025-07-07 14:28:17,988 - distributed.deploy.ssh - INFO - 2025-07-07 14:28:17,988 - distributed.worker - INFO -       Start worker at:   tcp://10.67.22.126:43887\n",
      "2025-07-07 14:28:17,994 - distributed.deploy.ssh - INFO - 2025-07-07 14:28:17,984 - distributed.worker - INFO -       Start worker at:    tcp://10.67.22.17:34803\n",
      "2025-07-07 14:28:17,999 - distributed.deploy.ssh - INFO - 2025-07-07 14:28:18,000 - distributed.worker - INFO -       Start worker at:   tcp://10.67.22.100:42061\n",
      "/home/ubuntu/miniconda/envs/dask-env/lib/python3.10/site-packages/distributed/client.py:3370: UserWarning: Sending large graph of size 143.23 MiB.\n",
      "This may cause some slowdown.\n",
      "Consider loading the data with Dask directly\n",
      " or using futures or delayed objects to embed the data into the graph without repetition.\n",
      "See also https://docs.dask.org/en/stable/best-practices.html#load-data-with-dask for more information.\n",
      "  warnings.warn(\n"
     ]
    },
    {
     "name": "stdout",
     "output_type": "stream",
     "text": [
      "Iteration 4 of 5\n"
     ]
    },
    {
     "name": "stderr",
     "output_type": "stream",
     "text": [
      "2025-07-07 14:29:16,034 - distributed.deploy.ssh - INFO - 2025-07-07 14:29:16,034 - distributed.http.proxy - INFO - To route to workers diagnostics web server please install jupyter-server-proxy: python -m pip install jupyter-server-proxy\n",
      "2025-07-07 14:29:16,064 - distributed.deploy.ssh - INFO - 2025-07-07 14:29:16,063 - distributed.scheduler - INFO - State start\n",
      "2025-07-07 14:29:16,070 - distributed.deploy.ssh - INFO - 2025-07-07 14:29:16,069 - distributed.scheduler - INFO -   Scheduler at:  tcp://10.67.22.240:34311\n",
      "2025-07-07 14:29:17,488 - distributed.deploy.ssh - INFO - 2025-07-07 14:29:17,484 - distributed.nanny - INFO -         Start Nanny at: 'tcp://10.67.22.17:40821'\n",
      "2025-07-07 14:29:17,497 - distributed.deploy.ssh - INFO - 2025-07-07 14:29:17,498 - distributed.nanny - INFO -         Start Nanny at: 'tcp://10.67.22.100:36927'\n",
      "2025-07-07 14:29:17,501 - distributed.deploy.ssh - INFO - 2025-07-07 14:29:17,502 - distributed.nanny - INFO -         Start Nanny at: 'tcp://10.67.22.126:45019'\n",
      "2025-07-07 14:29:17,544 - distributed.deploy.ssh - INFO - 2025-07-07 14:29:17,544 - distributed.nanny - INFO -         Start Nanny at: 'tcp://10.67.22.240:40913'\n",
      "2025-07-07 14:29:17,854 - distributed.deploy.ssh - INFO - 2025-07-07 14:29:17,849 - distributed.worker - INFO -       Start worker at:    tcp://10.67.22.17:42391\n",
      "2025-07-07 14:29:17,861 - distributed.deploy.ssh - INFO - 2025-07-07 14:29:17,863 - distributed.worker - INFO -       Start worker at:   tcp://10.67.22.100:35675\n",
      "2025-07-07 14:29:17,866 - distributed.deploy.ssh - INFO - 2025-07-07 14:29:17,868 - distributed.worker - INFO -       Start worker at:   tcp://10.67.22.126:44219\n",
      "2025-07-07 14:29:17,965 - distributed.deploy.ssh - INFO - 2025-07-07 14:29:17,964 - distributed.worker - INFO -       Start worker at:   tcp://10.67.22.240:33001\n",
      "/home/ubuntu/miniconda/envs/dask-env/lib/python3.10/site-packages/distributed/client.py:3370: UserWarning: Sending large graph of size 143.23 MiB.\n",
      "This may cause some slowdown.\n",
      "Consider loading the data with Dask directly\n",
      " or using futures or delayed objects to embed the data into the graph without repetition.\n",
      "See also https://docs.dask.org/en/stable/best-practices.html#load-data-with-dask for more information.\n",
      "  warnings.warn(\n"
     ]
    },
    {
     "name": "stdout",
     "output_type": "stream",
     "text": [
      "Iteration 5 of 5\n"
     ]
    },
    {
     "name": "stderr",
     "output_type": "stream",
     "text": [
      "2025-07-07 14:30:09,335 - distributed.deploy.ssh - INFO - 2025-07-07 14:30:09,334 - distributed.http.proxy - INFO - To route to workers diagnostics web server please install jupyter-server-proxy: python -m pip install jupyter-server-proxy\n",
      "2025-07-07 14:30:09,363 - distributed.deploy.ssh - INFO - 2025-07-07 14:30:09,363 - distributed.scheduler - INFO - State start\n",
      "2025-07-07 14:30:09,368 - distributed.deploy.ssh - INFO - 2025-07-07 14:30:09,368 - distributed.scheduler - INFO -   Scheduler at:  tcp://10.67.22.240:33429\n",
      "2025-07-07 14:30:10,848 - distributed.deploy.ssh - INFO - 2025-07-07 14:30:10,846 - distributed.nanny - INFO -         Start Nanny at: 'tcp://10.67.22.240:42829'\n",
      "2025-07-07 14:30:11,014 - distributed.deploy.ssh - INFO - 2025-07-07 14:30:11,011 - distributed.nanny - INFO -         Start Nanny at: 'tcp://10.67.22.17:38107'\n",
      "2025-07-07 14:30:11,050 - distributed.deploy.ssh - INFO - 2025-07-07 14:30:11,050 - distributed.nanny - INFO -         Start Nanny at: 'tcp://10.67.22.100:37413'\n",
      "2025-07-07 14:30:11,053 - distributed.deploy.ssh - INFO - 2025-07-07 14:30:11,052 - distributed.nanny - INFO -         Start Nanny at: 'tcp://10.67.22.126:36403'\n",
      "2025-07-07 14:30:11,275 - distributed.deploy.ssh - INFO - 2025-07-07 14:30:11,274 - distributed.worker - INFO -       Start worker at:   tcp://10.67.22.240:40679\n",
      "2025-07-07 14:30:11,380 - distributed.deploy.ssh - INFO - 2025-07-07 14:30:11,375 - distributed.worker - INFO -       Start worker at:    tcp://10.67.22.17:45115\n",
      "2025-07-07 14:30:11,415 - distributed.deploy.ssh - INFO - 2025-07-07 14:30:11,415 - distributed.worker - INFO -       Start worker at:   tcp://10.67.22.100:34699\n",
      "2025-07-07 14:30:11,418 - distributed.deploy.ssh - INFO - 2025-07-07 14:30:11,418 - distributed.worker - INFO -       Start worker at:   tcp://10.67.22.126:42627\n",
      "/home/ubuntu/miniconda/envs/dask-env/lib/python3.10/site-packages/distributed/client.py:3370: UserWarning: Sending large graph of size 143.23 MiB.\n",
      "This may cause some slowdown.\n",
      "Consider loading the data with Dask directly\n",
      " or using futures or delayed objects to embed the data into the graph without repetition.\n",
      "See also https://docs.dask.org/en/stable/best-practices.html#load-data-with-dask for more information.\n",
      "  warnings.warn(\n"
     ]
    }
   ],
   "source": [
    "K = 25\n",
    "N_RUNS = 5\n",
    "\n",
    "# Init stats\n",
    "stats = {'total': [], 'data_input': [], 'data_processing': [], 'first_centroid': [],\n",
    "         'xxt': [], 'phi_init': [], 'parallel_init': [], 'weight_calc': [], \n",
    "         'lloyd': [], 'final_labels': []}\n",
    "\n",
    "# Run\n",
    "for i in range(N_RUNS):\n",
    "    print(f'Iteration {i+1} of {N_RUNS}')\n",
    "    \n",
    "    # Open cluster\n",
    "    cluster, client = open_cluster()\n",
    "\n",
    "    # Run weak scaling algorithm\n",
    "    res = k_means_parallel(path=path_git, k=K, l=L, label_column=LABEL_COLUMN, \n",
    "                           random_seed=RS, verbose=0, npartitions=4)\n",
    "    # Save results\n",
    "    for col in stats:\n",
    "        stats[col].append(res['timing'][col])\n",
    "    \n",
    "    # Close cluster\n",
    "    close_cluster(cluster, client)\n",
    "\n",
    "# Save results\n",
    "stats = pd.DataFrame(stats)\n",
    "stats.to_csv(path + '_25.csv', index=False)"
   ]
  },
  {
   "cell_type": "markdown",
   "id": "4c8ead4a-4e60-4804-8983-fd72b2118a94",
   "metadata": {},
   "source": [
    "### Analysing the results"
   ]
  },
  {
   "cell_type": "code",
   "execution_count": 20,
   "id": "66d391d0-8fb7-4ade-bb0c-da40a7d9b532",
   "metadata": {},
   "outputs": [],
   "source": [
    "# Read our resulting data\n",
    "k_5_df = pd.read_csv('./results_k_5.csv')\n",
    "k_10_df = pd.read_csv('./results_k_10.csv')\n",
    "k_15_df = pd.read_csv('./results_k_15.csv')\n",
    "k_20_df = pd.read_csv('./results_k_20.csv')\n",
    "k_25_df = pd.read_csv('./results_k_25.csv')"
   ]
  },
  {
   "cell_type": "code",
   "execution_count": 21,
   "id": "a17cc0fc-145d-4166-ae22-1eaa18d91da3",
   "metadata": {},
   "outputs": [],
   "source": [
    "def linear_f(k, a, b):\n",
    "    return k*a + b"
   ]
  },
  {
   "cell_type": "code",
   "execution_count": 22,
   "id": "afcb5f02-185f-4f7e-89e0-1e5f7a5e244b",
   "metadata": {},
   "outputs": [
    {
     "data": {
      "image/png": "[encoded data removed]",
      "text/plain": [
       "<Figure size 1000x600 with 1 Axes>"
      ]
     },
     "metadata": {},
     "output_type": "display_data"
    }
   ],
   "source": [
    "# Process our results\n",
    "k_values = [5, 10, 15, 20, 25]\n",
    "mean_algorithm_t = [np.mean(df['total'] - df['data_input'] - df['first_centroid'])\\\n",
    "                    for df in [k_5_df, k_10_df, k_15_df, k_20_df, k_25_df]]\n",
    "std_algorithm_t = [np.std(df['total'] - df['data_input'] - df['first_centroid'])\\\n",
    "                    for df in [k_5_df, k_10_df, k_15_df, k_20_df, k_25_df]]\n",
    "\n",
    "# Fit linear model\n",
    "opt_res = curve_fit(linear_f, xdata=k_values, ydata=mean_algorithm_t, sigma=std_algorithm_t)[0]\n",
    "\n",
    "# Figure params\n",
    "FONTSIZE = 13\n",
    "CS = 2\n",
    "LW = 2\n",
    "\n",
    "# Init figure\n",
    "fig, ax = plt.subplots(figsize=(5, 3), nrows=1, ncols=1, dpi=200)\n",
    "\n",
    "# Plot data\n",
    "plt.errorbar(k_values, mean_algorithm_t, yerr=std_algorithm_t, marker='o', \n",
    "            ls='', capsize=CS, capthick=LW, label='Results')\n",
    "\n",
    "# Plot linear fit\n",
    "plt.plot(k_values, linear_f(np.array(k_values), opt_res[0], opt_res[1]), \n",
    "        lw=LW, label='Fit', zorder=-1)\n",
    "\n",
    "# X-ticks\n",
    "plt.xticks(k_values, k_values)\n",
    "\n",
    "# Labels\n",
    "plt.ylabel('Time (s)', fontsize=FONTSIZE)\n",
    "plt.xlabel(r'$k$', fontsize=FONTSIZE)\n",
    "plt.tick_params(labelsize=FONTSIZE-2)\n",
    "\n",
    "# Legend\n",
    "plt.legend(fontsize=FONTSIZE-2)\n",
    "\n",
    "# Show\n",
    "plt.show();"
   ]
  },
  {
   "cell_type": "code",
   "execution_count": 23,
   "id": "24999a4e-d491-4da3-8d29-b140c8b8f1e2",
   "metadata": {},
   "outputs": [
    {
     "name": "stdout",
     "output_type": "stream",
     "text": [
      "Estimated time for k=500: ~10 minutes\n"
     ]
    }
   ],
   "source": [
    "# Let's try to estimate the time required for a large amount of clusters\n",
    "print(f'Estimated time for k=500: ~{round(linear_f(500, opt_res[0], opt_res[1]) / 60)} minutes')"
   ]
  },
  {
   "cell_type": "code",
   "execution_count": 24,
   "id": "2c51dcf4-6214-4cf2-95bb-d4e76bf08ab5",
   "metadata": {},
   "outputs": [
    {
     "name": "stdout",
     "output_type": "stream",
     "text": [
      "Time increase per additional cluster: 1.1 s\n"
     ]
    }
   ],
   "source": [
    "# Let's also show what is the expected increase in time per added cluster\n",
    "print(f'Time increase per additional cluster: {round(opt_res[0], 1)} s')"
   ]
  },
  {
   "cell_type": "code",
   "execution_count": null,
   "id": "8b9972a8-da5e-482b-b2a5-77f2740ac815",
   "metadata": {},
   "outputs": [],
   "source": []
  }
 ],
 "metadata": {
  "kernelspec": {
   "display_name": "Python 3 (ipykernel)",
   "language": "python",
   "name": "python3"
  },
  "language_info": {
   "codemirror_mode": {
    "name": "ipython",
    "version": 3
   },
   "file_extension": ".py",
   "mimetype": "text/x-python",
   "name": "python",
   "nbconvert_exporter": "python",
   "pygments_lexer": "ipython3",
   "version": "3.10.18"
  }
 },
 "nbformat": 4,
 "nbformat_minor": 5
}
