{
 "cells": [
  {
   "cell_type": "code",
   "execution_count": null,
   "id": "30935bd5",
   "metadata": {},
   "outputs": [],
   "source": [
    "# Import libraries\n",
    "# Dask\n",
    "from dask.distributed import Client, SSHCluster, progress\n",
    "import dask.array as da\n",
    "import dask.dataframe as dd\n",
    "# Others\n",
    "import numpy as np\n",
    "import pandas as pd"
   ]
  },
  {
   "cell_type": "code",
   "execution_count": null,
   "id": "3b960ab8",
   "metadata": {},
   "outputs": [],
   "source": [
    "cluster = SSHCluster(\n",
    "    [\"10.67.22.240\", \"10.67.22.17\", \"10.67.22.100\", \"10.67.22.126\"],\n",
    "    connect_options={\"known_hosts\": None},\n",
    "    worker_options={\"nthreads\": 2},\n",
    "    scheduler_options={\"port\": 0, \"dashboard_address\": \":8787\"}\n",
    ")\n",
    "client = Client(cluster)"
   ]
  },
  {
   "cell_type": "code",
   "execution_count": null,
   "id": "93202f6a",
   "metadata": {},
   "outputs": [],
   "source": [
    "client"
   ]
  },
  {
   "cell_type": "markdown",
   "id": "4cae1b74",
   "metadata": {},
   "source": [
    "## Developing the K-means|| algorithm"
   ]
  },
  {
   "cell_type": "markdown",
   "id": "d9f0ab6b",
   "metadata": {},
   "source": [
    "### Aux functions"
   ]
  },
  {
   "cell_type": "markdown",
   "id": "163cfb36",
   "metadata": {},
   "source": [
    "One important function here is the cost:\n",
    "\n",
    "$$\\phi_X(C) = \\sum_{x\\in X} d^2(x, C) = \\sum_{x\\in X} \\min_{i=1,..., k}||x-c_i||^2$$\n",
    "\n",
    "Notice that:\n",
    "\n",
    "$$||x-y||^2 = \\sum_j (x_j - y_j)^2 = \\sum_j x_j^2 - 2x_j y_j + y_j^2$$\n",
    "\n",
    "Then, for $x_n\\in\\{x_1, x_2, ..., x_{|X|}\\}$ and $c_m\\in{c_1, c_2, ..., c_{|C|}}$, we can define the squared distance matrix $D^2\\in\\mathbb{R}^{|X|\\times |C|}$ as:\n",
    "\n",
    "$$D^2_{nm} = ||x_n-c_m||^2 = \\sum_j x_{nj}^2 - 2x_{nj} c_{mj} + c_{mj}^2$$\n",
    "\n",
    "$$D^2_{nm} = \\sum_j x_{nj}x^T_{jn} - 2\\sum_j x_{nj} c^T_{jm} + \\sum_j c_{mj}c^T_{jm} = (XX^T)_{nn} - 2 (XC^T)_{nm} + (CC^T)_{mm}$$\n",
    "\n",
    "Furthermore, notice that if the data $X$ is fixed, then the matrix $(XX^T)$ is constant and does not depend on the choice of centroids $C$. Therefore, we may calculate the vector $(XX^T)_{nn}$ at the beggining of the process and store it so that we don't need to recalculate it every time we want to estimate the cost function."
   ]
  },
  {
   "cell_type": "code",
   "execution_count": null,
   "id": "3ffbebd3",
   "metadata": {},
   "outputs": [],
   "source": [
    "def get_first_sample(data_path):\n",
    "    '''\n",
    "    Params:\n",
    "        data_path : str\n",
    "            Path to a given data file.\n",
    "    Output:\n",
    "        Returns the first row of the given data.\n",
    "    '''\n",
    "    # Read only first row using pandas\n",
    "    return pd.read_csv(data_path, nrows=1)\n",
    "\n",
    "\n",
    "def get_XXT_term(X):\n",
    "    '''\n",
    "    Params:\n",
    "        X : Dask array or dataframe\n",
    "            Array containing data points.\n",
    "    Output:\n",
    "        Returns the self multiplication term from the\n",
    "        squared distance matrix formula.\n",
    "    '''\n",
    "    # Turn into array\n",
    "    X_da = da.array(X)\n",
    "    # Get diagonal of X*X_T\n",
    "    XXT = da.diag(da.matmul(X_da, da.transpose(X_da)))\n",
    "    return XXT\n",
    "\n",
    "\n",
    "def partial_squared_dist_matrix(C, X):\n",
    "    '''\n",
    "    Params:\n",
    "        C : Dask array or dataframe\n",
    "            Array containing centroid locations\n",
    "        X : Dask array or dataframe\n",
    "            Array containing data points.\n",
    "    Output:\n",
    "        Returns the partial squared distance matrix, \n",
    "        evaluated over the set of points X with respect \n",
    "        to the centroids C. The partial matrix is defined\n",
    "        as:\n",
    "         D'^2 = 2*XC^T + CC^T\n",
    "    '''\n",
    "    # Turn into arrays\n",
    "    X_da = da.array(X)\n",
    "    \n",
    "    # Calculate XC term\n",
    "    XC_term = da.matmul(X_da, da.transpose(C))\n",
    "\n",
    "    # Calculate CC term\n",
    "    CC_term = da.einsum('ij,ji -> i', C, da.transpose(C))\n",
    "    \n",
    "    return 2*XC_term + CC_term\n",
    "    \n",
    "\n",
    "def cost_function(C, X, XXT):\n",
    "    '''\n",
    "    Params:\n",
    "        C : Dask array or dataframe\n",
    "            Array containing centroid locations\n",
    "        X : Dask array or dataframe\n",
    "            Array containing data points.\n",
    "        XXT : Dask array or dataframe\n",
    "            Array with same number of rows as X, \n",
    "            containing the X*X^T term of the\n",
    "            squared distance matrix.\n",
    "    Output:\n",
    "        Returns the K-means cost function, evaluated\n",
    "        over the set of points X with respect to the\n",
    "        centroids C.\n",
    "    '''\n",
    "    # First, get partial squared distances\n",
    "    D2 = partial_squared_dist_matrix(C, X)\n",
    "\n",
    "    # Minimize over C axis and sum\n",
    "    D2_min_sum = da.sum(da.min(D2, axis=1))\n",
    "\n",
    "    # Add to XXT sum and return\n",
    "    return da.sum(XXT) + D2_min_sum"
   ]
  },
  {
   "cell_type": "markdown",
   "id": "b20116e7",
   "metadata": {},
   "source": [
    "### Main pipeline"
   ]
  },
  {
   "cell_type": "code",
   "execution_count": null,
   "id": "ae80b4a2",
   "metadata": {},
   "outputs": [],
   "source": [
    "# Script parameters\n",
    "RANDOM_SEED = 42\n",
    "INPUT_DATA = 'testing_data.csv'\n",
    "LABEL_COLUMN = 'label'\n",
    "NPARTITIONS = 1\n",
    "\n",
    "# Initialize random number generator from Dask and numpy seed\n",
    "rng = da.random.default_rng(RANDOM_SEED)\n",
    "np.random.seed(RANDOM_SEED)\n",
    "\n",
    "# Read input data\n",
    "data = pd.read_csv(INPUT_DATA)\n",
    "data_shape = data.shape\n",
    "\n",
    "# Separate labels from input\n",
    "if LABEL_COLUMN != None:\n",
    "    # Labels\n",
    "    future = client.scatter(data[LABEL_COLUMN])  # send labels to one worker\n",
    "    y_true = dd.from_delayed([future], meta=data[LABEL_COLUMN])  # build dask.dataframe on remote data\n",
    "    y_true = y_true.repartition(npartitions=NPARTITIONS).persist()  # split\n",
    "    client.rebalance(y_true)  # spread around all of your workers\n",
    "\n",
    "    # Input\n",
    "    X_width = data_shape[1]-1\n",
    "    X = data.drop(columns=[LABEL_COLUMN])\n",
    "    future = client.scatter(X) # send data to one worker\n",
    "    X = dd.from_delayed([future], meta=X)  # build dask.dataframe on remote data\n",
    "    X = X.repartition(npartitions=NPARTITIONS).persist()  # split\n",
    "    client.rebalance(X)  # spread around all of your workers\n",
    "    \n",
    "else:\n",
    "    # Only input\n",
    "    X_width = data_shape[1]\n",
    "    X = data\n",
    "    future = client.scatter(X) # send data to one worker\n",
    "    X = dd.from_delayed([future], meta=X, shape=data_shape)  # build dask.dataframe on remote data\n",
    "    X = X.repartition(npartitions=NPARTITIONS).persist()  # split\n",
    "    client.rebalance(X)  # spread around all of your workers\n",
    "\n",
    "# Run the K-means algorithm:\n",
    "# Get first sample as initial centroid\n",
    "first_sample = get_first_sample(INPUT_DATA)\n",
    "if LABEL_COLUMN != None:\n",
    "    first_sample = first_sample.drop(columns=[LABEL_COLUMN])\n",
    "C = da.array([np.array(first_sample).flatten()])\n",
    "\n",
    "# Calculate constant XXT term, \n",
    "# also persist since we are going to reuse it \n",
    "XXT = get_XXT_term(X).persist()\n",
    "\n",
    "# Get initial cost function\n",
    "phi_init = cost_function(C, X, XXT)\n",
    "phi_init = phi_init.compute()\n",
    "phi_init"
   ]
  },
  {
   "cell_type": "markdown",
   "id": "5813e29e",
   "metadata": {},
   "source": [
    "## Closing the client"
   ]
  },
  {
   "cell_type": "code",
   "execution_count": null,
   "id": "7d181398",
   "metadata": {},
   "outputs": [],
   "source": [
    "client.close()"
   ]
  }
 ],
 "metadata": {
  "kernelspec": {
   "display_name": "Python 3 (ipykernel)",
   "language": "python",
   "name": "python3"
  },
  "language_info": {
   "codemirror_mode": {
    "name": "ipython",
    "version": 3
   },
   "file_extension": ".py",
   "mimetype": "text/x-python",
   "name": "python",
   "nbconvert_exporter": "python",
   "pygments_lexer": "ipython3",
   "version": "3.13.3"
  }
 },
 "nbformat": 4,
 "nbformat_minor": 5
}
