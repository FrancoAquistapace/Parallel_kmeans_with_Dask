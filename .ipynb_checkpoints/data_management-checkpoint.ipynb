{
 "cells": [
  {
   "cell_type": "code",
   "execution_count": 16,
   "id": "8fa1a1a0-918b-4b59-9727-597f031386de",
   "metadata": {},
   "outputs": [],
   "source": [
    "# Import modules\n",
    "from sklearn.datasets import fetch_rcv1\n",
    "import numpy as np"
   ]
  },
  {
   "cell_type": "markdown",
   "id": "180acea2-f66b-4ddb-a712-8fa443fbd028",
   "metadata": {},
   "source": [
    "# RCV1"
   ]
  },
  {
   "cell_type": "code",
   "execution_count": 2,
   "id": "e9caaafa-6a5c-4134-bcf2-4c175ee12f0c",
   "metadata": {},
   "outputs": [],
   "source": [
    "# Load RCV1 dataset\n",
    "rcv1 = fetch_rcv1()"
   ]
  },
  {
   "cell_type": "code",
   "execution_count": 3,
   "id": "7d6a7c45-b0bd-47fd-ac43-3f493a50361b",
   "metadata": {},
   "outputs": [
    {
     "name": "stdout",
     "output_type": "stream",
     "text": [
      "dict_keys(['data', 'target', 'sample_id', 'target_names', 'DESCR'])\n"
     ]
    }
   ],
   "source": [
    "# Check available keys\n",
    "print(rcv1.keys()) "
   ]
  },
  {
   "cell_type": "code",
   "execution_count": 4,
   "id": "62d4b72f-fd9f-49d3-8ecd-b87208bb8881",
   "metadata": {},
   "outputs": [
    {
     "name": "stdout",
     "output_type": "stream",
     "text": [
      ".. _rcv1_dataset:\n",
      "\n",
      "RCV1 dataset\n",
      "------------\n",
      "\n",
      "Reuters Corpus Volume I (RCV1) is an archive of over 800,000 manually\n",
      "categorized newswire stories made available by Reuters, Ltd. for research\n",
      "purposes. The dataset is extensively described in [1]_.\n",
      "\n",
      "**Data Set Characteristics:**\n",
      "\n",
      "==============     =====================\n",
      "Classes                              103\n",
      "Samples total                     804414\n",
      "Dimensionality                     47236\n",
      "Features           real, between 0 and 1\n",
      "==============     =====================\n",
      "\n",
      ":func:`sklearn.datasets.fetch_rcv1` will load the following\n",
      "version: RCV1-v2, vectors, full sets, topics multilabels::\n",
      "\n",
      "    >>> from sklearn.datasets import fetch_rcv1\n",
      "    >>> rcv1 = fetch_rcv1()\n",
      "\n",
      "It returns a dictionary-like object, with the following attributes:\n",
      "\n",
      "``data``:\n",
      "The feature matrix is a scipy CSR sparse matrix, with 804414 samples and\n",
      "47236 features. Non-zero values contains cosine-normalized, log TF-IDF vectors.\n",
      "A nearly chronological split is proposed in [1]_: The first 23149 samples are\n",
      "the training set. The last 781265 samples are the testing set. This follows\n",
      "the official LYRL2004 chronological split. The array has 0.16% of non zero\n",
      "values::\n",
      "\n",
      "    >>> rcv1.data.shape\n",
      "    (804414, 47236)\n",
      "\n",
      "``target``:\n",
      "The target values are stored in a scipy CSR sparse matrix, with 804414 samples\n",
      "and 103 categories. Each sample has a value of 1 in its categories, and 0 in\n",
      "others. The array has 3.15% of non zero values::\n",
      "\n",
      "    >>> rcv1.target.shape\n",
      "    (804414, 103)\n",
      "\n",
      "``sample_id``:\n",
      "Each sample can be identified by its ID, ranging (with gaps) from 2286\n",
      "to 810596::\n",
      "\n",
      "    >>> rcv1.sample_id[:3]\n",
      "    array([2286, 2287, 2288], dtype=uint32)\n",
      "\n",
      "``target_names``:\n",
      "The target values are the topics of each sample. Each sample belongs to at\n",
      "least one topic, and to up to 17 topics. There are 103 topics, each\n",
      "represented by a string. Their corpus frequencies span five orders of\n",
      "magnitude, from 5 occurrences for 'GMIL', to 381327 for 'CCAT'::\n",
      "\n",
      "    >>> rcv1.target_names[:3].tolist()  # doctest: +SKIP\n",
      "    ['E11', 'ECAT', 'M11']\n",
      "\n",
      "The dataset will be downloaded from the `rcv1 homepage`_ if necessary.\n",
      "The compressed size is about 656 MB.\n",
      "\n",
      ".. _rcv1 homepage: http://jmlr.csail.mit.edu/papers/volume5/lewis04a/\n",
      "\n",
      "\n",
      ".. rubric:: References\n",
      "\n",
      ".. [1] Lewis, D. D., Yang, Y., Rose, T. G., & Li, F. (2004).\n",
      "       RCV1: A new benchmark collection for text categorization research.\n",
      "       The Journal of Machine Learning Research, 5, 361-397.\n",
      "\n"
     ]
    }
   ],
   "source": [
    "# Print dataset description\n",
    "print(rcv1.DESCR)  "
   ]
  },
  {
   "cell_type": "code",
   "execution_count": null,
   "id": "2036e37e-8ae3-474c-a26a-011f3cbfcabe",
   "metadata": {},
   "outputs": [],
   "source": []
  }
 ],
 "metadata": {
  "kernelspec": {
   "display_name": "Python 3 (ipykernel)",
   "language": "python",
   "name": "python3"
  },
  "language_info": {
   "codemirror_mode": {
    "name": "ipython",
    "version": 3
   },
   "file_extension": ".py",
   "mimetype": "text/x-python",
   "name": "python",
   "nbconvert_exporter": "python",
   "pygments_lexer": "ipython3",
   "version": "3.13.3"
  }
 },
 "nbformat": 4,
 "nbformat_minor": 5
}
